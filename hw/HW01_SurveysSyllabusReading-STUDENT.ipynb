{
 "cells": [
  {
   "cell_type": "markdown",
   "metadata": {},
   "source": [
    "# Homework 01: Surveys, Syllabus, and Reading\n",
    "\n",
    "### <p style=\"text-align: right;\"> &#9989; Ben Toaz"
   ]
  },
  {
   "cell_type": "markdown",
   "metadata": {},
   "source": [
    "\n",
    "Welcome to your first homework assignment! This assignment will help you set up the necessary tools and familiarize yourself with course materials essential for your success in this Data Science course.\n",
    "\n",
    "## Objectives\n",
    "By completing this homework, you will:\n",
    "\n",
    "* Familiarize yourself with course expectations and policies\n",
    "* Set up essential tools for the course\n",
    "* Assess your current Python knowledge\n",
    "* Begin engaging with course content"
   ]
  },
  {
   "cell_type": "markdown",
   "metadata": {
    "tags": [
     "task"
    ]
   },
   "source": [
    "## Part 1. Read Course Materials (10 points)\n",
    "\n",
    "There are three important documents for this course. In this problem you will find them, read them and summarize them.\n",
    "\n",
    "🗒️ **Task:** Read the course syllabus (available in Teams and D2L as a PDF). In a new markdown cell, summarize the portions of the syllabus regarding attendance and late assignments."
   ]
  },
  {
   "cell_type": "markdown",
   "metadata": {},
   "source": [
    "✏️ **Answer**\n",
    "\n",
    "2 excused abscences are accepted, beyond that you will be flogged. Late homeworks will receive a 10 percent penalty for each day that it is late. Late ICAs will not be accepted at all. "
   ]
  },
  {
   "cell_type": "markdown",
   "metadata": {
    "tags": [
     "task"
    ]
   },
   "source": [
    "🗒️ **Task:** Read the AI policy (PDF). In a new markdown cell, summarize what you need to do to do when you use AI for an assignment.\n",
    "\n"
   ]
  },
  {
   "cell_type": "markdown",
   "metadata": {},
   "source": [
    "✏️ **Answer**\n",
    "\n",
    "AI generated content must be cited with the name and version of the tool, along with the date."
   ]
  },
  {
   "cell_type": "markdown",
   "metadata": {
    "tags": [
     "task"
    ]
   },
   "source": [
    "🗒️ **Task:** Read the AI guide to best practices (PDF). Also in a new markdown cell, give us some feedback on your experiences using AI in the past. How well did it work? What strategies have you developed for yourself, if any? "
   ]
  },
  {
   "cell_type": "markdown",
   "metadata": {},
   "source": [
    "✏️ **Answer**\n",
    "\n",
    "I always try to use a model that is specifically trained for the task I want it to do, for instance, a python specialty model intead of a general chatbot for writing python code. This gets significantly better results than using a general tool, especially for math heavy questions. For coding prompts in general, if I have examples handy, I usually tell it to start there. If I am starting from scratch I tell the bot to give a list of libraries that do the thing I want along with example usages. Then I test out each one and tell it to expand the ones that work the best. If the bot gives suspicious answers on a particular topic (usually logical/mathematic processes), I do regular searches to verify what it's saying. When this happens I am likely to abandon the LLM as a tool entirely. It doesn't recover well when I run into those issues."
   ]
  },
  {
   "cell_type": "markdown",
   "metadata": {
    "tags": [
     "task"
    ]
   },
   "source": [
    "## Part 2. GitHub Setup (10 points)\n",
    "\n",
    "You will use GitHub for your two projects. In addition to learning an important data science tool, this will allow you to retain all of your work beyond this course and share with people around the world. \n",
    "\n",
    "🗒️ **Task:**\n",
    "* Create a GitHub account (if you don't already have one)\n",
    "* If you are not already familiar with GH:\n",
    "  * [this](https://www.youtube.com/watch?v=tRZGeaHPoaw) is a great video - watch it slowly over the next week or so\n",
    "  * and, you can complete the GitHub Hello World guide: https://guides.github.com/activities/hello-world/\n",
    "* Create a new repository for this course and call it `cmse830_fds`\n",
    "\n",
    "In the markdown cell below add your github username and repo name. "
   ]
  },
  {
   "cell_type": "markdown",
   "metadata": {},
   "source": [
    "✏️ **Answer**"
   ]
  },
  {
   "cell_type": "markdown",
   "metadata": {},
   "source": [
    "## Part 3. Initial and Python Surveys (10 points)\n",
    "\n",
    "Complete the [initial survey](https://forms.office.com/r/GNHk4SgyNg) _if you haven't already_.\n",
    "\n",
    "Complete the Python coding knowledge survey: [click here](https://forms.office.com/r/c9exRxM4aV)\n",
    "\n",
    "Put a statement in a markdown cell that you have completed both of these.\n"
   ]
  },
  {
   "cell_type": "markdown",
   "metadata": {},
   "source": [
    "✏️ **Answer**"
   ]
  },
  {
   "cell_type": "markdown",
   "metadata": {
    "tags": [
     "task"
    ]
   },
   "source": [
    "\n",
    "## Part 4. Textbook Reading (10 points)\n",
    "\n",
    "🗒️ **Task:** Read Chapter 1 of \"_Thinking Clearly with Data_\"\n",
    "* In a markdown cell, give a very high-level overview of the book\n",
    "   * what are its goals and how are those goals organized? \n",
    "   * what can you hope to get out of this book?\n",
    "* Write a brief summary (200-300 words) of the key points from Chapter 1"
   ]
  },
  {
   "cell_type": "markdown",
   "metadata": {},
   "source": [
    "✏️ **Answer**"
   ]
  },
  {
   "cell_type": "markdown",
   "metadata": {
    "tags": [
     "task"
    ]
   },
   "source": [
    "---\n",
    "## Part 5. Streamlit Setup and Test (10 points)\n",
    "\n",
    "🗒️ **Task:** We will develop web apps using [Streamlit](https://streamlit.io) throughout the semester and your projects will use this tool. \n",
    " \n",
    "Install Streamlit on your computer, follow the installation guide: https://docs.streamlit.io/library/get-started/installation\n",
    "\n",
    "Note that Streamlit is run from the command line. [Read this.](https://docs.streamlit.io/get-started/fundamentals/main-concepts) Bookmark this documentation for later in the semester. \n",
    "\n",
    "Let us know if you have any issues with this.\n",
    "\n",
    "Next, create .py files with the following two codes and ensure that these run on your computer. It is not necessary that you understand what they do; the goal here is:\n",
    "\n",
    "```python\n",
    "# Streamlit Code 1\n",
    "\n",
    "import streamlit as st\n",
    "\n",
    "st.write(\"Hello World!\")\n",
    "```\n",
    "\n",
    "```python\n",
    "# Streamlit Code 2\n",
    "\n",
    "import streamlit as st\n",
    "import pandas as pd\n",
    "import numpy as np\n",
    "\n",
    "chart_data = pd.DataFrame(\n",
    "   np.random.randn(20, 3),\n",
    "   columns=['a', 'b', 'c'])\n",
    "\n",
    "st.line_chart(chart_data)\n",
    "```\n",
    "\n",
    "1. to get Streamlit operational on your computer, and let us know where the problems are,\n",
    "2. and, see what Streamlit does and how it functions. \n",
    "\n",
    "Include screen shots to show that you got this to work. \n"
   ]
  },
  {
   "cell_type": "markdown",
   "metadata": {
    "tags": [
     "text answer"
    ]
   },
   "source": [
    "✏️ **Answer:** Put your screenshots here"
   ]
  },
  {
   "cell_type": "markdown",
   "metadata": {},
   "source": [
    "---\n",
    "## Congratulations, you're done!\n",
    "\n",
    "Submit this assignment by uploading your notebook to the course Desire2Learn web page.  Go to the \"Homework\" folder, find the appropriate submission link, and upload everything there. Make sure your name is on it!"
   ]
  },
  {
   "cell_type": "markdown",
   "metadata": {},
   "source": [
    "&#169; Copyright 2023, Department of Computational Mathematics, Science and Engineering at Michigan State University."
   ]
  }
 ],
 "metadata": {
  "kernelspec": {
   "display_name": "base",
   "language": "python",
   "name": "python3"
  },
  "language_info": {
   "codemirror_mode": {
    "name": "ipython",
    "version": 3
   },
   "file_extension": ".py",
   "mimetype": "text/x-python",
   "name": "python",
   "nbconvert_exporter": "python",
   "pygments_lexer": "ipython3",
   "version": "3.11.8"
  }
 },
 "nbformat": 4,
 "nbformat_minor": 2
}
