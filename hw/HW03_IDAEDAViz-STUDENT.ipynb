{
 "cells": [
  {
   "cell_type": "markdown",
   "metadata": {},
   "source": [
    "# <font color=#EEAA11> HW 03: Visualization, IDA and EDA </font>\n",
    "\n",
    "\n",
    "![missing](https://jenslaufer.com/figure/source/2019-02-05-visualize_missing_values_with_ggplot/unnamed-chunk-13-1.png)\n"
   ]
  },
  {
   "cell_type": "markdown",
   "metadata": {},
   "source": [
    "### Instructions for Submitting Names in Notebooks\n",
    "\n",
    "Please follow the format below when typing your names in the notebook. \n",
    "\n",
    "- Each member's name must be written in the format:  \n",
    "  **Last Name, First Name, Second Name**\n",
    "\n",
    "#### Example:\n",
    "    Poe, Edgar Allan\n",
    "\n",
    "> ⚠️ **Failure to follow this format will result in a reduction of your grade.**\n"
   ]
  },
  {
   "cell_type": "markdown",
   "metadata": {},
   "source": [
    "Toaz, Benjamin Ryan"
   ]
  },
  {
   "cell_type": "markdown",
   "metadata": {},
   "source": [
    "\n",
    "## <font color=#00BBFF> Problem #1 - IDA (10 pts) </font>\n",
    "\n",
    "In this problem you are going to explore IDA: Initial Data Analysis, which is can be defined many ways, but we will assume it contains these steps:\n",
    "* Data collection and importation\n",
    "* Data cleaning and preprocessing\n",
    "* Variable identification and classification\n",
    "* Basic descriptive statistics\n",
    "* Data quality assessment\n",
    "* Missing data analysis\n",
    "* Outlier detection\n",
    "\n",
    "🤓 Follow these steps:\n",
    "* import the planets dataset, which is in Seaborn\n",
    "    - in this case, the data has been collected for us and you simply need to import it into a Pandas dataframe\n",
    "* based on your initial assessment of this dataset, how should it be cleaned and processed? discuss your observations in a markdown cell and write the code to complete this task\n",
    "* what types of variables are there? ordinal? categorical? cardinal? add this to your discussion in the markdown cell\n",
    "* find the statistics of the different features of the data; what simple methods are in Pandas are there for this? are there variables for which this doesn't make sense? do any of them need to be encoded? \n",
    "* based on what you see so far, what is the quality of this data? basic IDA for this might include using `.describe` and `.info` \n",
    "* did you note any missing data? make a heat map of this dataset that shows missing values (I have given an example code for this in the past, but feel free to write your own); \n",
    "* for each feature/column for which it makes sense, scale the column using the z-score and print the number of outliers for that column (that is, how many rows in the column have values $<-3$ or $>3$ after scaling?)\n",
    "\n",
    "\n",
    "\n",
    "These IDA steps have already revealed important properties of this dataset. You will want to follow these steps for your project and document what you found. A nice feature of a web app is to have a tab, perhaps called \"Dataset(s)\", that describes the dataset(s) used for the app. \n",
    "____\n",
    "\n",
    "Next, let's examine EDA, which follows the IDA steps. Let's summarize IDA in a table and compare to EDA:"
   ]
  },
  {
   "cell_type": "markdown",
   "metadata": {},
   "source": [
    "| Phase | Step | Key Activities |\n",
    "|-------|------|----------------|\n",
    "| IDA | 1. Data collection and importation | - Gather data from various sources<br>- Import data into analysis environment (e.g., Python, R) |\n",
    "| IDA | 2. Data cleaning and preprocessing | - Handle missing values<br>- Remove duplicates<br>- Correct data types<br>- Standardize formats |\n",
    "| IDA | 3. Variable identification and classification | - Identify dependent and independent variables<br>- Classify variables (numeric, categorical, etc.)<br>- Understand the meaning of each variable |\n",
    "| IDA | 4. Basic descriptive statistics | - Calculate mean, median, mode<br>- Determine range, variance, standard deviation<br>- Identify minimum and maximum values |\n",
    "| IDA | 5. Data quality assessment | - Check for inconsistencies<br>- Verify data accuracy<br>- Assess data completeness |\n",
    "| IDA | 6. Missing data analysis | - Quantify missing data<br>- Identify patterns in missing data<br>- Decide on imputation strategy if necessary |\n",
    "| IDA | 7. Outlier detection | - Identify potential outliers<br>- Assess impact of outliers<br>- Decide on treatment of outliers |\n",
    "| EDA | 1. Univariate analysis | - Create histograms, box plots for numeric variables<br>- Generate bar charts for categorical variables<br>- Calculate summary statistics |\n",
    "| EDA | 2. Bivariate analysis | - Create scatter plots<br>- Perform cross-tabulations<br>- Calculate correlations between pairs of variables |\n",
    "| EDA | 3. Multivariate analysis | - Use dimensionality reduction techniques (e.g., PCA)<br>- Create pair plots or correlation matrices<br>- Explore interactions between multiple variables |\n",
    "| EDA | 4. Correlation analysis | - Calculate correlation coefficients<br>- Create correlation heatmaps<br>- Identify strongly correlated variables |\n",
    "| EDA | 5. Dimensionality assessment | - Evaluate number of features vs. observations<br>- Consider feature selection or extraction methods<br>- Assess impact of high dimensionality on analysis |\n",
    "| EDA | 6. Pattern and trend identification | - Look for temporal trends in time series data<br>- Identify seasonal patterns<br>- Detect clusters or groupings in the data |\n",
    "| EDA | 7. Hypothesis generation | - Formulate potential relationships between variables<br>- Develop questions for further investigation<br>- Identify areas for more detailed statistical analysis |\n",
    "\n",
    "Note: The boundary between IDA and EDA can be fluid, and some activities may overlap or be performed iteratively throughout the analysis process."
   ]
  },
  {
   "cell_type": "code",
   "execution_count": 1,
   "metadata": {},
   "outputs": [
    {
     "data": {
      "application/vnd.microsoft.datawrangler.viewer.v0+json": {
       "columns": [
        {
         "name": "index",
         "rawType": "int64",
         "type": "integer"
        },
        {
         "name": "method",
         "rawType": "object",
         "type": "string"
        },
        {
         "name": "number",
         "rawType": "int64",
         "type": "integer"
        },
        {
         "name": "orbital_period",
         "rawType": "float64",
         "type": "float"
        },
        {
         "name": "mass",
         "rawType": "float64",
         "type": "float"
        },
        {
         "name": "distance",
         "rawType": "float64",
         "type": "float"
        },
        {
         "name": "year",
         "rawType": "int64",
         "type": "integer"
        }
       ],
       "ref": "044086b2-89bb-43d1-8196-cb01dda3990e",
       "rows": [
        [
         "0",
         "Radial Velocity",
         "1",
         "269.3",
         "7.1",
         "77.4",
         "2006"
        ],
        [
         "1",
         "Radial Velocity",
         "1",
         "874.774",
         "2.21",
         "56.95",
         "2008"
        ],
        [
         "2",
         "Radial Velocity",
         "1",
         "763.0",
         "2.6",
         "19.84",
         "2011"
        ],
        [
         "3",
         "Radial Velocity",
         "1",
         "326.03",
         "19.4",
         "110.62",
         "2007"
        ],
        [
         "4",
         "Radial Velocity",
         "1",
         "516.22",
         "10.5",
         "119.47",
         "2009"
        ],
        [
         "5",
         "Radial Velocity",
         "1",
         "185.84",
         "4.8",
         "76.39",
         "2008"
        ],
        [
         "6",
         "Radial Velocity",
         "1",
         "1773.4",
         "4.64",
         "18.15",
         "2002"
        ],
        [
         "7",
         "Radial Velocity",
         "1",
         "798.5",
         null,
         "21.41",
         "1996"
        ],
        [
         "8",
         "Radial Velocity",
         "1",
         "993.3",
         "10.3",
         "73.1",
         "2008"
        ],
        [
         "9",
         "Radial Velocity",
         "2",
         "452.8",
         "1.99",
         "74.79",
         "2010"
        ],
        [
         "10",
         "Radial Velocity",
         "2",
         "883.0",
         "0.86",
         "74.79",
         "2010"
        ],
        [
         "11",
         "Radial Velocity",
         "1",
         "335.1",
         "9.88",
         "39.43",
         "2009"
        ],
        [
         "12",
         "Radial Velocity",
         "1",
         "479.1",
         "3.88",
         "97.28",
         "2008"
        ],
        [
         "13",
         "Radial Velocity",
         "3",
         "1078.0",
         "2.53",
         "14.08",
         "1996"
        ],
        [
         "14",
         "Radial Velocity",
         "3",
         "2391.0",
         "0.54",
         "14.08",
         "2001"
        ],
        [
         "15",
         "Radial Velocity",
         "3",
         "14002.0",
         "1.64",
         "14.08",
         "2009"
        ],
        [
         "16",
         "Radial Velocity",
         "1",
         "4.230785",
         "0.472",
         "15.36",
         "1995"
        ],
        [
         "17",
         "Radial Velocity",
         "5",
         "14.651",
         "0.8",
         "12.53",
         "1996"
        ],
        [
         "18",
         "Radial Velocity",
         "5",
         "44.38",
         "0.165",
         "12.53",
         "2004"
        ],
        [
         "19",
         "Radial Velocity",
         "5",
         "4909.0",
         "3.53",
         "12.53",
         "2002"
        ],
        [
         "20",
         "Radial Velocity",
         "5",
         "0.73654",
         null,
         "12.53",
         "2011"
        ],
        [
         "21",
         "Radial Velocity",
         "5",
         "261.2",
         "0.172",
         "12.53",
         "2007"
        ],
        [
         "22",
         "Radial Velocity",
         "3",
         "4.215",
         "0.016",
         "8.52",
         "2009"
        ],
        [
         "23",
         "Radial Velocity",
         "3",
         "38.021",
         "0.057",
         "8.52",
         "2009"
        ],
        [
         "24",
         "Radial Velocity",
         "3",
         "123.01",
         "0.072",
         "8.52",
         "2009"
        ],
        [
         "25",
         "Radial Velocity",
         "1",
         "116.6884",
         null,
         "18.11",
         "1996"
        ],
        [
         "26",
         "Radial Velocity",
         "1",
         "691.9",
         null,
         "81.5",
         "2012"
        ],
        [
         "27",
         "Radial Velocity",
         "1",
         "952.7",
         "5.3",
         "97.18",
         "2008"
        ],
        [
         "28",
         "Radial Velocity",
         "1",
         "181.4",
         "3.2",
         "45.52",
         "2013"
        ],
        [
         "29",
         "Imaging",
         "1",
         null,
         null,
         "45.52",
         "2005"
        ],
        [
         "30",
         "Imaging",
         "1",
         null,
         null,
         "165.0",
         "2007"
        ],
        [
         "31",
         "Imaging",
         "1",
         null,
         null,
         "140.0",
         "2004"
        ],
        [
         "32",
         "Eclipse Timing Variations",
         "1",
         "10220.0",
         "6.05",
         null,
         "2009"
        ],
        [
         "33",
         "Imaging",
         "1",
         null,
         null,
         null,
         "2008"
        ],
        [
         "34",
         "Imaging",
         "1",
         null,
         null,
         "145.0",
         "2013"
        ],
        [
         "35",
         "Imaging",
         "1",
         null,
         null,
         "139.0",
         "2004"
        ],
        [
         "36",
         "Imaging",
         "1",
         null,
         null,
         "18.39",
         "2006"
        ],
        [
         "37",
         "Eclipse Timing Variations",
         "2",
         "5767.0",
         null,
         "130.72",
         "2008"
        ],
        [
         "38",
         "Eclipse Timing Variations",
         "2",
         "3321.0",
         null,
         "130.72",
         "2008"
        ],
        [
         "39",
         "Eclipse Timing Variations",
         "2",
         "5573.55",
         null,
         "500.0",
         "2010"
        ],
        [
         "40",
         "Eclipse Timing Variations",
         "2",
         "2883.5",
         null,
         "500.0",
         "2010"
        ],
        [
         "41",
         "Eclipse Timing Variations",
         "1",
         "2900.0",
         null,
         null,
         "2011"
        ],
        [
         "42",
         "Eclipse Timing Variations",
         "1",
         "4343.5",
         "4.2",
         null,
         "2012"
        ],
        [
         "43",
         "Eclipse Timing Variations",
         "2",
         "5840.0",
         null,
         null,
         "2011"
        ],
        [
         "44",
         "Eclipse Timing Variations",
         "2",
         "1916.25",
         null,
         null,
         "2011"
        ],
        [
         "45",
         "Radial Velocity",
         "1",
         "380.8",
         "1.8",
         "20.21",
         "2010"
        ],
        [
         "46",
         "Radial Velocity",
         "1",
         "3.2357",
         "0.0036",
         "1.35",
         "2012"
        ],
        [
         "47",
         "Imaging",
         "1",
         "6000.0",
         null,
         "19.28",
         "2008"
        ],
        [
         "48",
         "Radial Velocity",
         "1",
         "2502.0",
         "1.55",
         "3.22",
         "2000"
        ],
        [
         "49",
         "Radial Velocity",
         "1",
         "417.9",
         null,
         "70.42",
         "2012"
        ]
       ],
       "shape": {
        "columns": 6,
        "rows": 1035
       }
      },
      "text/html": [
       "<div>\n",
       "<style scoped>\n",
       "    .dataframe tbody tr th:only-of-type {\n",
       "        vertical-align: middle;\n",
       "    }\n",
       "\n",
       "    .dataframe tbody tr th {\n",
       "        vertical-align: top;\n",
       "    }\n",
       "\n",
       "    .dataframe thead th {\n",
       "        text-align: right;\n",
       "    }\n",
       "</style>\n",
       "<table border=\"1\" class=\"dataframe\">\n",
       "  <thead>\n",
       "    <tr style=\"text-align: right;\">\n",
       "      <th></th>\n",
       "      <th>method</th>\n",
       "      <th>number</th>\n",
       "      <th>orbital_period</th>\n",
       "      <th>mass</th>\n",
       "      <th>distance</th>\n",
       "      <th>year</th>\n",
       "    </tr>\n",
       "  </thead>\n",
       "  <tbody>\n",
       "    <tr>\n",
       "      <th>0</th>\n",
       "      <td>Radial Velocity</td>\n",
       "      <td>1</td>\n",
       "      <td>269.300000</td>\n",
       "      <td>7.10</td>\n",
       "      <td>77.40</td>\n",
       "      <td>2006</td>\n",
       "    </tr>\n",
       "    <tr>\n",
       "      <th>1</th>\n",
       "      <td>Radial Velocity</td>\n",
       "      <td>1</td>\n",
       "      <td>874.774000</td>\n",
       "      <td>2.21</td>\n",
       "      <td>56.95</td>\n",
       "      <td>2008</td>\n",
       "    </tr>\n",
       "    <tr>\n",
       "      <th>2</th>\n",
       "      <td>Radial Velocity</td>\n",
       "      <td>1</td>\n",
       "      <td>763.000000</td>\n",
       "      <td>2.60</td>\n",
       "      <td>19.84</td>\n",
       "      <td>2011</td>\n",
       "    </tr>\n",
       "    <tr>\n",
       "      <th>3</th>\n",
       "      <td>Radial Velocity</td>\n",
       "      <td>1</td>\n",
       "      <td>326.030000</td>\n",
       "      <td>19.40</td>\n",
       "      <td>110.62</td>\n",
       "      <td>2007</td>\n",
       "    </tr>\n",
       "    <tr>\n",
       "      <th>4</th>\n",
       "      <td>Radial Velocity</td>\n",
       "      <td>1</td>\n",
       "      <td>516.220000</td>\n",
       "      <td>10.50</td>\n",
       "      <td>119.47</td>\n",
       "      <td>2009</td>\n",
       "    </tr>\n",
       "    <tr>\n",
       "      <th>...</th>\n",
       "      <td>...</td>\n",
       "      <td>...</td>\n",
       "      <td>...</td>\n",
       "      <td>...</td>\n",
       "      <td>...</td>\n",
       "      <td>...</td>\n",
       "    </tr>\n",
       "    <tr>\n",
       "      <th>1030</th>\n",
       "      <td>Transit</td>\n",
       "      <td>1</td>\n",
       "      <td>3.941507</td>\n",
       "      <td>NaN</td>\n",
       "      <td>172.00</td>\n",
       "      <td>2006</td>\n",
       "    </tr>\n",
       "    <tr>\n",
       "      <th>1031</th>\n",
       "      <td>Transit</td>\n",
       "      <td>1</td>\n",
       "      <td>2.615864</td>\n",
       "      <td>NaN</td>\n",
       "      <td>148.00</td>\n",
       "      <td>2007</td>\n",
       "    </tr>\n",
       "    <tr>\n",
       "      <th>1032</th>\n",
       "      <td>Transit</td>\n",
       "      <td>1</td>\n",
       "      <td>3.191524</td>\n",
       "      <td>NaN</td>\n",
       "      <td>174.00</td>\n",
       "      <td>2007</td>\n",
       "    </tr>\n",
       "    <tr>\n",
       "      <th>1033</th>\n",
       "      <td>Transit</td>\n",
       "      <td>1</td>\n",
       "      <td>4.125083</td>\n",
       "      <td>NaN</td>\n",
       "      <td>293.00</td>\n",
       "      <td>2008</td>\n",
       "    </tr>\n",
       "    <tr>\n",
       "      <th>1034</th>\n",
       "      <td>Transit</td>\n",
       "      <td>1</td>\n",
       "      <td>4.187757</td>\n",
       "      <td>NaN</td>\n",
       "      <td>260.00</td>\n",
       "      <td>2008</td>\n",
       "    </tr>\n",
       "  </tbody>\n",
       "</table>\n",
       "<p>1035 rows × 6 columns</p>\n",
       "</div>"
      ],
      "text/plain": [
       "               method  number  orbital_period   mass  distance  year\n",
       "0     Radial Velocity       1      269.300000   7.10     77.40  2006\n",
       "1     Radial Velocity       1      874.774000   2.21     56.95  2008\n",
       "2     Radial Velocity       1      763.000000   2.60     19.84  2011\n",
       "3     Radial Velocity       1      326.030000  19.40    110.62  2007\n",
       "4     Radial Velocity       1      516.220000  10.50    119.47  2009\n",
       "...               ...     ...             ...    ...       ...   ...\n",
       "1030          Transit       1        3.941507    NaN    172.00  2006\n",
       "1031          Transit       1        2.615864    NaN    148.00  2007\n",
       "1032          Transit       1        3.191524    NaN    174.00  2007\n",
       "1033          Transit       1        4.125083    NaN    293.00  2008\n",
       "1034          Transit       1        4.187757    NaN    260.00  2008\n",
       "\n",
       "[1035 rows x 6 columns]"
      ]
     },
     "execution_count": 1,
     "metadata": {},
     "output_type": "execute_result"
    }
   ],
   "source": [
    "# * import the planets dataset, which is in Seaborn\n",
    "#     - in this case, the data has been collected for us and you simply need to import it into a Pandas dataframe\n",
    "\n",
    "import seaborn as sns\n",
    "df = sns.load_dataset(\"planets\")\n",
    "df"
   ]
  },
  {
   "cell_type": "code",
   "execution_count": 2,
   "metadata": {},
   "outputs": [
    {
     "name": "stdout",
     "output_type": "stream",
     "text": [
      "['Astrometry' 'Eclipse Timing Variations' 'Imaging' 'Microlensing'\n",
      " 'Orbital Brightness Modulation' 'Pulsar Timing'\n",
      " 'Pulsation Timing Variations' 'Radial Velocity' 'Transit'\n",
      " 'Transit Timing Variations']\n"
     ]
    },
    {
     "data": {
      "application/vnd.microsoft.datawrangler.viewer.v0+json": {
       "columns": [
        {
         "name": "index",
         "rawType": "int64",
         "type": "integer"
        },
        {
         "name": "method",
         "rawType": "int64",
         "type": "integer"
        },
        {
         "name": "number",
         "rawType": "int64",
         "type": "integer"
        },
        {
         "name": "orbital_period",
         "rawType": "float64",
         "type": "float"
        },
        {
         "name": "mass",
         "rawType": "float64",
         "type": "float"
        },
        {
         "name": "distance",
         "rawType": "float64",
         "type": "float"
        },
        {
         "name": "year",
         "rawType": "int64",
         "type": "integer"
        }
       ],
       "ref": "9b47d298-73df-4142-9b43-753102f81678",
       "rows": [
        [
         "0",
         "7",
         "1",
         "269.3",
         "7.1",
         "77.4",
         "2006"
        ],
        [
         "1",
         "7",
         "1",
         "874.774",
         "2.21",
         "56.95",
         "2008"
        ],
        [
         "2",
         "7",
         "1",
         "763.0",
         "2.6",
         "19.84",
         "2011"
        ],
        [
         "3",
         "7",
         "1",
         "326.03",
         "19.4",
         "110.62",
         "2007"
        ],
        [
         "4",
         "7",
         "1",
         "516.22",
         "10.5",
         "119.47",
         "2009"
        ],
        [
         "5",
         "7",
         "1",
         "185.84",
         "4.8",
         "76.39",
         "2008"
        ],
        [
         "6",
         "7",
         "1",
         "1773.4",
         "4.64",
         "18.15",
         "2002"
        ],
        [
         "7",
         "7",
         "1",
         "798.5",
         null,
         "21.41",
         "1996"
        ],
        [
         "8",
         "7",
         "1",
         "993.3",
         "10.3",
         "73.1",
         "2008"
        ],
        [
         "9",
         "7",
         "2",
         "452.8",
         "1.99",
         "74.79",
         "2010"
        ],
        [
         "10",
         "7",
         "2",
         "883.0",
         "0.86",
         "74.79",
         "2010"
        ],
        [
         "11",
         "7",
         "1",
         "335.1",
         "9.88",
         "39.43",
         "2009"
        ],
        [
         "12",
         "7",
         "1",
         "479.1",
         "3.88",
         "97.28",
         "2008"
        ],
        [
         "13",
         "7",
         "3",
         "1078.0",
         "2.53",
         "14.08",
         "1996"
        ],
        [
         "14",
         "7",
         "3",
         "2391.0",
         "0.54",
         "14.08",
         "2001"
        ],
        [
         "15",
         "7",
         "3",
         "14002.0",
         "1.64",
         "14.08",
         "2009"
        ],
        [
         "16",
         "7",
         "1",
         "4.230785",
         "0.472",
         "15.36",
         "1995"
        ],
        [
         "17",
         "7",
         "5",
         "14.651",
         "0.8",
         "12.53",
         "1996"
        ],
        [
         "18",
         "7",
         "5",
         "44.38",
         "0.165",
         "12.53",
         "2004"
        ],
        [
         "19",
         "7",
         "5",
         "4909.0",
         "3.53",
         "12.53",
         "2002"
        ],
        [
         "20",
         "7",
         "5",
         "0.73654",
         null,
         "12.53",
         "2011"
        ],
        [
         "21",
         "7",
         "5",
         "261.2",
         "0.172",
         "12.53",
         "2007"
        ],
        [
         "22",
         "7",
         "3",
         "4.215",
         "0.016",
         "8.52",
         "2009"
        ],
        [
         "23",
         "7",
         "3",
         "38.021",
         "0.057",
         "8.52",
         "2009"
        ],
        [
         "24",
         "7",
         "3",
         "123.01",
         "0.072",
         "8.52",
         "2009"
        ],
        [
         "25",
         "7",
         "1",
         "116.6884",
         null,
         "18.11",
         "1996"
        ],
        [
         "26",
         "7",
         "1",
         "691.9",
         null,
         "81.5",
         "2012"
        ],
        [
         "27",
         "7",
         "1",
         "952.7",
         "5.3",
         "97.18",
         "2008"
        ],
        [
         "28",
         "7",
         "1",
         "181.4",
         "3.2",
         "45.52",
         "2013"
        ],
        [
         "29",
         "2",
         "1",
         null,
         null,
         "45.52",
         "2005"
        ],
        [
         "30",
         "2",
         "1",
         null,
         null,
         "165.0",
         "2007"
        ],
        [
         "31",
         "2",
         "1",
         null,
         null,
         "140.0",
         "2004"
        ],
        [
         "32",
         "1",
         "1",
         "10220.0",
         "6.05",
         null,
         "2009"
        ],
        [
         "33",
         "2",
         "1",
         null,
         null,
         null,
         "2008"
        ],
        [
         "34",
         "2",
         "1",
         null,
         null,
         "145.0",
         "2013"
        ],
        [
         "35",
         "2",
         "1",
         null,
         null,
         "139.0",
         "2004"
        ],
        [
         "36",
         "2",
         "1",
         null,
         null,
         "18.39",
         "2006"
        ],
        [
         "37",
         "1",
         "2",
         "5767.0",
         null,
         "130.72",
         "2008"
        ],
        [
         "38",
         "1",
         "2",
         "3321.0",
         null,
         "130.72",
         "2008"
        ],
        [
         "39",
         "1",
         "2",
         "5573.55",
         null,
         "500.0",
         "2010"
        ],
        [
         "40",
         "1",
         "2",
         "2883.5",
         null,
         "500.0",
         "2010"
        ],
        [
         "41",
         "1",
         "1",
         "2900.0",
         null,
         null,
         "2011"
        ],
        [
         "42",
         "1",
         "1",
         "4343.5",
         "4.2",
         null,
         "2012"
        ],
        [
         "43",
         "1",
         "2",
         "5840.0",
         null,
         null,
         "2011"
        ],
        [
         "44",
         "1",
         "2",
         "1916.25",
         null,
         null,
         "2011"
        ],
        [
         "45",
         "7",
         "1",
         "380.8",
         "1.8",
         "20.21",
         "2010"
        ],
        [
         "46",
         "7",
         "1",
         "3.2357",
         "0.0036",
         "1.35",
         "2012"
        ],
        [
         "47",
         "2",
         "1",
         "6000.0",
         null,
         "19.28",
         "2008"
        ],
        [
         "48",
         "7",
         "1",
         "2502.0",
         "1.55",
         "3.22",
         "2000"
        ],
        [
         "49",
         "7",
         "1",
         "417.9",
         null,
         "70.42",
         "2012"
        ]
       ],
       "shape": {
        "columns": 6,
        "rows": 1035
       }
      },
      "text/html": [
       "<div>\n",
       "<style scoped>\n",
       "    .dataframe tbody tr th:only-of-type {\n",
       "        vertical-align: middle;\n",
       "    }\n",
       "\n",
       "    .dataframe tbody tr th {\n",
       "        vertical-align: top;\n",
       "    }\n",
       "\n",
       "    .dataframe thead th {\n",
       "        text-align: right;\n",
       "    }\n",
       "</style>\n",
       "<table border=\"1\" class=\"dataframe\">\n",
       "  <thead>\n",
       "    <tr style=\"text-align: right;\">\n",
       "      <th></th>\n",
       "      <th>method</th>\n",
       "      <th>number</th>\n",
       "      <th>orbital_period</th>\n",
       "      <th>mass</th>\n",
       "      <th>distance</th>\n",
       "      <th>year</th>\n",
       "    </tr>\n",
       "  </thead>\n",
       "  <tbody>\n",
       "    <tr>\n",
       "      <th>0</th>\n",
       "      <td>7</td>\n",
       "      <td>1</td>\n",
       "      <td>269.300000</td>\n",
       "      <td>7.10</td>\n",
       "      <td>77.40</td>\n",
       "      <td>2006</td>\n",
       "    </tr>\n",
       "    <tr>\n",
       "      <th>1</th>\n",
       "      <td>7</td>\n",
       "      <td>1</td>\n",
       "      <td>874.774000</td>\n",
       "      <td>2.21</td>\n",
       "      <td>56.95</td>\n",
       "      <td>2008</td>\n",
       "    </tr>\n",
       "    <tr>\n",
       "      <th>2</th>\n",
       "      <td>7</td>\n",
       "      <td>1</td>\n",
       "      <td>763.000000</td>\n",
       "      <td>2.60</td>\n",
       "      <td>19.84</td>\n",
       "      <td>2011</td>\n",
       "    </tr>\n",
       "    <tr>\n",
       "      <th>3</th>\n",
       "      <td>7</td>\n",
       "      <td>1</td>\n",
       "      <td>326.030000</td>\n",
       "      <td>19.40</td>\n",
       "      <td>110.62</td>\n",
       "      <td>2007</td>\n",
       "    </tr>\n",
       "    <tr>\n",
       "      <th>4</th>\n",
       "      <td>7</td>\n",
       "      <td>1</td>\n",
       "      <td>516.220000</td>\n",
       "      <td>10.50</td>\n",
       "      <td>119.47</td>\n",
       "      <td>2009</td>\n",
       "    </tr>\n",
       "    <tr>\n",
       "      <th>...</th>\n",
       "      <td>...</td>\n",
       "      <td>...</td>\n",
       "      <td>...</td>\n",
       "      <td>...</td>\n",
       "      <td>...</td>\n",
       "      <td>...</td>\n",
       "    </tr>\n",
       "    <tr>\n",
       "      <th>1030</th>\n",
       "      <td>8</td>\n",
       "      <td>1</td>\n",
       "      <td>3.941507</td>\n",
       "      <td>NaN</td>\n",
       "      <td>172.00</td>\n",
       "      <td>2006</td>\n",
       "    </tr>\n",
       "    <tr>\n",
       "      <th>1031</th>\n",
       "      <td>8</td>\n",
       "      <td>1</td>\n",
       "      <td>2.615864</td>\n",
       "      <td>NaN</td>\n",
       "      <td>148.00</td>\n",
       "      <td>2007</td>\n",
       "    </tr>\n",
       "    <tr>\n",
       "      <th>1032</th>\n",
       "      <td>8</td>\n",
       "      <td>1</td>\n",
       "      <td>3.191524</td>\n",
       "      <td>NaN</td>\n",
       "      <td>174.00</td>\n",
       "      <td>2007</td>\n",
       "    </tr>\n",
       "    <tr>\n",
       "      <th>1033</th>\n",
       "      <td>8</td>\n",
       "      <td>1</td>\n",
       "      <td>4.125083</td>\n",
       "      <td>NaN</td>\n",
       "      <td>293.00</td>\n",
       "      <td>2008</td>\n",
       "    </tr>\n",
       "    <tr>\n",
       "      <th>1034</th>\n",
       "      <td>8</td>\n",
       "      <td>1</td>\n",
       "      <td>4.187757</td>\n",
       "      <td>NaN</td>\n",
       "      <td>260.00</td>\n",
       "      <td>2008</td>\n",
       "    </tr>\n",
       "  </tbody>\n",
       "</table>\n",
       "<p>1035 rows × 6 columns</p>\n",
       "</div>"
      ],
      "text/plain": [
       "      method  number  orbital_period   mass  distance  year\n",
       "0          7       1      269.300000   7.10     77.40  2006\n",
       "1          7       1      874.774000   2.21     56.95  2008\n",
       "2          7       1      763.000000   2.60     19.84  2011\n",
       "3          7       1      326.030000  19.40    110.62  2007\n",
       "4          7       1      516.220000  10.50    119.47  2009\n",
       "...      ...     ...             ...    ...       ...   ...\n",
       "1030       8       1        3.941507    NaN    172.00  2006\n",
       "1031       8       1        2.615864    NaN    148.00  2007\n",
       "1032       8       1        3.191524    NaN    174.00  2007\n",
       "1033       8       1        4.125083    NaN    293.00  2008\n",
       "1034       8       1        4.187757    NaN    260.00  2008\n",
       "\n",
       "[1035 rows x 6 columns]"
      ]
     },
     "execution_count": 2,
     "metadata": {},
     "output_type": "execute_result"
    }
   ],
   "source": [
    "# * based on your initial assessment of this dataset, how should it be cleaned and processed? discuss your observations in a markdown cell and write the code to complete this task\n",
    "# * what types of variables are there? ordinal? categorical? cardinal? add this to your discussion in the markdown cell\n",
    "from sklearn.preprocessing import LabelEncoder\n",
    "\n",
    "le = LabelEncoder()\n",
    "df['method'] = le.fit_transform(df['method'])\n",
    "\n",
    "print(le.classes_)\n",
    "df"
   ]
  },
  {
   "cell_type": "markdown",
   "metadata": {},
   "source": [
    "The data itself doesn't requre too much cleaning since it is mostly numerical data. The categorical method feature should be encoded using the ordinal encoder, but this is the only cleaning that is needed. The missing values should be imputed, but I will wait to do this since it hasn't been covered yet."
   ]
  },
  {
   "cell_type": "code",
   "execution_count": 3,
   "metadata": {},
   "outputs": [
    {
     "data": {
      "application/vnd.microsoft.datawrangler.viewer.v0+json": {
       "columns": [
        {
         "name": "index",
         "rawType": "object",
         "type": "string"
        },
        {
         "name": "method",
         "rawType": "float64",
         "type": "float"
        },
        {
         "name": "number",
         "rawType": "float64",
         "type": "float"
        },
        {
         "name": "orbital_period",
         "rawType": "float64",
         "type": "float"
        },
        {
         "name": "mass",
         "rawType": "float64",
         "type": "float"
        },
        {
         "name": "distance",
         "rawType": "float64",
         "type": "float"
        },
        {
         "name": "year",
         "rawType": "float64",
         "type": "float"
        }
       ],
       "ref": "4c5156d7-5e8a-46b7-aaae-7c3082543a43",
       "rows": [
        [
         "count",
         "1035.0",
         "1035.0",
         "992.0",
         "513.0",
         "808.0",
         "1035.0"
        ],
        [
         "mean",
         "7.033816425120773",
         "1.7855072463768116",
         "2002.9175960947582",
         "2.6381605847953216",
         "264.06928217821786",
         "2009.0705314009663"
        ],
        [
         "std",
         "1.45858905655437",
         "1.2409761743386776",
         "26014.728304062508",
         "3.8186166509616046",
         "733.1164929404421",
         "3.972566857202212"
        ],
        [
         "min",
         "0.0",
         "1.0",
         "0.09070629",
         "0.0036",
         "1.35",
         "1989.0"
        ],
        [
         "25%",
         "7.0",
         "1.0",
         "5.4425405",
         "0.229",
         "32.56",
         "2007.0"
        ],
        [
         "50%",
         "7.0",
         "1.0",
         "39.9795",
         "1.26",
         "55.25",
         "2010.0"
        ],
        [
         "75%",
         "8.0",
         "2.0",
         "526.005",
         "3.04",
         "178.5",
         "2012.0"
        ],
        [
         "max",
         "9.0",
         "7.0",
         "730000.0",
         "25.0",
         "8500.0",
         "2014.0"
        ]
       ],
       "shape": {
        "columns": 6,
        "rows": 8
       }
      },
      "text/html": [
       "<div>\n",
       "<style scoped>\n",
       "    .dataframe tbody tr th:only-of-type {\n",
       "        vertical-align: middle;\n",
       "    }\n",
       "\n",
       "    .dataframe tbody tr th {\n",
       "        vertical-align: top;\n",
       "    }\n",
       "\n",
       "    .dataframe thead th {\n",
       "        text-align: right;\n",
       "    }\n",
       "</style>\n",
       "<table border=\"1\" class=\"dataframe\">\n",
       "  <thead>\n",
       "    <tr style=\"text-align: right;\">\n",
       "      <th></th>\n",
       "      <th>method</th>\n",
       "      <th>number</th>\n",
       "      <th>orbital_period</th>\n",
       "      <th>mass</th>\n",
       "      <th>distance</th>\n",
       "      <th>year</th>\n",
       "    </tr>\n",
       "  </thead>\n",
       "  <tbody>\n",
       "    <tr>\n",
       "      <th>count</th>\n",
       "      <td>1035.000000</td>\n",
       "      <td>1035.000000</td>\n",
       "      <td>992.000000</td>\n",
       "      <td>513.000000</td>\n",
       "      <td>808.000000</td>\n",
       "      <td>1035.000000</td>\n",
       "    </tr>\n",
       "    <tr>\n",
       "      <th>mean</th>\n",
       "      <td>7.033816</td>\n",
       "      <td>1.785507</td>\n",
       "      <td>2002.917596</td>\n",
       "      <td>2.638161</td>\n",
       "      <td>264.069282</td>\n",
       "      <td>2009.070531</td>\n",
       "    </tr>\n",
       "    <tr>\n",
       "      <th>std</th>\n",
       "      <td>1.458589</td>\n",
       "      <td>1.240976</td>\n",
       "      <td>26014.728304</td>\n",
       "      <td>3.818617</td>\n",
       "      <td>733.116493</td>\n",
       "      <td>3.972567</td>\n",
       "    </tr>\n",
       "    <tr>\n",
       "      <th>min</th>\n",
       "      <td>0.000000</td>\n",
       "      <td>1.000000</td>\n",
       "      <td>0.090706</td>\n",
       "      <td>0.003600</td>\n",
       "      <td>1.350000</td>\n",
       "      <td>1989.000000</td>\n",
       "    </tr>\n",
       "    <tr>\n",
       "      <th>25%</th>\n",
       "      <td>7.000000</td>\n",
       "      <td>1.000000</td>\n",
       "      <td>5.442540</td>\n",
       "      <td>0.229000</td>\n",
       "      <td>32.560000</td>\n",
       "      <td>2007.000000</td>\n",
       "    </tr>\n",
       "    <tr>\n",
       "      <th>50%</th>\n",
       "      <td>7.000000</td>\n",
       "      <td>1.000000</td>\n",
       "      <td>39.979500</td>\n",
       "      <td>1.260000</td>\n",
       "      <td>55.250000</td>\n",
       "      <td>2010.000000</td>\n",
       "    </tr>\n",
       "    <tr>\n",
       "      <th>75%</th>\n",
       "      <td>8.000000</td>\n",
       "      <td>2.000000</td>\n",
       "      <td>526.005000</td>\n",
       "      <td>3.040000</td>\n",
       "      <td>178.500000</td>\n",
       "      <td>2012.000000</td>\n",
       "    </tr>\n",
       "    <tr>\n",
       "      <th>max</th>\n",
       "      <td>9.000000</td>\n",
       "      <td>7.000000</td>\n",
       "      <td>730000.000000</td>\n",
       "      <td>25.000000</td>\n",
       "      <td>8500.000000</td>\n",
       "      <td>2014.000000</td>\n",
       "    </tr>\n",
       "  </tbody>\n",
       "</table>\n",
       "</div>"
      ],
      "text/plain": [
       "            method       number  orbital_period        mass     distance  \\\n",
       "count  1035.000000  1035.000000      992.000000  513.000000   808.000000   \n",
       "mean      7.033816     1.785507     2002.917596    2.638161   264.069282   \n",
       "std       1.458589     1.240976    26014.728304    3.818617   733.116493   \n",
       "min       0.000000     1.000000        0.090706    0.003600     1.350000   \n",
       "25%       7.000000     1.000000        5.442540    0.229000    32.560000   \n",
       "50%       7.000000     1.000000       39.979500    1.260000    55.250000   \n",
       "75%       8.000000     2.000000      526.005000    3.040000   178.500000   \n",
       "max       9.000000     7.000000   730000.000000   25.000000  8500.000000   \n",
       "\n",
       "              year  \n",
       "count  1035.000000  \n",
       "mean   2009.070531  \n",
       "std       3.972567  \n",
       "min    1989.000000  \n",
       "25%    2007.000000  \n",
       "50%    2010.000000  \n",
       "75%    2012.000000  \n",
       "max    2014.000000  "
      ]
     },
     "execution_count": 3,
     "metadata": {},
     "output_type": "execute_result"
    }
   ],
   "source": [
    "# * find the statistics of the different features of the data; what simple methods are in Pandas are there for this? are there variables for which this doesn't make sense? do any of them need to be encoded? \n",
    "df.describe()"
   ]
  },
  {
   "cell_type": "markdown",
   "metadata": {},
   "source": [
    "The method feature is categorical, so the mean and standard divaiation make less sense here."
   ]
  },
  {
   "cell_type": "code",
   "execution_count": 4,
   "metadata": {},
   "outputs": [
    {
     "name": "stdout",
     "output_type": "stream",
     "text": [
      "<class 'pandas.core.frame.DataFrame'>\n",
      "RangeIndex: 1035 entries, 0 to 1034\n",
      "Data columns (total 6 columns):\n",
      " #   Column          Non-Null Count  Dtype  \n",
      "---  ------          --------------  -----  \n",
      " 0   method          1035 non-null   int64  \n",
      " 1   number          1035 non-null   int64  \n",
      " 2   orbital_period  992 non-null    float64\n",
      " 3   mass            513 non-null    float64\n",
      " 4   distance        808 non-null    float64\n",
      " 5   year            1035 non-null   int64  \n",
      "dtypes: float64(3), int64(3)\n",
      "memory usage: 48.6 KB\n"
     ]
    }
   ],
   "source": [
    "# * based on what you see so far, what is the quality of this data? basic IDA for this might include using `.describe` and `.info` \n",
    "df.info()"
   ]
  },
  {
   "cell_type": "markdown",
   "metadata": {},
   "source": [
    "There are a significant number of missing values in this dataset, so the overall quality is poor. Granted, measuring celestial bodies is tricky and expensive business."
   ]
  },
  {
   "cell_type": "code",
   "execution_count": 5,
   "metadata": {},
   "outputs": [
    {
     "data": {
      "image/png": "[encoded data removed]",
      "text/plain": [
       "<Figure size 1200x600 with 1 Axes>"
      ]
     },
     "metadata": {},
     "output_type": "display_data"
    }
   ],
   "source": [
    "# * did you note any missing data? make a heat map of this dataset that shows missing values (I have given an example code for this in the past, but feel free to write your own); \n",
    "\n",
    "import numpy as np\n",
    "import matplotlib.pyplot as plt\n",
    "\n",
    "nan_mask = df.isna()\n",
    "\n",
    "# convert boolean mask to integer (False becomes 0, True becomes 1)\n",
    "nan_array = nan_mask.astype(int).to_numpy()\n",
    "\n",
    "# size the plot\n",
    "plt.figure(figsize=(12, 6))\n",
    "\n",
    "# imshow with interpolation set to 'nearest' and aspect to 'auto'\n",
    "im = plt.imshow(nan_array.T, interpolation='nearest', aspect='auto', cmap='viridis')\n",
    "\n",
    "plt.xlabel('Planet Index')\n",
    "plt.ylabel('Features')\n",
    "plt.title('Visualizing Missing Values in a Dataset')\n",
    "\n",
    "# y-axis tick labels to feature names\n",
    "plt.yticks(range(len(df.columns)), df.columns)\n",
    "\n",
    "# x-axis ticks\n",
    "num_planets = nan_array.shape[0]\n",
    "plt.xticks(np.linspace(0, num_planets-1, min(10, num_planets)).astype(int))\n",
    "\n",
    "plt.grid(True, axis='y', linestyle='--', alpha=0.7)\n"
   ]
  },
  {
   "cell_type": "code",
   "execution_count": 6,
   "metadata": {},
   "outputs": [
    {
     "name": "stdout",
     "output_type": "stream",
     "text": [
      "Column 'method' has 49 outliers.\n",
      "Column 'number' has 31 outliers.\n",
      "Column 'orbital_period' has 3 outliers.\n",
      "Column 'mass' has 14 outliers.\n",
      "Column 'distance' has 13 outliers.\n",
      "Column 'year' has 12 outliers.\n"
     ]
    }
   ],
   "source": [
    "# * for each feature/column for which it makes sense, scale the column using the z-score and print the number of outliers for that column (that is, how many rows in the column have values $<-3$ or $>3$ after scaling?)\n",
    "from sklearn.preprocessing import StandardScaler\n",
    "\n",
    "scaler = StandardScaler().set_output(transform=\"pandas\")\n",
    "df_scaled = scaler.fit_transform(df)\n",
    "\n",
    "# Generated by Copilot, VS Code Extension, 9-17-25\n",
    "for col in df_scaled.columns:\n",
    "    if np.issubdtype(df_scaled[col].dtype, np.number):\n",
    "        num_outliers = ((df_scaled[col] < -3) | (df_scaled[col] > 3)).sum()\n",
    "        print(f\"Column '{col}' has {num_outliers} outliers.\")"
   ]
  },
  {
   "cell_type": "markdown",
   "metadata": {},
   "source": [
    "Again we ignore the method feature for the outliers."
   ]
  },
  {
   "cell_type": "markdown",
   "metadata": {},
   "source": [
    "____\n",
    "\n",
    "## <font color=#00BBFF> Problem #2 - Exploratory Data Analysis (10 pts) </font>\n",
    "\n",
    "In this problem you are going to explore EDA: Exploratory Data Analysis, which - _like IDA_ - is can be defined many ways, but we will assume it contains these steps:\n",
    "* Univariate analysis\n",
    "* Bivariate analysis\n",
    "* Multivariate analysis\n",
    "* Correlation analysis\n",
    "* Dimensionality assessment\n",
    "* Pattern and trend identification\n",
    "* Hypothesis generation\n",
    "\n",
    "Note that IDA did not involve much in the way of visualization; EDA relies heavily on visualization. An important aspect of EDA is that is, as in the name, exploratory. The goals of EDA might be:\n",
    "* you have a unique dataset and you want to explore whether it contains anything that would be useful or surprising.\n",
    "* you have a very specific goal in mind already and you want to explore whether this dataset can help you achieve your goal. \n",
    "\n",
    "Because this is EDA, with an emphasis on the E, I want you to explore this dataset with little guidance. Use your curiosity, intuition and creativity. \n",
    "\n",
    "🤓 Follow these steps:\n",
    "* only use the Plotly library for this problem, with as many plot types as you can; interactive plots are preferred\n",
    "* make about one plot per category above - if you are not familiar with a concept, skip that item (e.g., you don't know what PCA is, you have no idea how to do clustering, there are temporal trends, or whatever); shoot for about 5 plots\n",
    "* but, complete 7: the EDA must lead to something to do next!! use a markdown cell for this\n",
    " "
   ]
  },
  {
   "cell_type": "code",
   "execution_count": 7,
   "metadata": {},
   "outputs": [
    {
     "data": {
      "application/vnd.plotly.v1+json": {
       "config": {
        "plotlyServerURL": "https://plot.ly"
       },
       "data": [
        {
         "bingroup": "x",
         "hovertemplate": "distance=%{x}<br>count=%{y}<extra></extra>",
         "legendgroup": "",
         "marker": {
          "color": "#636efa",
          "pattern": {
           "shape": ""
          }
         },
         "name": "",
         "nbinsx": 100,
         "orientation": "v",
         "showlegend": false,
         "type": "histogram",
         "x": {
          "bdata": "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",
          "dtype": "f8"
         },
         "xaxis": "x",
         "yaxis": "y"
        }
       ],
       "layout": {
        "barmode": "relative",
        "legend": {
         "tracegroupgap": 0
        },
        "template": {
         "data": {
          "bar": [
           {
            "error_x": {
             "color": "#2a3f5f"
            },
            "error_y": {
             "color": "#2a3f5f"
            },
            "marker": {
             "line": {
              "color": "#E5ECF6",
              "width": 0.5
             },
             "pattern": {
              "fillmode": "overlay",
              "size": 10,
              "solidity": 0.2
             }
            },
            "type": "bar"
           }
          ],
          "barpolar": [
           {
            "marker": {
             "line": {
              "color": "#E5ECF6",
              "width": 0.5
             },
             "pattern": {
              "fillmode": "overlay",
              "size": 10,
              "solidity": 0.2
             }
            },
            "type": "barpolar"
           }
          ],
          "carpet": [
           {
            "aaxis": {
             "endlinecolor": "#2a3f5f",
             "gridcolor": "white",
             "linecolor": "white",
             "minorgridcolor": "white",
             "startlinecolor": "#2a3f5f"
            },
            "baxis": {
             "endlinecolor": "#2a3f5f",
             "gridcolor": "white",
             "linecolor": "white",
             "minorgridcolor": "white",
             "startlinecolor": "#2a3f5f"
            },
            "type": "carpet"
           }
          ],
          "choropleth": [
           {
            "colorbar": {
             "outlinewidth": 0,
             "ticks": ""
            },
            "type": "choropleth"
           }
          ],
          "contour": [
           {
            "colorbar": {
             "outlinewidth": 0,
             "ticks": ""
            },
            "colorscale": [
             [
              0,
              "#0d0887"
             ],
             [
              0.1111111111111111,
              "#46039f"
             ],
             [
              0.2222222222222222,
              "#7201a8"
             ],
             [
              0.3333333333333333,
              "#9c179e"
             ],
             [
              0.4444444444444444,
              "#bd3786"
             ],
             [
              0.5555555555555556,
              "#d8576b"
             ],
             [
              0.6666666666666666,
              "#ed7953"
             ],
             [
              0.7777777777777778,
              "#fb9f3a"
             ],
             [
              0.8888888888888888,
              "#fdca26"
             ],
             [
              1,
              "#f0f921"
             ]
            ],
            "type": "contour"
           }
          ],
          "contourcarpet": [
           {
            "colorbar": {
             "outlinewidth": 0,
             "ticks": ""
            },
            "type": "contourcarpet"
           }
          ],
          "heatmap": [
           {
            "colorbar": {
             "outlinewidth": 0,
             "ticks": ""
            },
            "colorscale": [
             [
              0,
              "#0d0887"
             ],
             [
              0.1111111111111111,
              "#46039f"
             ],
             [
              0.2222222222222222,
              "#7201a8"
             ],
             [
              0.3333333333333333,
              "#9c179e"
             ],
             [
              0.4444444444444444,
              "#bd3786"
             ],
             [
              0.5555555555555556,
              "#d8576b"
             ],
             [
              0.6666666666666666,
              "#ed7953"
             ],
             [
              0.7777777777777778,
              "#fb9f3a"
             ],
             [
              0.8888888888888888,
              "#fdca26"
             ],
             [
              1,
              "#f0f921"
             ]
            ],
            "type": "heatmap"
           }
          ],
          "histogram": [
           {
            "marker": {
             "pattern": {
              "fillmode": "overlay",
              "size": 10,
              "solidity": 0.2
             }
            },
            "type": "histogram"
           }
          ],
          "histogram2d": [
           {
            "colorbar": {
             "outlinewidth": 0,
             "ticks": ""
            },
            "colorscale": [
             [
              0,
              "#0d0887"
             ],
             [
              0.1111111111111111,
              "#46039f"
             ],
             [
              0.2222222222222222,
              "#7201a8"
             ],
             [
              0.3333333333333333,
              "#9c179e"
             ],
             [
              0.4444444444444444,
              "#bd3786"
             ],
             [
              0.5555555555555556,
              "#d8576b"
             ],
             [
              0.6666666666666666,
              "#ed7953"
             ],
             [
              0.7777777777777778,
              "#fb9f3a"
             ],
             [
              0.8888888888888888,
              "#fdca26"
             ],
             [
              1,
              "#f0f921"
             ]
            ],
            "type": "histogram2d"
           }
          ],
          "histogram2dcontour": [
           {
            "colorbar": {
             "outlinewidth": 0,
             "ticks": ""
            },
            "colorscale": [
             [
              0,
              "#0d0887"
             ],
             [
              0.1111111111111111,
              "#46039f"
             ],
             [
              0.2222222222222222,
              "#7201a8"
             ],
             [
              0.3333333333333333,
              "#9c179e"
             ],
             [
              0.4444444444444444,
              "#bd3786"
             ],
             [
              0.5555555555555556,
              "#d8576b"
             ],
             [
              0.6666666666666666,
              "#ed7953"
             ],
             [
              0.7777777777777778,
              "#fb9f3a"
             ],
             [
              0.8888888888888888,
              "#fdca26"
             ],
             [
              1,
              "#f0f921"
             ]
            ],
            "type": "histogram2dcontour"
           }
          ],
          "mesh3d": [
           {
            "colorbar": {
             "outlinewidth": 0,
             "ticks": ""
            },
            "type": "mesh3d"
           }
          ],
          "parcoords": [
           {
            "line": {
             "colorbar": {
              "outlinewidth": 0,
              "ticks": ""
             }
            },
            "type": "parcoords"
           }
          ],
          "pie": [
           {
            "automargin": true,
            "type": "pie"
           }
          ],
          "scatter": [
           {
            "fillpattern": {
             "fillmode": "overlay",
             "size": 10,
             "solidity": 0.2
            },
            "type": "scatter"
           }
          ],
          "scatter3d": [
           {
            "line": {
             "colorbar": {
              "outlinewidth": 0,
              "ticks": ""
             }
            },
            "marker": {
             "colorbar": {
              "outlinewidth": 0,
              "ticks": ""
             }
            },
            "type": "scatter3d"
           }
          ],
          "scattercarpet": [
           {
            "marker": {
             "colorbar": {
              "outlinewidth": 0,
              "ticks": ""
             }
            },
            "type": "scattercarpet"
           }
          ],
          "scattergeo": [
           {
            "marker": {
             "colorbar": {
              "outlinewidth": 0,
              "ticks": ""
             }
            },
            "type": "scattergeo"
           }
          ],
          "scattergl": [
           {
            "marker": {
             "colorbar": {
              "outlinewidth": 0,
              "ticks": ""
             }
            },
            "type": "scattergl"
           }
          ],
          "scattermap": [
           {
            "marker": {
             "colorbar": {
              "outlinewidth": 0,
              "ticks": ""
             }
            },
            "type": "scattermap"
           }
          ],
          "scattermapbox": [
           {
            "marker": {
             "colorbar": {
              "outlinewidth": 0,
              "ticks": ""
             }
            },
            "type": "scattermapbox"
           }
          ],
          "scatterpolar": [
           {
            "marker": {
             "colorbar": {
              "outlinewidth": 0,
              "ticks": ""
             }
            },
            "type": "scatterpolar"
           }
          ],
          "scatterpolargl": [
           {
            "marker": {
             "colorbar": {
              "outlinewidth": 0,
              "ticks": ""
             }
            },
            "type": "scatterpolargl"
           }
          ],
          "scatterternary": [
           {
            "marker": {
             "colorbar": {
              "outlinewidth": 0,
              "ticks": ""
             }
            },
            "type": "scatterternary"
           }
          ],
          "surface": [
           {
            "colorbar": {
             "outlinewidth": 0,
             "ticks": ""
            },
            "colorscale": [
             [
              0,
              "#0d0887"
             ],
             [
              0.1111111111111111,
              "#46039f"
             ],
             [
              0.2222222222222222,
              "#7201a8"
             ],
             [
              0.3333333333333333,
              "#9c179e"
             ],
             [
              0.4444444444444444,
              "#bd3786"
             ],
             [
              0.5555555555555556,
              "#d8576b"
             ],
             [
              0.6666666666666666,
              "#ed7953"
             ],
             [
              0.7777777777777778,
              "#fb9f3a"
             ],
             [
              0.8888888888888888,
              "#fdca26"
             ],
             [
              1,
              "#f0f921"
             ]
            ],
            "type": "surface"
           }
          ],
          "table": [
           {
            "cells": {
             "fill": {
              "color": "#EBF0F8"
             },
             "line": {
              "color": "white"
             }
            },
            "header": {
             "fill": {
              "color": "#C8D4E3"
             },
             "line": {
              "color": "white"
             }
            },
            "type": "table"
           }
          ]
         },
         "layout": {
          "annotationdefaults": {
           "arrowcolor": "#2a3f5f",
           "arrowhead": 0,
           "arrowwidth": 1
          },
          "autotypenumbers": "strict",
          "coloraxis": {
           "colorbar": {
            "outlinewidth": 0,
            "ticks": ""
           }
          },
          "colorscale": {
           "diverging": [
            [
             0,
             "#8e0152"
            ],
            [
             0.1,
             "#c51b7d"
            ],
            [
             0.2,
             "#de77ae"
            ],
            [
             0.3,
             "#f1b6da"
            ],
            [
             0.4,
             "#fde0ef"
            ],
            [
             0.5,
             "#f7f7f7"
            ],
            [
             0.6,
             "#e6f5d0"
            ],
            [
             0.7,
             "#b8e186"
            ],
            [
             0.8,
             "#7fbc41"
            ],
            [
             0.9,
             "#4d9221"
            ],
            [
             1,
             "#276419"
            ]
           ],
           "sequential": [
            [
             0,
             "#0d0887"
            ],
            [
             0.1111111111111111,
             "#46039f"
            ],
            [
             0.2222222222222222,
             "#7201a8"
            ],
            [
             0.3333333333333333,
             "#9c179e"
            ],
            [
             0.4444444444444444,
             "#bd3786"
            ],
            [
             0.5555555555555556,
             "#d8576b"
            ],
            [
             0.6666666666666666,
             "#ed7953"
            ],
            [
             0.7777777777777778,
             "#fb9f3a"
            ],
            [
             0.8888888888888888,
             "#fdca26"
            ],
            [
             1,
             "#f0f921"
            ]
           ],
           "sequentialminus": [
            [
             0,
             "#0d0887"
            ],
            [
             0.1111111111111111,
             "#46039f"
            ],
            [
             0.2222222222222222,
             "#7201a8"
            ],
            [
             0.3333333333333333,
             "#9c179e"
            ],
            [
             0.4444444444444444,
             "#bd3786"
            ],
            [
             0.5555555555555556,
             "#d8576b"
            ],
            [
             0.6666666666666666,
             "#ed7953"
            ],
            [
             0.7777777777777778,
             "#fb9f3a"
            ],
            [
             0.8888888888888888,
             "#fdca26"
            ],
            [
             1,
             "#f0f921"
            ]
           ]
          },
          "colorway": [
           "#636efa",
           "#EF553B",
           "#00cc96",
           "#ab63fa",
           "#FFA15A",
           "#19d3f3",
           "#FF6692",
           "#B6E880",
           "#FF97FF",
           "#FECB52"
          ],
          "font": {
           "color": "#2a3f5f"
          },
          "geo": {
           "bgcolor": "white",
           "lakecolor": "white",
           "landcolor": "#E5ECF6",
           "showlakes": true,
           "showland": true,
           "subunitcolor": "white"
          },
          "hoverlabel": {
           "align": "left"
          },
          "hovermode": "closest",
          "mapbox": {
           "style": "light"
          },
          "paper_bgcolor": "white",
          "plot_bgcolor": "#E5ECF6",
          "polar": {
           "angularaxis": {
            "gridcolor": "white",
            "linecolor": "white",
            "ticks": ""
           },
           "bgcolor": "#E5ECF6",
           "radialaxis": {
            "gridcolor": "white",
            "linecolor": "white",
            "ticks": ""
           }
          },
          "scene": {
           "xaxis": {
            "backgroundcolor": "#E5ECF6",
            "gridcolor": "white",
            "gridwidth": 2,
            "linecolor": "white",
            "showbackground": true,
            "ticks": "",
            "zerolinecolor": "white"
           },
           "yaxis": {
            "backgroundcolor": "#E5ECF6",
            "gridcolor": "white",
            "gridwidth": 2,
            "linecolor": "white",
            "showbackground": true,
            "ticks": "",
            "zerolinecolor": "white"
           },
           "zaxis": {
            "backgroundcolor": "#E5ECF6",
            "gridcolor": "white",
            "gridwidth": 2,
            "linecolor": "white",
            "showbackground": true,
            "ticks": "",
            "zerolinecolor": "white"
           }
          },
          "shapedefaults": {
           "line": {
            "color": "#2a3f5f"
           }
          },
          "ternary": {
           "aaxis": {
            "gridcolor": "white",
            "linecolor": "white",
            "ticks": ""
           },
           "baxis": {
            "gridcolor": "white",
            "linecolor": "white",
            "ticks": ""
           },
           "bgcolor": "#E5ECF6",
           "caxis": {
            "gridcolor": "white",
            "linecolor": "white",
            "ticks": ""
           }
          },
          "title": {
           "x": 0.05
          },
          "xaxis": {
           "automargin": true,
           "gridcolor": "white",
           "linecolor": "white",
           "ticks": "",
           "title": {
            "standoff": 15
           },
           "zerolinecolor": "white",
           "zerolinewidth": 2
          },
          "yaxis": {
           "automargin": true,
           "gridcolor": "white",
           "linecolor": "white",
           "ticks": "",
           "title": {
            "standoff": 15
           },
           "zerolinecolor": "white",
           "zerolinewidth": 2
          }
         }
        },
        "title": {
         "text": "Planet Distances"
        },
        "xaxis": {
         "anchor": "y",
         "domain": [
          0,
          1
         ],
         "title": {
          "text": "distance"
         }
        },
        "yaxis": {
         "anchor": "x",
         "domain": [
          0,
          1
         ],
         "title": {
          "text": "count"
         }
        }
       }
      }
     },
     "metadata": {},
     "output_type": "display_data"
    }
   ],
   "source": [
    "# Univariate analysis\n",
    "import plotly.express as px\n",
    "\n",
    "fig = px.histogram(df, x='distance', nbins=100, title='Planet Distances')\n",
    "fig.show()"
   ]
  },
  {
   "cell_type": "code",
   "execution_count": 8,
   "metadata": {},
   "outputs": [
    {
     "data": {
      "application/vnd.plotly.v1+json": {
       "config": {
        "plotlyServerURL": "https://plot.ly"
       },
       "data": [
        {
         "hovertemplate": "orbital_period=%{x}<br>mass=%{y}<br>number=%{marker.color}<extra></extra>",
         "legendgroup": "",
         "marker": {
          "color": {
           "bdata": "AQEBAQEBAQEBAgIBAQMDAwEFBQUFBQMDAwEBAQEBAQEBAQEBAQICAgIBAQICAQEBAQEBAQEBAQECAgEBAQEBAQQEBAQBAQEBAQEBAQEBAQICAgIBAQICAQEBAQEBAQEBAQICAQEBAQEBAQEBAQEBAQEBAQMDAwECAgEBAQEEBAQEAQYGBgYGBgEDAwMBAQQEBAQBAQEBAQEBAQEBAQEBAQICAQEBAgIBAQEBAQEBAQEBAQEBAgIBAQEBAQEBAQEBAQEBAQEBAgICAgEBAQEBAQEBAQEBAgIBAQEBAQEBAgIBAQEBAgIGBgYGBgYBAQICAQICAgIBAgICAgEBAQEBAQEBAQICAQMDAwICAQECAgEBAQEBAQEBAQEBAQEBAQEDAwMBAQEBAQEDAwMBAgIDAwMCAgEBBgYGBgYGAQEBAgIBAQEBAQICAQEBAgICAgEBAQECAgEBAgIBAQECAgEBAQMDAwEBAQEBAgIBAwMDAQEBAQEBAQECAgEBAQEBAQEBAQEBAQEBAgIBAQEBAQICAQEBAQICAQEBAQEBAgIBAQEBAQEBAQEBAQEBAQICAQICAQEBAQICAgIBAQEBAQEBAQEBAQMDAwEBAQICAQEBAQEBAgICAgMDAwEDAwMBAQEBAQEBAQECAgEBAQEBAQEBAQEBAQECAgICAQEBAQEBAgICAgQEBAQBAgIBAQEBAQICAQICAQEBAQEBAQICAQEBAQEBAwMDAQICAQECAgEBAQECAgEBAQICAQEBAQEBAgICAgEDAwMBAQECAgEBAQEBAQEBAgICAgICAQEBAgIBAQEBAQEBAQEBAQEBAQEBAQEBAgIBAQMDAwEDAwMBAQEBAQEBAQQEBAQBAQEBAQEBAQEBAQEDAwMCAgYGBgYGBgEBAQEBAQMDAwICBQUFBQUBAQICAgIDAwMCAgICAgICAgMDAwICBQUFBQUFBQUFBQEBAgIDAwMBAQEBAwMDAQEBAgICAgQEBAQCAgICAwMDAgICAgICAgICAgICAgICAgMDAwEFBQUFBQEBAwMDAQEDAwMCAgICAQEBAQEBAgICAgICAgICAgICAgIBAgICAgQEBAQHBwcHBwcHAQICAgICAgEBAgIBAQMDAwUFBQUFAgICBAQEBAICAgICAgICAwICAgICAgICAgICAgICAgICAgICAgICAgICAgICAgICAQEBAQEBAQEBAQEBAQEBAQEBAQEBAQEBAQEBAgIBAQICAQEBAQEBAQEBAQEBAQEDAwMBAQEBAQEBAQEBAQEBAQEBAQEBAQEBAQEBAQEBAQEBAQEBAQEBAQEBAQEBAQEBAQEBAQEBAQEBAQEBAQEBAQEBAQEBAQEBAQEBAQEBAQEBAQEBAQEBAQEBAQEB",
           "dtype": "i1"
          },
          "coloraxis": "coloraxis",
          "symbol": "circle"
         },
         "mode": "markers",
         "name": "",
         "showlegend": false,
         "type": "scattergl",
         "x": {
          "bdata": "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",
          "dtype": "f8"
         },
         "xaxis": "x",
         "y": {
          "bdata": "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",
          "dtype": "f8"
         },
         "yaxis": "y"
        }
       ],
       "layout": {
        "coloraxis": {
         "colorbar": {
          "title": {
           "text": "number"
          }
         },
         "colorscale": [
          [
           0,
           "#0d0887"
          ],
          [
           0.1111111111111111,
           "#46039f"
          ],
          [
           0.2222222222222222,
           "#7201a8"
          ],
          [
           0.3333333333333333,
           "#9c179e"
          ],
          [
           0.4444444444444444,
           "#bd3786"
          ],
          [
           0.5555555555555556,
           "#d8576b"
          ],
          [
           0.6666666666666666,
           "#ed7953"
          ],
          [
           0.7777777777777778,
           "#fb9f3a"
          ],
          [
           0.8888888888888888,
           "#fdca26"
          ],
          [
           1,
           "#f0f921"
          ]
         ]
        },
        "legend": {
         "tracegroupgap": 0
        },
        "template": {
         "data": {
          "bar": [
           {
            "error_x": {
             "color": "#2a3f5f"
            },
            "error_y": {
             "color": "#2a3f5f"
            },
            "marker": {
             "line": {
              "color": "#E5ECF6",
              "width": 0.5
             },
             "pattern": {
              "fillmode": "overlay",
              "size": 10,
              "solidity": 0.2
             }
            },
            "type": "bar"
           }
          ],
          "barpolar": [
           {
            "marker": {
             "line": {
              "color": "#E5ECF6",
              "width": 0.5
             },
             "pattern": {
              "fillmode": "overlay",
              "size": 10,
              "solidity": 0.2
             }
            },
            "type": "barpolar"
           }
          ],
          "carpet": [
           {
            "aaxis": {
             "endlinecolor": "#2a3f5f",
             "gridcolor": "white",
             "linecolor": "white",
             "minorgridcolor": "white",
             "startlinecolor": "#2a3f5f"
            },
            "baxis": {
             "endlinecolor": "#2a3f5f",
             "gridcolor": "white",
             "linecolor": "white",
             "minorgridcolor": "white",
             "startlinecolor": "#2a3f5f"
            },
            "type": "carpet"
           }
          ],
          "choropleth": [
           {
            "colorbar": {
             "outlinewidth": 0,
             "ticks": ""
            },
            "type": "choropleth"
           }
          ],
          "contour": [
           {
            "colorbar": {
             "outlinewidth": 0,
             "ticks": ""
            },
            "colorscale": [
             [
              0,
              "#0d0887"
             ],
             [
              0.1111111111111111,
              "#46039f"
             ],
             [
              0.2222222222222222,
              "#7201a8"
             ],
             [
              0.3333333333333333,
              "#9c179e"
             ],
             [
              0.4444444444444444,
              "#bd3786"
             ],
             [
              0.5555555555555556,
              "#d8576b"
             ],
             [
              0.6666666666666666,
              "#ed7953"
             ],
             [
              0.7777777777777778,
              "#fb9f3a"
             ],
             [
              0.8888888888888888,
              "#fdca26"
             ],
             [
              1,
              "#f0f921"
             ]
            ],
            "type": "contour"
           }
          ],
          "contourcarpet": [
           {
            "colorbar": {
             "outlinewidth": 0,
             "ticks": ""
            },
            "type": "contourcarpet"
           }
          ],
          "heatmap": [
           {
            "colorbar": {
             "outlinewidth": 0,
             "ticks": ""
            },
            "colorscale": [
             [
              0,
              "#0d0887"
             ],
             [
              0.1111111111111111,
              "#46039f"
             ],
             [
              0.2222222222222222,
              "#7201a8"
             ],
             [
              0.3333333333333333,
              "#9c179e"
             ],
             [
              0.4444444444444444,
              "#bd3786"
             ],
             [
              0.5555555555555556,
              "#d8576b"
             ],
             [
              0.6666666666666666,
              "#ed7953"
             ],
             [
              0.7777777777777778,
              "#fb9f3a"
             ],
             [
              0.8888888888888888,
              "#fdca26"
             ],
             [
              1,
              "#f0f921"
             ]
            ],
            "type": "heatmap"
           }
          ],
          "histogram": [
           {
            "marker": {
             "pattern": {
              "fillmode": "overlay",
              "size": 10,
              "solidity": 0.2
             }
            },
            "type": "histogram"
           }
          ],
          "histogram2d": [
           {
            "colorbar": {
             "outlinewidth": 0,
             "ticks": ""
            },
            "colorscale": [
             [
              0,
              "#0d0887"
             ],
             [
              0.1111111111111111,
              "#46039f"
             ],
             [
              0.2222222222222222,
              "#7201a8"
             ],
             [
              0.3333333333333333,
              "#9c179e"
             ],
             [
              0.4444444444444444,
              "#bd3786"
             ],
             [
              0.5555555555555556,
              "#d8576b"
             ],
             [
              0.6666666666666666,
              "#ed7953"
             ],
             [
              0.7777777777777778,
              "#fb9f3a"
             ],
             [
              0.8888888888888888,
              "#fdca26"
             ],
             [
              1,
              "#f0f921"
             ]
            ],
            "type": "histogram2d"
           }
          ],
          "histogram2dcontour": [
           {
            "colorbar": {
             "outlinewidth": 0,
             "ticks": ""
            },
            "colorscale": [
             [
              0,
              "#0d0887"
             ],
             [
              0.1111111111111111,
              "#46039f"
             ],
             [
              0.2222222222222222,
              "#7201a8"
             ],
             [
              0.3333333333333333,
              "#9c179e"
             ],
             [
              0.4444444444444444,
              "#bd3786"
             ],
             [
              0.5555555555555556,
              "#d8576b"
             ],
             [
              0.6666666666666666,
              "#ed7953"
             ],
             [
              0.7777777777777778,
              "#fb9f3a"
             ],
             [
              0.8888888888888888,
              "#fdca26"
             ],
             [
              1,
              "#f0f921"
             ]
            ],
            "type": "histogram2dcontour"
           }
          ],
          "mesh3d": [
           {
            "colorbar": {
             "outlinewidth": 0,
             "ticks": ""
            },
            "type": "mesh3d"
           }
          ],
          "parcoords": [
           {
            "line": {
             "colorbar": {
              "outlinewidth": 0,
              "ticks": ""
             }
            },
            "type": "parcoords"
           }
          ],
          "pie": [
           {
            "automargin": true,
            "type": "pie"
           }
          ],
          "scatter": [
           {
            "fillpattern": {
             "fillmode": "overlay",
             "size": 10,
             "solidity": 0.2
            },
            "type": "scatter"
           }
          ],
          "scatter3d": [
           {
            "line": {
             "colorbar": {
              "outlinewidth": 0,
              "ticks": ""
             }
            },
            "marker": {
             "colorbar": {
              "outlinewidth": 0,
              "ticks": ""
             }
            },
            "type": "scatter3d"
           }
          ],
          "scattercarpet": [
           {
            "marker": {
             "colorbar": {
              "outlinewidth": 0,
              "ticks": ""
             }
            },
            "type": "scattercarpet"
           }
          ],
          "scattergeo": [
           {
            "marker": {
             "colorbar": {
              "outlinewidth": 0,
              "ticks": ""
             }
            },
            "type": "scattergeo"
           }
          ],
          "scattergl": [
           {
            "marker": {
             "colorbar": {
              "outlinewidth": 0,
              "ticks": ""
             }
            },
            "type": "scattergl"
           }
          ],
          "scattermap": [
           {
            "marker": {
             "colorbar": {
              "outlinewidth": 0,
              "ticks": ""
             }
            },
            "type": "scattermap"
           }
          ],
          "scattermapbox": [
           {
            "marker": {
             "colorbar": {
              "outlinewidth": 0,
              "ticks": ""
             }
            },
            "type": "scattermapbox"
           }
          ],
          "scatterpolar": [
           {
            "marker": {
             "colorbar": {
              "outlinewidth": 0,
              "ticks": ""
             }
            },
            "type": "scatterpolar"
           }
          ],
          "scatterpolargl": [
           {
            "marker": {
             "colorbar": {
              "outlinewidth": 0,
              "ticks": ""
             }
            },
            "type": "scatterpolargl"
           }
          ],
          "scatterternary": [
           {
            "marker": {
             "colorbar": {
              "outlinewidth": 0,
              "ticks": ""
             }
            },
            "type": "scatterternary"
           }
          ],
          "surface": [
           {
            "colorbar": {
             "outlinewidth": 0,
             "ticks": ""
            },
            "colorscale": [
             [
              0,
              "#0d0887"
             ],
             [
              0.1111111111111111,
              "#46039f"
             ],
             [
              0.2222222222222222,
              "#7201a8"
             ],
             [
              0.3333333333333333,
              "#9c179e"
             ],
             [
              0.4444444444444444,
              "#bd3786"
             ],
             [
              0.5555555555555556,
              "#d8576b"
             ],
             [
              0.6666666666666666,
              "#ed7953"
             ],
             [
              0.7777777777777778,
              "#fb9f3a"
             ],
             [
              0.8888888888888888,
              "#fdca26"
             ],
             [
              1,
              "#f0f921"
             ]
            ],
            "type": "surface"
           }
          ],
          "table": [
           {
            "cells": {
             "fill": {
              "color": "#EBF0F8"
             },
             "line": {
              "color": "white"
             }
            },
            "header": {
             "fill": {
              "color": "#C8D4E3"
             },
             "line": {
              "color": "white"
             }
            },
            "type": "table"
           }
          ]
         },
         "layout": {
          "annotationdefaults": {
           "arrowcolor": "#2a3f5f",
           "arrowhead": 0,
           "arrowwidth": 1
          },
          "autotypenumbers": "strict",
          "coloraxis": {
           "colorbar": {
            "outlinewidth": 0,
            "ticks": ""
           }
          },
          "colorscale": {
           "diverging": [
            [
             0,
             "#8e0152"
            ],
            [
             0.1,
             "#c51b7d"
            ],
            [
             0.2,
             "#de77ae"
            ],
            [
             0.3,
             "#f1b6da"
            ],
            [
             0.4,
             "#fde0ef"
            ],
            [
             0.5,
             "#f7f7f7"
            ],
            [
             0.6,
             "#e6f5d0"
            ],
            [
             0.7,
             "#b8e186"
            ],
            [
             0.8,
             "#7fbc41"
            ],
            [
             0.9,
             "#4d9221"
            ],
            [
             1,
             "#276419"
            ]
           ],
           "sequential": [
            [
             0,
             "#0d0887"
            ],
            [
             0.1111111111111111,
             "#46039f"
            ],
            [
             0.2222222222222222,
             "#7201a8"
            ],
            [
             0.3333333333333333,
             "#9c179e"
            ],
            [
             0.4444444444444444,
             "#bd3786"
            ],
            [
             0.5555555555555556,
             "#d8576b"
            ],
            [
             0.6666666666666666,
             "#ed7953"
            ],
            [
             0.7777777777777778,
             "#fb9f3a"
            ],
            [
             0.8888888888888888,
             "#fdca26"
            ],
            [
             1,
             "#f0f921"
            ]
           ],
           "sequentialminus": [
            [
             0,
             "#0d0887"
            ],
            [
             0.1111111111111111,
             "#46039f"
            ],
            [
             0.2222222222222222,
             "#7201a8"
            ],
            [
             0.3333333333333333,
             "#9c179e"
            ],
            [
             0.4444444444444444,
             "#bd3786"
            ],
            [
             0.5555555555555556,
             "#d8576b"
            ],
            [
             0.6666666666666666,
             "#ed7953"
            ],
            [
             0.7777777777777778,
             "#fb9f3a"
            ],
            [
             0.8888888888888888,
             "#fdca26"
            ],
            [
             1,
             "#f0f921"
            ]
           ]
          },
          "colorway": [
           "#636efa",
           "#EF553B",
           "#00cc96",
           "#ab63fa",
           "#FFA15A",
           "#19d3f3",
           "#FF6692",
           "#B6E880",
           "#FF97FF",
           "#FECB52"
          ],
          "font": {
           "color": "#2a3f5f"
          },
          "geo": {
           "bgcolor": "white",
           "lakecolor": "white",
           "landcolor": "#E5ECF6",
           "showlakes": true,
           "showland": true,
           "subunitcolor": "white"
          },
          "hoverlabel": {
           "align": "left"
          },
          "hovermode": "closest",
          "mapbox": {
           "style": "light"
          },
          "paper_bgcolor": "white",
          "plot_bgcolor": "#E5ECF6",
          "polar": {
           "angularaxis": {
            "gridcolor": "white",
            "linecolor": "white",
            "ticks": ""
           },
           "bgcolor": "#E5ECF6",
           "radialaxis": {
            "gridcolor": "white",
            "linecolor": "white",
            "ticks": ""
           }
          },
          "scene": {
           "xaxis": {
            "backgroundcolor": "#E5ECF6",
            "gridcolor": "white",
            "gridwidth": 2,
            "linecolor": "white",
            "showbackground": true,
            "ticks": "",
            "zerolinecolor": "white"
           },
           "yaxis": {
            "backgroundcolor": "#E5ECF6",
            "gridcolor": "white",
            "gridwidth": 2,
            "linecolor": "white",
            "showbackground": true,
            "ticks": "",
            "zerolinecolor": "white"
           },
           "zaxis": {
            "backgroundcolor": "#E5ECF6",
            "gridcolor": "white",
            "gridwidth": 2,
            "linecolor": "white",
            "showbackground": true,
            "ticks": "",
            "zerolinecolor": "white"
           }
          },
          "shapedefaults": {
           "line": {
            "color": "#2a3f5f"
           }
          },
          "ternary": {
           "aaxis": {
            "gridcolor": "white",
            "linecolor": "white",
            "ticks": ""
           },
           "baxis": {
            "gridcolor": "white",
            "linecolor": "white",
            "ticks": ""
           },
           "bgcolor": "#E5ECF6",
           "caxis": {
            "gridcolor": "white",
            "linecolor": "white",
            "ticks": ""
           }
          },
          "title": {
           "x": 0.05
          },
          "xaxis": {
           "automargin": true,
           "gridcolor": "white",
           "linecolor": "white",
           "ticks": "",
           "title": {
            "standoff": 15
           },
           "zerolinecolor": "white",
           "zerolinewidth": 2
          },
          "yaxis": {
           "automargin": true,
           "gridcolor": "white",
           "linecolor": "white",
           "ticks": "",
           "title": {
            "standoff": 15
           },
           "zerolinecolor": "white",
           "zerolinewidth": 2
          }
         }
        },
        "title": {
         "text": "Orbit vs Mass by Planet Number"
        },
        "xaxis": {
         "anchor": "y",
         "domain": [
          0,
          1
         ],
         "range": [
          0,
          7000
         ],
         "title": {
          "text": "orbital_period"
         }
        },
        "yaxis": {
         "anchor": "x",
         "domain": [
          0,
          1
         ],
         "title": {
          "text": "mass"
         }
        }
       }
      }
     },
     "metadata": {},
     "output_type": "display_data"
    }
   ],
   "source": [
    "# * Bivariate analysis\n",
    "\n",
    "fig = px.scatter(df, x='orbital_period', y='mass', color='number', title='Orbit vs Mass by Planet Number')\n",
    "fig.update_layout(\n",
    "    xaxis=dict(range=[0, 7000]), \n",
    ")\n",
    "fig.show()"
   ]
  },
  {
   "cell_type": "code",
   "execution_count": 9,
   "metadata": {},
   "outputs": [
    {
     "data": {
      "application/vnd.plotly.v1+json": {
       "config": {
        "plotlyServerURL": "https://plot.ly"
       },
       "data": [
        {
         "diagonal": {
          "visible": false
         },
         "dimensions": [
          {
           "axis": {
            "matches": true
           },
           "label": "PC 1 (99.898%)",
           "values": {
            "bdata": "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",
            "dtype": "f8"
           }
          },
          {
           "axis": {
            "matches": true
           },
           "label": "PC 2 (0.100%)",
           "values": {
            "bdata": "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",
            "dtype": "f8"
           }
          },
          {
           "axis": {
            "matches": true
           },
           "label": "PC 3 (0.001%)",
           "values": {
            "bdata": "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",
            "dtype": "f8"
           }
          }
         ],
         "hovertemplate": "%{xaxis.title.text}=%{x}<br>%{yaxis.title.text}=%{y}<br>color=%{marker.color}<extra></extra>",
         "legendgroup": "",
         "marker": {
          "color": {
           "bdata": "AQEBAQEBAQECAgEBAwMDAQUFBQUDAwMBAQEBAQEBAQEBAQEBBAQEBAECAgICAQEBAwMDAQICAQEEBAQEAQYGBgYGBgEDAwMBAQQEBAQBAQICAgICAgIBAQEBAQEBAQEBAQICAQEBAQEBAgIBAQEBAgIGBgYGBgYBAQICAQICAgIBAgICAgEBAQEBAQECAgEDAwMCAgEBAgIBAQEBAQEBAQEBAQEBAQEBAwMDAQEBAQEDAwMBAgIDAwMCAgEBBgYGBgYGAQEBAgIBAQEBAQICAQEBAgICAgEBAQECAgEBAgIBAQECAgEBAQMDAwEBAQECAgEDAwMBAQEBAQEBAQEBAQEBAQEBAQEBAQICAQEBAQICAQEBAQICAQEBAQEBAgIBAQEBAQEBAQEBAQEBAgIBAgIBAQEBAgICAQEBAQEBAQEBAQEDAwMBAQECAgEBAQEBAQICAgIDAwMBAwMDAQEBAQEBAQEBAgIBAQEBAQEBAQEBAQECAgICAQEBAQEBAgICAgQBAgIBAQEBAQICAQICAQEBAQECAgEBAQEBAwMDAQICAQECAgEBAQICAQEBAgIBAQEBAQECAgICAwMDAQEBAQEBAQEBAgICAgICAQEBAgIBAQEBAQEBAQEBAQEBAQEBAgEBAwMDAQMDAwEBAQEBAQED",
           "dtype": "i1"
          },
          "coloraxis": "coloraxis",
          "symbol": "circle"
         },
         "name": "",
         "showlegend": false,
         "type": "splom"
        }
       ],
       "layout": {
        "coloraxis": {
         "colorbar": {
          "title": {
           "text": "color"
          }
         },
         "colorscale": [
          [
           0,
           "#0d0887"
          ],
          [
           0.1111111111111111,
           "#46039f"
          ],
          [
           0.2222222222222222,
           "#7201a8"
          ],
          [
           0.3333333333333333,
           "#9c179e"
          ],
          [
           0.4444444444444444,
           "#bd3786"
          ],
          [
           0.5555555555555556,
           "#d8576b"
          ],
          [
           0.6666666666666666,
           "#ed7953"
          ],
          [
           0.7777777777777778,
           "#fb9f3a"
          ],
          [
           0.8888888888888888,
           "#fdca26"
          ],
          [
           1,
           "#f0f921"
          ]
         ]
        },
        "dragmode": "select",
        "legend": {
         "tracegroupgap": 0
        },
        "margin": {
         "t": 60
        },
        "template": {
         "data": {
          "bar": [
           {
            "error_x": {
             "color": "#2a3f5f"
            },
            "error_y": {
             "color": "#2a3f5f"
            },
            "marker": {
             "line": {
              "color": "#E5ECF6",
              "width": 0.5
             },
             "pattern": {
              "fillmode": "overlay",
              "size": 10,
              "solidity": 0.2
             }
            },
            "type": "bar"
           }
          ],
          "barpolar": [
           {
            "marker": {
             "line": {
              "color": "#E5ECF6",
              "width": 0.5
             },
             "pattern": {
              "fillmode": "overlay",
              "size": 10,
              "solidity": 0.2
             }
            },
            "type": "barpolar"
           }
          ],
          "carpet": [
           {
            "aaxis": {
             "endlinecolor": "#2a3f5f",
             "gridcolor": "white",
             "linecolor": "white",
             "minorgridcolor": "white",
             "startlinecolor": "#2a3f5f"
            },
            "baxis": {
             "endlinecolor": "#2a3f5f",
             "gridcolor": "white",
             "linecolor": "white",
             "minorgridcolor": "white",
             "startlinecolor": "#2a3f5f"
            },
            "type": "carpet"
           }
          ],
          "choropleth": [
           {
            "colorbar": {
             "outlinewidth": 0,
             "ticks": ""
            },
            "type": "choropleth"
           }
          ],
          "contour": [
           {
            "colorbar": {
             "outlinewidth": 0,
             "ticks": ""
            },
            "colorscale": [
             [
              0,
              "#0d0887"
             ],
             [
              0.1111111111111111,
              "#46039f"
             ],
             [
              0.2222222222222222,
              "#7201a8"
             ],
             [
              0.3333333333333333,
              "#9c179e"
             ],
             [
              0.4444444444444444,
              "#bd3786"
             ],
             [
              0.5555555555555556,
              "#d8576b"
             ],
             [
              0.6666666666666666,
              "#ed7953"
             ],
             [
              0.7777777777777778,
              "#fb9f3a"
             ],
             [
              0.8888888888888888,
              "#fdca26"
             ],
             [
              1,
              "#f0f921"
             ]
            ],
            "type": "contour"
           }
          ],
          "contourcarpet": [
           {
            "colorbar": {
             "outlinewidth": 0,
             "ticks": ""
            },
            "type": "contourcarpet"
           }
          ],
          "heatmap": [
           {
            "colorbar": {
             "outlinewidth": 0,
             "ticks": ""
            },
            "colorscale": [
             [
              0,
              "#0d0887"
             ],
             [
              0.1111111111111111,
              "#46039f"
             ],
             [
              0.2222222222222222,
              "#7201a8"
             ],
             [
              0.3333333333333333,
              "#9c179e"
             ],
             [
              0.4444444444444444,
              "#bd3786"
             ],
             [
              0.5555555555555556,
              "#d8576b"
             ],
             [
              0.6666666666666666,
              "#ed7953"
             ],
             [
              0.7777777777777778,
              "#fb9f3a"
             ],
             [
              0.8888888888888888,
              "#fdca26"
             ],
             [
              1,
              "#f0f921"
             ]
            ],
            "type": "heatmap"
           }
          ],
          "histogram": [
           {
            "marker": {
             "pattern": {
              "fillmode": "overlay",
              "size": 10,
              "solidity": 0.2
             }
            },
            "type": "histogram"
           }
          ],
          "histogram2d": [
           {
            "colorbar": {
             "outlinewidth": 0,
             "ticks": ""
            },
            "colorscale": [
             [
              0,
              "#0d0887"
             ],
             [
              0.1111111111111111,
              "#46039f"
             ],
             [
              0.2222222222222222,
              "#7201a8"
             ],
             [
              0.3333333333333333,
              "#9c179e"
             ],
             [
              0.4444444444444444,
              "#bd3786"
             ],
             [
              0.5555555555555556,
              "#d8576b"
             ],
             [
              0.6666666666666666,
              "#ed7953"
             ],
             [
              0.7777777777777778,
              "#fb9f3a"
             ],
             [
              0.8888888888888888,
              "#fdca26"
             ],
             [
              1,
              "#f0f921"
             ]
            ],
            "type": "histogram2d"
           }
          ],
          "histogram2dcontour": [
           {
            "colorbar": {
             "outlinewidth": 0,
             "ticks": ""
            },
            "colorscale": [
             [
              0,
              "#0d0887"
             ],
             [
              0.1111111111111111,
              "#46039f"
             ],
             [
              0.2222222222222222,
              "#7201a8"
             ],
             [
              0.3333333333333333,
              "#9c179e"
             ],
             [
              0.4444444444444444,
              "#bd3786"
             ],
             [
              0.5555555555555556,
              "#d8576b"
             ],
             [
              0.6666666666666666,
              "#ed7953"
             ],
             [
              0.7777777777777778,
              "#fb9f3a"
             ],
             [
              0.8888888888888888,
              "#fdca26"
             ],
             [
              1,
              "#f0f921"
             ]
            ],
            "type": "histogram2dcontour"
           }
          ],
          "mesh3d": [
           {
            "colorbar": {
             "outlinewidth": 0,
             "ticks": ""
            },
            "type": "mesh3d"
           }
          ],
          "parcoords": [
           {
            "line": {
             "colorbar": {
              "outlinewidth": 0,
              "ticks": ""
             }
            },
            "type": "parcoords"
           }
          ],
          "pie": [
           {
            "automargin": true,
            "type": "pie"
           }
          ],
          "scatter": [
           {
            "fillpattern": {
             "fillmode": "overlay",
             "size": 10,
             "solidity": 0.2
            },
            "type": "scatter"
           }
          ],
          "scatter3d": [
           {
            "line": {
             "colorbar": {
              "outlinewidth": 0,
              "ticks": ""
             }
            },
            "marker": {
             "colorbar": {
              "outlinewidth": 0,
              "ticks": ""
             }
            },
            "type": "scatter3d"
           }
          ],
          "scattercarpet": [
           {
            "marker": {
             "colorbar": {
              "outlinewidth": 0,
              "ticks": ""
             }
            },
            "type": "scattercarpet"
           }
          ],
          "scattergeo": [
           {
            "marker": {
             "colorbar": {
              "outlinewidth": 0,
              "ticks": ""
             }
            },
            "type": "scattergeo"
           }
          ],
          "scattergl": [
           {
            "marker": {
             "colorbar": {
              "outlinewidth": 0,
              "ticks": ""
             }
            },
            "type": "scattergl"
           }
          ],
          "scattermap": [
           {
            "marker": {
             "colorbar": {
              "outlinewidth": 0,
              "ticks": ""
             }
            },
            "type": "scattermap"
           }
          ],
          "scattermapbox": [
           {
            "marker": {
             "colorbar": {
              "outlinewidth": 0,
              "ticks": ""
             }
            },
            "type": "scattermapbox"
           }
          ],
          "scatterpolar": [
           {
            "marker": {
             "colorbar": {
              "outlinewidth": 0,
              "ticks": ""
             }
            },
            "type": "scatterpolar"
           }
          ],
          "scatterpolargl": [
           {
            "marker": {
             "colorbar": {
              "outlinewidth": 0,
              "ticks": ""
             }
            },
            "type": "scatterpolargl"
           }
          ],
          "scatterternary": [
           {
            "marker": {
             "colorbar": {
              "outlinewidth": 0,
              "ticks": ""
             }
            },
            "type": "scatterternary"
           }
          ],
          "surface": [
           {
            "colorbar": {
             "outlinewidth": 0,
             "ticks": ""
            },
            "colorscale": [
             [
              0,
              "#0d0887"
             ],
             [
              0.1111111111111111,
              "#46039f"
             ],
             [
              0.2222222222222222,
              "#7201a8"
             ],
             [
              0.3333333333333333,
              "#9c179e"
             ],
             [
              0.4444444444444444,
              "#bd3786"
             ],
             [
              0.5555555555555556,
              "#d8576b"
             ],
             [
              0.6666666666666666,
              "#ed7953"
             ],
             [
              0.7777777777777778,
              "#fb9f3a"
             ],
             [
              0.8888888888888888,
              "#fdca26"
             ],
             [
              1,
              "#f0f921"
             ]
            ],
            "type": "surface"
           }
          ],
          "table": [
           {
            "cells": {
             "fill": {
              "color": "#EBF0F8"
             },
             "line": {
              "color": "white"
             }
            },
            "header": {
             "fill": {
              "color": "#C8D4E3"
             },
             "line": {
              "color": "white"
             }
            },
            "type": "table"
           }
          ]
         },
         "layout": {
          "annotationdefaults": {
           "arrowcolor": "#2a3f5f",
           "arrowhead": 0,
           "arrowwidth": 1
          },
          "autotypenumbers": "strict",
          "coloraxis": {
           "colorbar": {
            "outlinewidth": 0,
            "ticks": ""
           }
          },
          "colorscale": {
           "diverging": [
            [
             0,
             "#8e0152"
            ],
            [
             0.1,
             "#c51b7d"
            ],
            [
             0.2,
             "#de77ae"
            ],
            [
             0.3,
             "#f1b6da"
            ],
            [
             0.4,
             "#fde0ef"
            ],
            [
             0.5,
             "#f7f7f7"
            ],
            [
             0.6,
             "#e6f5d0"
            ],
            [
             0.7,
             "#b8e186"
            ],
            [
             0.8,
             "#7fbc41"
            ],
            [
             0.9,
             "#4d9221"
            ],
            [
             1,
             "#276419"
            ]
           ],
           "sequential": [
            [
             0,
             "#0d0887"
            ],
            [
             0.1111111111111111,
             "#46039f"
            ],
            [
             0.2222222222222222,
             "#7201a8"
            ],
            [
             0.3333333333333333,
             "#9c179e"
            ],
            [
             0.4444444444444444,
             "#bd3786"
            ],
            [
             0.5555555555555556,
             "#d8576b"
            ],
            [
             0.6666666666666666,
             "#ed7953"
            ],
            [
             0.7777777777777778,
             "#fb9f3a"
            ],
            [
             0.8888888888888888,
             "#fdca26"
            ],
            [
             1,
             "#f0f921"
            ]
           ],
           "sequentialminus": [
            [
             0,
             "#0d0887"
            ],
            [
             0.1111111111111111,
             "#46039f"
            ],
            [
             0.2222222222222222,
             "#7201a8"
            ],
            [
             0.3333333333333333,
             "#9c179e"
            ],
            [
             0.4444444444444444,
             "#bd3786"
            ],
            [
             0.5555555555555556,
             "#d8576b"
            ],
            [
             0.6666666666666666,
             "#ed7953"
            ],
            [
             0.7777777777777778,
             "#fb9f3a"
            ],
            [
             0.8888888888888888,
             "#fdca26"
            ],
            [
             1,
             "#f0f921"
            ]
           ]
          },
          "colorway": [
           "#636efa",
           "#EF553B",
           "#00cc96",
           "#ab63fa",
           "#FFA15A",
           "#19d3f3",
           "#FF6692",
           "#B6E880",
           "#FF97FF",
           "#FECB52"
          ],
          "font": {
           "color": "#2a3f5f"
          },
          "geo": {
           "bgcolor": "white",
           "lakecolor": "white",
           "landcolor": "#E5ECF6",
           "showlakes": true,
           "showland": true,
           "subunitcolor": "white"
          },
          "hoverlabel": {
           "align": "left"
          },
          "hovermode": "closest",
          "mapbox": {
           "style": "light"
          },
          "paper_bgcolor": "white",
          "plot_bgcolor": "#E5ECF6",
          "polar": {
           "angularaxis": {
            "gridcolor": "white",
            "linecolor": "white",
            "ticks": ""
           },
           "bgcolor": "#E5ECF6",
           "radialaxis": {
            "gridcolor": "white",
            "linecolor": "white",
            "ticks": ""
           }
          },
          "scene": {
           "xaxis": {
            "backgroundcolor": "#E5ECF6",
            "gridcolor": "white",
            "gridwidth": 2,
            "linecolor": "white",
            "showbackground": true,
            "ticks": "",
            "zerolinecolor": "white"
           },
           "yaxis": {
            "backgroundcolor": "#E5ECF6",
            "gridcolor": "white",
            "gridwidth": 2,
            "linecolor": "white",
            "showbackground": true,
            "ticks": "",
            "zerolinecolor": "white"
           },
           "zaxis": {
            "backgroundcolor": "#E5ECF6",
            "gridcolor": "white",
            "gridwidth": 2,
            "linecolor": "white",
            "showbackground": true,
            "ticks": "",
            "zerolinecolor": "white"
           }
          },
          "shapedefaults": {
           "line": {
            "color": "#2a3f5f"
           }
          },
          "ternary": {
           "aaxis": {
            "gridcolor": "white",
            "linecolor": "white",
            "ticks": ""
           },
           "baxis": {
            "gridcolor": "white",
            "linecolor": "white",
            "ticks": ""
           },
           "bgcolor": "#E5ECF6",
           "caxis": {
            "gridcolor": "white",
            "linecolor": "white",
            "ticks": ""
           }
          },
          "title": {
           "x": 0.05
          },
          "xaxis": {
           "automargin": true,
           "gridcolor": "white",
           "linecolor": "white",
           "ticks": "",
           "title": {
            "standoff": 15
           },
           "zerolinecolor": "white",
           "zerolinewidth": 2
          },
          "yaxis": {
           "automargin": true,
           "gridcolor": "white",
           "linecolor": "white",
           "ticks": "",
           "title": {
            "standoff": 15
           },
           "zerolinecolor": "white",
           "zerolinewidth": 2
          }
         }
        }
       }
      }
     },
     "metadata": {},
     "output_type": "display_data"
    }
   ],
   "source": [
    "# * Multivariate analysis - https://plotly.com/python/pca-visualization/\n",
    "\n",
    "import plotly.express as px\n",
    "from sklearn.decomposition import PCA\n",
    "\n",
    "pca = PCA()\n",
    "numeric_cols = df.select_dtypes(include='number').columns\n",
    "df_clean = df[numeric_cols].dropna()\n",
    "\n",
    "components = pca.fit_transform(df_clean)\n",
    "labels = {\n",
    "    str(i): f\"PC {i+1} ({var:.3f}%)\"\n",
    "    for i, var in enumerate(pca.explained_variance_ratio_ * 100)\n",
    "}\n",
    "\n",
    "fig = px.scatter_matrix(\n",
    "    components,\n",
    "    labels=labels,\n",
    "    dimensions=range(3),\n",
    "    color=df.loc[df_clean.index, \"number\"]\n",
    ")\n",
    "fig.update_traces(diagonal_visible=False)\n",
    "fig.show()"
   ]
  },
  {
   "cell_type": "code",
   "execution_count": 10,
   "metadata": {},
   "outputs": [
    {
     "data": {
      "application/vnd.plotly.v1+json": {
       "config": {
        "plotlyServerURL": "https://plot.ly"
       },
       "data": [
        {
         "coloraxis": "coloraxis",
         "hovertemplate": "x: %{x}<br>y: %{y}<br>color: %{z}<extra></extra>",
         "name": "0",
         "texttemplate": "%{z}",
         "type": "heatmap",
         "x": [
          "method",
          "number",
          "orbital_period",
          "mass",
          "distance"
         ],
         "xaxis": "x",
         "y": [
          "number",
          "orbital_period",
          "mass",
          "distance",
          "year"
         ],
         "yaxis": "y",
         "z": {
          "bdata": "uB6F61G4vj8AAAAAAAD4fwAAAAAAAPh/AAAAAAAA+H8AAAAAAAD4f+xRuB6F69G/exSuR+F6hL8AAAAAAAD4fwAAAAAAAPh/AAAAAAAA+H97FK5H4Xqkv7gehetRuM6/w/UoXI/CxT8AAAAAAAD4fwAAAAAAAPh/uB6F61G4rr+4HoXrUbiev7gehetRuJ6/SOF6FK5H0T8AAAAAAAD4f+xRuB6F68E/MzMzMzMzwz+4HoXrUbiev7gehetRuL6/CtejcD0Kxz8=",
          "dtype": "f8",
          "shape": "5, 5"
         }
        }
       ],
       "layout": {
        "coloraxis": {
         "colorscale": [
          [
           0,
           "#0d0887"
          ],
          [
           0.1111111111111111,
           "#46039f"
          ],
          [
           0.2222222222222222,
           "#7201a8"
          ],
          [
           0.3333333333333333,
           "#9c179e"
          ],
          [
           0.4444444444444444,
           "#bd3786"
          ],
          [
           0.5555555555555556,
           "#d8576b"
          ],
          [
           0.6666666666666666,
           "#ed7953"
          ],
          [
           0.7777777777777778,
           "#fb9f3a"
          ],
          [
           0.8888888888888888,
           "#fdca26"
          ],
          [
           1,
           "#f0f921"
          ]
         ]
        },
        "margin": {
         "t": 60
        },
        "template": {
         "data": {
          "bar": [
           {
            "error_x": {
             "color": "#2a3f5f"
            },
            "error_y": {
             "color": "#2a3f5f"
            },
            "marker": {
             "line": {
              "color": "#E5ECF6",
              "width": 0.5
             },
             "pattern": {
              "fillmode": "overlay",
              "size": 10,
              "solidity": 0.2
             }
            },
            "type": "bar"
           }
          ],
          "barpolar": [
           {
            "marker": {
             "line": {
              "color": "#E5ECF6",
              "width": 0.5
             },
             "pattern": {
              "fillmode": "overlay",
              "size": 10,
              "solidity": 0.2
             }
            },
            "type": "barpolar"
           }
          ],
          "carpet": [
           {
            "aaxis": {
             "endlinecolor": "#2a3f5f",
             "gridcolor": "white",
             "linecolor": "white",
             "minorgridcolor": "white",
             "startlinecolor": "#2a3f5f"
            },
            "baxis": {
             "endlinecolor": "#2a3f5f",
             "gridcolor": "white",
             "linecolor": "white",
             "minorgridcolor": "white",
             "startlinecolor": "#2a3f5f"
            },
            "type": "carpet"
           }
          ],
          "choropleth": [
           {
            "colorbar": {
             "outlinewidth": 0,
             "ticks": ""
            },
            "type": "choropleth"
           }
          ],
          "contour": [
           {
            "colorbar": {
             "outlinewidth": 0,
             "ticks": ""
            },
            "colorscale": [
             [
              0,
              "#0d0887"
             ],
             [
              0.1111111111111111,
              "#46039f"
             ],
             [
              0.2222222222222222,
              "#7201a8"
             ],
             [
              0.3333333333333333,
              "#9c179e"
             ],
             [
              0.4444444444444444,
              "#bd3786"
             ],
             [
              0.5555555555555556,
              "#d8576b"
             ],
             [
              0.6666666666666666,
              "#ed7953"
             ],
             [
              0.7777777777777778,
              "#fb9f3a"
             ],
             [
              0.8888888888888888,
              "#fdca26"
             ],
             [
              1,
              "#f0f921"
             ]
            ],
            "type": "contour"
           }
          ],
          "contourcarpet": [
           {
            "colorbar": {
             "outlinewidth": 0,
             "ticks": ""
            },
            "type": "contourcarpet"
           }
          ],
          "heatmap": [
           {
            "colorbar": {
             "outlinewidth": 0,
             "ticks": ""
            },
            "colorscale": [
             [
              0,
              "#0d0887"
             ],
             [
              0.1111111111111111,
              "#46039f"
             ],
             [
              0.2222222222222222,
              "#7201a8"
             ],
             [
              0.3333333333333333,
              "#9c179e"
             ],
             [
              0.4444444444444444,
              "#bd3786"
             ],
             [
              0.5555555555555556,
              "#d8576b"
             ],
             [
              0.6666666666666666,
              "#ed7953"
             ],
             [
              0.7777777777777778,
              "#fb9f3a"
             ],
             [
              0.8888888888888888,
              "#fdca26"
             ],
             [
              1,
              "#f0f921"
             ]
            ],
            "type": "heatmap"
           }
          ],
          "histogram": [
           {
            "marker": {
             "pattern": {
              "fillmode": "overlay",
              "size": 10,
              "solidity": 0.2
             }
            },
            "type": "histogram"
           }
          ],
          "histogram2d": [
           {
            "colorbar": {
             "outlinewidth": 0,
             "ticks": ""
            },
            "colorscale": [
             [
              0,
              "#0d0887"
             ],
             [
              0.1111111111111111,
              "#46039f"
             ],
             [
              0.2222222222222222,
              "#7201a8"
             ],
             [
              0.3333333333333333,
              "#9c179e"
             ],
             [
              0.4444444444444444,
              "#bd3786"
             ],
             [
              0.5555555555555556,
              "#d8576b"
             ],
             [
              0.6666666666666666,
              "#ed7953"
             ],
             [
              0.7777777777777778,
              "#fb9f3a"
             ],
             [
              0.8888888888888888,
              "#fdca26"
             ],
             [
              1,
              "#f0f921"
             ]
            ],
            "type": "histogram2d"
           }
          ],
          "histogram2dcontour": [
           {
            "colorbar": {
             "outlinewidth": 0,
             "ticks": ""
            },
            "colorscale": [
             [
              0,
              "#0d0887"
             ],
             [
              0.1111111111111111,
              "#46039f"
             ],
             [
              0.2222222222222222,
              "#7201a8"
             ],
             [
              0.3333333333333333,
              "#9c179e"
             ],
             [
              0.4444444444444444,
              "#bd3786"
             ],
             [
              0.5555555555555556,
              "#d8576b"
             ],
             [
              0.6666666666666666,
              "#ed7953"
             ],
             [
              0.7777777777777778,
              "#fb9f3a"
             ],
             [
              0.8888888888888888,
              "#fdca26"
             ],
             [
              1,
              "#f0f921"
             ]
            ],
            "type": "histogram2dcontour"
           }
          ],
          "mesh3d": [
           {
            "colorbar": {
             "outlinewidth": 0,
             "ticks": ""
            },
            "type": "mesh3d"
           }
          ],
          "parcoords": [
           {
            "line": {
             "colorbar": {
              "outlinewidth": 0,
              "ticks": ""
             }
            },
            "type": "parcoords"
           }
          ],
          "pie": [
           {
            "automargin": true,
            "type": "pie"
           }
          ],
          "scatter": [
           {
            "fillpattern": {
             "fillmode": "overlay",
             "size": 10,
             "solidity": 0.2
            },
            "type": "scatter"
           }
          ],
          "scatter3d": [
           {
            "line": {
             "colorbar": {
              "outlinewidth": 0,
              "ticks": ""
             }
            },
            "marker": {
             "colorbar": {
              "outlinewidth": 0,
              "ticks": ""
             }
            },
            "type": "scatter3d"
           }
          ],
          "scattercarpet": [
           {
            "marker": {
             "colorbar": {
              "outlinewidth": 0,
              "ticks": ""
             }
            },
            "type": "scattercarpet"
           }
          ],
          "scattergeo": [
           {
            "marker": {
             "colorbar": {
              "outlinewidth": 0,
              "ticks": ""
             }
            },
            "type": "scattergeo"
           }
          ],
          "scattergl": [
           {
            "marker": {
             "colorbar": {
              "outlinewidth": 0,
              "ticks": ""
             }
            },
            "type": "scattergl"
           }
          ],
          "scattermap": [
           {
            "marker": {
             "colorbar": {
              "outlinewidth": 0,
              "ticks": ""
             }
            },
            "type": "scattermap"
           }
          ],
          "scattermapbox": [
           {
            "marker": {
             "colorbar": {
              "outlinewidth": 0,
              "ticks": ""
             }
            },
            "type": "scattermapbox"
           }
          ],
          "scatterpolar": [
           {
            "marker": {
             "colorbar": {
              "outlinewidth": 0,
              "ticks": ""
             }
            },
            "type": "scatterpolar"
           }
          ],
          "scatterpolargl": [
           {
            "marker": {
             "colorbar": {
              "outlinewidth": 0,
              "ticks": ""
             }
            },
            "type": "scatterpolargl"
           }
          ],
          "scatterternary": [
           {
            "marker": {
             "colorbar": {
              "outlinewidth": 0,
              "ticks": ""
             }
            },
            "type": "scatterternary"
           }
          ],
          "surface": [
           {
            "colorbar": {
             "outlinewidth": 0,
             "ticks": ""
            },
            "colorscale": [
             [
              0,
              "#0d0887"
             ],
             [
              0.1111111111111111,
              "#46039f"
             ],
             [
              0.2222222222222222,
              "#7201a8"
             ],
             [
              0.3333333333333333,
              "#9c179e"
             ],
             [
              0.4444444444444444,
              "#bd3786"
             ],
             [
              0.5555555555555556,
              "#d8576b"
             ],
             [
              0.6666666666666666,
              "#ed7953"
             ],
             [
              0.7777777777777778,
              "#fb9f3a"
             ],
             [
              0.8888888888888888,
              "#fdca26"
             ],
             [
              1,
              "#f0f921"
             ]
            ],
            "type": "surface"
           }
          ],
          "table": [
           {
            "cells": {
             "fill": {
              "color": "#EBF0F8"
             },
             "line": {
              "color": "white"
             }
            },
            "header": {
             "fill": {
              "color": "#C8D4E3"
             },
             "line": {
              "color": "white"
             }
            },
            "type": "table"
           }
          ]
         },
         "layout": {
          "annotationdefaults": {
           "arrowcolor": "#2a3f5f",
           "arrowhead": 0,
           "arrowwidth": 1
          },
          "autotypenumbers": "strict",
          "coloraxis": {
           "colorbar": {
            "outlinewidth": 0,
            "ticks": ""
           }
          },
          "colorscale": {
           "diverging": [
            [
             0,
             "#8e0152"
            ],
            [
             0.1,
             "#c51b7d"
            ],
            [
             0.2,
             "#de77ae"
            ],
            [
             0.3,
             "#f1b6da"
            ],
            [
             0.4,
             "#fde0ef"
            ],
            [
             0.5,
             "#f7f7f7"
            ],
            [
             0.6,
             "#e6f5d0"
            ],
            [
             0.7,
             "#b8e186"
            ],
            [
             0.8,
             "#7fbc41"
            ],
            [
             0.9,
             "#4d9221"
            ],
            [
             1,
             "#276419"
            ]
           ],
           "sequential": [
            [
             0,
             "#0d0887"
            ],
            [
             0.1111111111111111,
             "#46039f"
            ],
            [
             0.2222222222222222,
             "#7201a8"
            ],
            [
             0.3333333333333333,
             "#9c179e"
            ],
            [
             0.4444444444444444,
             "#bd3786"
            ],
            [
             0.5555555555555556,
             "#d8576b"
            ],
            [
             0.6666666666666666,
             "#ed7953"
            ],
            [
             0.7777777777777778,
             "#fb9f3a"
            ],
            [
             0.8888888888888888,
             "#fdca26"
            ],
            [
             1,
             "#f0f921"
            ]
           ],
           "sequentialminus": [
            [
             0,
             "#0d0887"
            ],
            [
             0.1111111111111111,
             "#46039f"
            ],
            [
             0.2222222222222222,
             "#7201a8"
            ],
            [
             0.3333333333333333,
             "#9c179e"
            ],
            [
             0.4444444444444444,
             "#bd3786"
            ],
            [
             0.5555555555555556,
             "#d8576b"
            ],
            [
             0.6666666666666666,
             "#ed7953"
            ],
            [
             0.7777777777777778,
             "#fb9f3a"
            ],
            [
             0.8888888888888888,
             "#fdca26"
            ],
            [
             1,
             "#f0f921"
            ]
           ]
          },
          "colorway": [
           "#636efa",
           "#EF553B",
           "#00cc96",
           "#ab63fa",
           "#FFA15A",
           "#19d3f3",
           "#FF6692",
           "#B6E880",
           "#FF97FF",
           "#FECB52"
          ],
          "font": {
           "color": "#2a3f5f"
          },
          "geo": {
           "bgcolor": "white",
           "lakecolor": "white",
           "landcolor": "#E5ECF6",
           "showlakes": true,
           "showland": true,
           "subunitcolor": "white"
          },
          "hoverlabel": {
           "align": "left"
          },
          "hovermode": "closest",
          "mapbox": {
           "style": "light"
          },
          "paper_bgcolor": "white",
          "plot_bgcolor": "#E5ECF6",
          "polar": {
           "angularaxis": {
            "gridcolor": "white",
            "linecolor": "white",
            "ticks": ""
           },
           "bgcolor": "#E5ECF6",
           "radialaxis": {
            "gridcolor": "white",
            "linecolor": "white",
            "ticks": ""
           }
          },
          "scene": {
           "xaxis": {
            "backgroundcolor": "#E5ECF6",
            "gridcolor": "white",
            "gridwidth": 2,
            "linecolor": "white",
            "showbackground": true,
            "ticks": "",
            "zerolinecolor": "white"
           },
           "yaxis": {
            "backgroundcolor": "#E5ECF6",
            "gridcolor": "white",
            "gridwidth": 2,
            "linecolor": "white",
            "showbackground": true,
            "ticks": "",
            "zerolinecolor": "white"
           },
           "zaxis": {
            "backgroundcolor": "#E5ECF6",
            "gridcolor": "white",
            "gridwidth": 2,
            "linecolor": "white",
            "showbackground": true,
            "ticks": "",
            "zerolinecolor": "white"
           }
          },
          "shapedefaults": {
           "line": {
            "color": "#2a3f5f"
           }
          },
          "ternary": {
           "aaxis": {
            "gridcolor": "white",
            "linecolor": "white",
            "ticks": ""
           },
           "baxis": {
            "gridcolor": "white",
            "linecolor": "white",
            "ticks": ""
           },
           "bgcolor": "#E5ECF6",
           "caxis": {
            "gridcolor": "white",
            "linecolor": "white",
            "ticks": ""
           }
          },
          "title": {
           "x": 0.05
          },
          "xaxis": {
           "automargin": true,
           "gridcolor": "white",
           "linecolor": "white",
           "ticks": "",
           "title": {
            "standoff": 15
           },
           "zerolinecolor": "white",
           "zerolinewidth": 2
          },
          "yaxis": {
           "automargin": true,
           "gridcolor": "white",
           "linecolor": "white",
           "ticks": "",
           "title": {
            "standoff": 15
           },
           "zerolinecolor": "white",
           "zerolinewidth": 2
          }
         }
        },
        "xaxis": {
         "anchor": "y",
         "constrain": "domain",
         "domain": [
          0,
          1
         ],
         "scaleanchor": "y"
        },
        "yaxis": {
         "anchor": "x",
         "autorange": "reversed",
         "constrain": "domain",
         "domain": [
          0,
          1
         ]
        }
       }
      }
     },
     "metadata": {},
     "output_type": "display_data"
    }
   ],
   "source": [
    "# * Correlation analysis -https://stackoverflow.com/questions/66572672/correlation-heatmap-in-plotly\n",
    "\n",
    "# Correlation\n",
    "df_corr = df.corr().round(2)  \n",
    "# Mask to matrix\n",
    "mask = np.zeros_like(df_corr, dtype=bool)\n",
    "mask[np.triu_indices_from(mask)] = True\n",
    "# Viz\n",
    "df_corr_viz = df_corr.mask(mask).dropna(how='all').dropna(axis='columns', how='all')\n",
    "# df_corr_viz = df_corr.mask(mask).dropna(how='all').dropna(how='all')\n",
    "\n",
    "fig = px.imshow(df_corr_viz, text_auto=True)\n",
    "fig.show()\n"
   ]
  },
  {
   "cell_type": "code",
   "execution_count": 11,
   "metadata": {},
   "outputs": [
    {
     "data": {
      "application/vnd.plotly.v1+json": {
       "config": {
        "plotlyServerURL": "https://plot.ly"
       },
       "data": [
        {
         "dimensions": [
          {
           "label": "orbital_period",
           "values": {
            "bdata": "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",
            "dtype": "f8"
           }
          },
          {
           "label": "mass",
           "values": {
            "bdata": "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",
            "dtype": "f8"
           }
          },
          {
           "label": "distance",
           "values": {
            "bdata": "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",
            "dtype": "f8"
           }
          },
          {
           "label": "year",
           "values": {
            "bdata": "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",
            "dtype": "i2"
           }
          },
          {
           "label": "method",
           "values": {
            "bdata": "BwcHBwcHBwcHBwcHBwcHBwcHBwcHBwcHBwcHBwcCAgIBAgICAgEBAQEBAQEBBwcCBwcHBwcHAgcHBwcHBwcHBwcHBwcCAgICAgICAgcHBwcHBwcHBwcHBwcCAggICAgICAgHCAgICAgICAgICAgICAgABwcHBwcHBwcHBwIHBwcHBwcHBwcHBwcHBwcHBwcHBwcIBwcHAggICAgICAgICAgHCAgICAcICAgICAgICAgICAgICAcICAgICAgICAgICAgICAgIBwcHBwcHBwcHBwcHBwcHBwcHBwcHBwcHBwcHBwcHBwcHBwcHBwcHBwcHBwcHBwcHBwcHBwcHBwcHBwcHBwcHBwcHBwcHBwcHBwcHBwcHBwcHBwcHBwcHBwcHBwcHBwcHBwcHBwcHBwcHBwcHBwcHBwcHBwcHBwcHBwcHBwcHBwcHBwcHBwcHBwcHBwcHBwcHBwcHBwcHBwcHBwcHBwcHBwcHBwcHBwcHBwcHBwcHBwcHBwcHBwcHBwcHBwcHBwcHBwcCBwcHBwcHBwcHBwcHBwcHBwcHBwcHBwcHBwcHBwcHAgcHBwcHBwcHBwcHBwcHBwcHBwcHBwcHBwcHBwcHBwcHBwcHBwcHBwcHBwcHBwcHBwcHBwcHBwcHBwcHBwcHBwcHBwcHBwcHBwcHBwcHBwcHBwcHBwcHBwcHBwcHBwcHBwcHBwcHBwcHBwcHBwcHBwcHAAcHBwcHBwcHBwcHBwcHBwcHBwcHBwcHBwcHBwcHBwcHBwcHBwcHBwIHBwcHBwcHBwcHBwcHBwcHBwcHBwcHBwcHBwcHBwcHBwcHBwcHBwcHBwcHBwcHBwcHBwcHBwcHBwcCBwcHAgcHBwICAgIICAgICAgICAgICAgICAgICAgICAgICAgICAgICAgICAgJCAgICAgICAgICAgICAcICAgICAgICAgICAgICAgICAgICAgICAgICAgICAgICAgICAgICAgICAkICAgICAcICAgICAgJCAgICAgICAgICAgICAgICAgICAgICAgICAgICAgICAgICAcICAQECAgIBAgICAgICAgICAgICAgICAgICAgICQgICAgICAgICAgICAgICAcIBwgICAcICAgICAgICAgICAgICAgICAgICAgICAgICAgICAgICAgICAgICAgICAgICAgICAgICAgICAgICAgHCAgICAgIAggDAwMDAwMDAwMDAwcHBwcDAwMDAwMDAwMDAwMICAgICAgICAIIBwcFBQUFBQgIAgICCAgICAgIAgYICAgICAgICAgICAgICAgICAgICAgICAgICAgICAgICAgICAgICAgICAgICAgICAgICAgICAgICAgICAgICAgICAgICAIIAggICAgI",
            "dtype": "i1"
           }
          }
         ],
         "domain": {
          "x": [
           0,
           1
          ],
          "y": [
           0,
           1
          ]
         },
         "line": {
          "color": {
           "bdata": "AQEBAQEBAQEBAgIBAQMDAwEFBQUFBQMDAwEBAQEBAQEBAQEBAQICAgIBAQICAQEBAQEBAQEBAQECAgEBAQEBAQQEBAQBAQEBAQEBAQEBAQICAgIBAQICAQEBAQEBAQEBAQICAQEBAQEBAQEBAQEBAQEBAQMDAwECAgEBAQEEBAQEAQYGBgYGBgEDAwMBAQQEBAQBAQEBAQEBAQEBAQEBAQICAQEBAgIBAQEBAQEBAQEBAQEBAgIBAQEBAQEBAQEBAQEBAQEBAgICAgEBAQEBAQEBAQEBAgIBAQEBAQEBAgIBAQEBAgIGBgYGBgYBAQICAQICAgIBAgICAgEBAQEBAQEBAQICAQMDAwICAQECAgEBAQEBAQEBAQEBAQEBAQEDAwMBAQEBAQEDAwMBAgIDAwMCAgEBBgYGBgYGAQEBAgIBAQEBAQICAQEBAgICAgEBAQECAgEBAgIBAQECAgEBAQMDAwEBAQEBAgIBAwMDAQEBAQEBAQECAgEBAQEBAQEBAQEBAQEBAgIBAQEBAQICAQEBAQICAQEBAQEBAgIBAQEBAQEBAQEBAQEBAQICAQICAQEBAQICAgIBAQEBAQEBAQEBAQMDAwEBAQICAQEBAQEBAgICAgMDAwEDAwMBAQEBAQEBAQECAgEBAQEBAQEBAQEBAQECAgICAQEBAQEBAgICAgQEBAQBAgIBAQEBAQICAQICAQEBAQEBAQICAQEBAQEBAwMDAQICAQECAgEBAQECAgEBAQICAQEBAQEBAgICAgEDAwMBAQECAgEBAQEBAQEBAgICAgICAQEBAgIBAQEBAQEBAQEBAQEBAQEBAQEBAgIBAQMDAwEDAwMBAQEBAQEBAQQEBAQBAQEBAQEBAQEBAQEDAwMCAgYGBgYGBgEBAQEBAQMDAwICBQUFBQUBAQICAgIDAwMCAgICAgICAgMDAwICBQUFBQUFBQUFBQEBAgIDAwMBAQEBAwMDAQEBAgICAgQEBAQCAgICAwMDAgICAgICAgICAgICAgICAgMDAwEFBQUFBQEBAwMDAQEDAwMCAgICAQEBAQEBAgICAgICAgICAgICAgIBAgICAgQEBAQHBwcHBwcHAQICAgICAgEBAgIBAQMDAwUFBQUFAgICBAQEBAICAgICAgICAwICAgICAgICAgICAgICAgICAgICAgICAgICAgICAgICAQEBAQEBAQEBAQEBAQEBAQEBAQEBAQEBAQEBAgIBAQICAQEBAQEBAQEBAQEBAQEDAwMBAQEBAQEBAQEBAQEBAQEBAQEBAQEBAQEBAQEBAQEBAQEBAQEBAQEBAQEBAQEBAQEBAQEBAQEBAQEBAQEBAQEBAQEBAQEBAQEBAQEBAQEBAQEBAQEBAQEBAQEB",
           "dtype": "i1"
          },
          "coloraxis": "coloraxis"
         },
         "name": "",
         "type": "parcoords"
        }
       ],
       "layout": {
        "coloraxis": {
         "cmid": 2,
         "colorbar": {
          "title": {
           "text": "number"
          }
         },
         "colorscale": [
          [
           0,
           "rgb(0, 147, 146)"
          ],
          [
           0.16666666666666666,
           "rgb(114, 170, 161)"
          ],
          [
           0.3333333333333333,
           "rgb(177, 199, 179)"
          ],
          [
           0.5,
           "rgb(241, 234, 200)"
          ],
          [
           0.6666666666666666,
           "rgb(229, 185, 173)"
          ],
          [
           0.8333333333333334,
           "rgb(217, 137, 148)"
          ],
          [
           1,
           "rgb(208, 88, 126)"
          ]
         ]
        },
        "legend": {
         "tracegroupgap": 0
        },
        "margin": {
         "t": 60
        },
        "template": {
         "data": {
          "bar": [
           {
            "error_x": {
             "color": "#2a3f5f"
            },
            "error_y": {
             "color": "#2a3f5f"
            },
            "marker": {
             "line": {
              "color": "#E5ECF6",
              "width": 0.5
             },
             "pattern": {
              "fillmode": "overlay",
              "size": 10,
              "solidity": 0.2
             }
            },
            "type": "bar"
           }
          ],
          "barpolar": [
           {
            "marker": {
             "line": {
              "color": "#E5ECF6",
              "width": 0.5
             },
             "pattern": {
              "fillmode": "overlay",
              "size": 10,
              "solidity": 0.2
             }
            },
            "type": "barpolar"
           }
          ],
          "carpet": [
           {
            "aaxis": {
             "endlinecolor": "#2a3f5f",
             "gridcolor": "white",
             "linecolor": "white",
             "minorgridcolor": "white",
             "startlinecolor": "#2a3f5f"
            },
            "baxis": {
             "endlinecolor": "#2a3f5f",
             "gridcolor": "white",
             "linecolor": "white",
             "minorgridcolor": "white",
             "startlinecolor": "#2a3f5f"
            },
            "type": "carpet"
           }
          ],
          "choropleth": [
           {
            "colorbar": {
             "outlinewidth": 0,
             "ticks": ""
            },
            "type": "choropleth"
           }
          ],
          "contour": [
           {
            "colorbar": {
             "outlinewidth": 0,
             "ticks": ""
            },
            "colorscale": [
             [
              0,
              "#0d0887"
             ],
             [
              0.1111111111111111,
              "#46039f"
             ],
             [
              0.2222222222222222,
              "#7201a8"
             ],
             [
              0.3333333333333333,
              "#9c179e"
             ],
             [
              0.4444444444444444,
              "#bd3786"
             ],
             [
              0.5555555555555556,
              "#d8576b"
             ],
             [
              0.6666666666666666,
              "#ed7953"
             ],
             [
              0.7777777777777778,
              "#fb9f3a"
             ],
             [
              0.8888888888888888,
              "#fdca26"
             ],
             [
              1,
              "#f0f921"
             ]
            ],
            "type": "contour"
           }
          ],
          "contourcarpet": [
           {
            "colorbar": {
             "outlinewidth": 0,
             "ticks": ""
            },
            "type": "contourcarpet"
           }
          ],
          "heatmap": [
           {
            "colorbar": {
             "outlinewidth": 0,
             "ticks": ""
            },
            "colorscale": [
             [
              0,
              "#0d0887"
             ],
             [
              0.1111111111111111,
              "#46039f"
             ],
             [
              0.2222222222222222,
              "#7201a8"
             ],
             [
              0.3333333333333333,
              "#9c179e"
             ],
             [
              0.4444444444444444,
              "#bd3786"
             ],
             [
              0.5555555555555556,
              "#d8576b"
             ],
             [
              0.6666666666666666,
              "#ed7953"
             ],
             [
              0.7777777777777778,
              "#fb9f3a"
             ],
             [
              0.8888888888888888,
              "#fdca26"
             ],
             [
              1,
              "#f0f921"
             ]
            ],
            "type": "heatmap"
           }
          ],
          "histogram": [
           {
            "marker": {
             "pattern": {
              "fillmode": "overlay",
              "size": 10,
              "solidity": 0.2
             }
            },
            "type": "histogram"
           }
          ],
          "histogram2d": [
           {
            "colorbar": {
             "outlinewidth": 0,
             "ticks": ""
            },
            "colorscale": [
             [
              0,
              "#0d0887"
             ],
             [
              0.1111111111111111,
              "#46039f"
             ],
             [
              0.2222222222222222,
              "#7201a8"
             ],
             [
              0.3333333333333333,
              "#9c179e"
             ],
             [
              0.4444444444444444,
              "#bd3786"
             ],
             [
              0.5555555555555556,
              "#d8576b"
             ],
             [
              0.6666666666666666,
              "#ed7953"
             ],
             [
              0.7777777777777778,
              "#fb9f3a"
             ],
             [
              0.8888888888888888,
              "#fdca26"
             ],
             [
              1,
              "#f0f921"
             ]
            ],
            "type": "histogram2d"
           }
          ],
          "histogram2dcontour": [
           {
            "colorbar": {
             "outlinewidth": 0,
             "ticks": ""
            },
            "colorscale": [
             [
              0,
              "#0d0887"
             ],
             [
              0.1111111111111111,
              "#46039f"
             ],
             [
              0.2222222222222222,
              "#7201a8"
             ],
             [
              0.3333333333333333,
              "#9c179e"
             ],
             [
              0.4444444444444444,
              "#bd3786"
             ],
             [
              0.5555555555555556,
              "#d8576b"
             ],
             [
              0.6666666666666666,
              "#ed7953"
             ],
             [
              0.7777777777777778,
              "#fb9f3a"
             ],
             [
              0.8888888888888888,
              "#fdca26"
             ],
             [
              1,
              "#f0f921"
             ]
            ],
            "type": "histogram2dcontour"
           }
          ],
          "mesh3d": [
           {
            "colorbar": {
             "outlinewidth": 0,
             "ticks": ""
            },
            "type": "mesh3d"
           }
          ],
          "parcoords": [
           {
            "line": {
             "colorbar": {
              "outlinewidth": 0,
              "ticks": ""
             }
            },
            "type": "parcoords"
           }
          ],
          "pie": [
           {
            "automargin": true,
            "type": "pie"
           }
          ],
          "scatter": [
           {
            "fillpattern": {
             "fillmode": "overlay",
             "size": 10,
             "solidity": 0.2
            },
            "type": "scatter"
           }
          ],
          "scatter3d": [
           {
            "line": {
             "colorbar": {
              "outlinewidth": 0,
              "ticks": ""
             }
            },
            "marker": {
             "colorbar": {
              "outlinewidth": 0,
              "ticks": ""
             }
            },
            "type": "scatter3d"
           }
          ],
          "scattercarpet": [
           {
            "marker": {
             "colorbar": {
              "outlinewidth": 0,
              "ticks": ""
             }
            },
            "type": "scattercarpet"
           }
          ],
          "scattergeo": [
           {
            "marker": {
             "colorbar": {
              "outlinewidth": 0,
              "ticks": ""
             }
            },
            "type": "scattergeo"
           }
          ],
          "scattergl": [
           {
            "marker": {
             "colorbar": {
              "outlinewidth": 0,
              "ticks": ""
             }
            },
            "type": "scattergl"
           }
          ],
          "scattermap": [
           {
            "marker": {
             "colorbar": {
              "outlinewidth": 0,
              "ticks": ""
             }
            },
            "type": "scattermap"
           }
          ],
          "scattermapbox": [
           {
            "marker": {
             "colorbar": {
              "outlinewidth": 0,
              "ticks": ""
             }
            },
            "type": "scattermapbox"
           }
          ],
          "scatterpolar": [
           {
            "marker": {
             "colorbar": {
              "outlinewidth": 0,
              "ticks": ""
             }
            },
            "type": "scatterpolar"
           }
          ],
          "scatterpolargl": [
           {
            "marker": {
             "colorbar": {
              "outlinewidth": 0,
              "ticks": ""
             }
            },
            "type": "scatterpolargl"
           }
          ],
          "scatterternary": [
           {
            "marker": {
             "colorbar": {
              "outlinewidth": 0,
              "ticks": ""
             }
            },
            "type": "scatterternary"
           }
          ],
          "surface": [
           {
            "colorbar": {
             "outlinewidth": 0,
             "ticks": ""
            },
            "colorscale": [
             [
              0,
              "#0d0887"
             ],
             [
              0.1111111111111111,
              "#46039f"
             ],
             [
              0.2222222222222222,
              "#7201a8"
             ],
             [
              0.3333333333333333,
              "#9c179e"
             ],
             [
              0.4444444444444444,
              "#bd3786"
             ],
             [
              0.5555555555555556,
              "#d8576b"
             ],
             [
              0.6666666666666666,
              "#ed7953"
             ],
             [
              0.7777777777777778,
              "#fb9f3a"
             ],
             [
              0.8888888888888888,
              "#fdca26"
             ],
             [
              1,
              "#f0f921"
             ]
            ],
            "type": "surface"
           }
          ],
          "table": [
           {
            "cells": {
             "fill": {
              "color": "#EBF0F8"
             },
             "line": {
              "color": "white"
             }
            },
            "header": {
             "fill": {
              "color": "#C8D4E3"
             },
             "line": {
              "color": "white"
             }
            },
            "type": "table"
           }
          ]
         },
         "layout": {
          "annotationdefaults": {
           "arrowcolor": "#2a3f5f",
           "arrowhead": 0,
           "arrowwidth": 1
          },
          "autotypenumbers": "strict",
          "coloraxis": {
           "colorbar": {
            "outlinewidth": 0,
            "ticks": ""
           }
          },
          "colorscale": {
           "diverging": [
            [
             0,
             "#8e0152"
            ],
            [
             0.1,
             "#c51b7d"
            ],
            [
             0.2,
             "#de77ae"
            ],
            [
             0.3,
             "#f1b6da"
            ],
            [
             0.4,
             "#fde0ef"
            ],
            [
             0.5,
             "#f7f7f7"
            ],
            [
             0.6,
             "#e6f5d0"
            ],
            [
             0.7,
             "#b8e186"
            ],
            [
             0.8,
             "#7fbc41"
            ],
            [
             0.9,
             "#4d9221"
            ],
            [
             1,
             "#276419"
            ]
           ],
           "sequential": [
            [
             0,
             "#0d0887"
            ],
            [
             0.1111111111111111,
             "#46039f"
            ],
            [
             0.2222222222222222,
             "#7201a8"
            ],
            [
             0.3333333333333333,
             "#9c179e"
            ],
            [
             0.4444444444444444,
             "#bd3786"
            ],
            [
             0.5555555555555556,
             "#d8576b"
            ],
            [
             0.6666666666666666,
             "#ed7953"
            ],
            [
             0.7777777777777778,
             "#fb9f3a"
            ],
            [
             0.8888888888888888,
             "#fdca26"
            ],
            [
             1,
             "#f0f921"
            ]
           ],
           "sequentialminus": [
            [
             0,
             "#0d0887"
            ],
            [
             0.1111111111111111,
             "#46039f"
            ],
            [
             0.2222222222222222,
             "#7201a8"
            ],
            [
             0.3333333333333333,
             "#9c179e"
            ],
            [
             0.4444444444444444,
             "#bd3786"
            ],
            [
             0.5555555555555556,
             "#d8576b"
            ],
            [
             0.6666666666666666,
             "#ed7953"
            ],
            [
             0.7777777777777778,
             "#fb9f3a"
            ],
            [
             0.8888888888888888,
             "#fdca26"
            ],
            [
             1,
             "#f0f921"
            ]
           ]
          },
          "colorway": [
           "#636efa",
           "#EF553B",
           "#00cc96",
           "#ab63fa",
           "#FFA15A",
           "#19d3f3",
           "#FF6692",
           "#B6E880",
           "#FF97FF",
           "#FECB52"
          ],
          "font": {
           "color": "#2a3f5f"
          },
          "geo": {
           "bgcolor": "white",
           "lakecolor": "white",
           "landcolor": "#E5ECF6",
           "showlakes": true,
           "showland": true,
           "subunitcolor": "white"
          },
          "hoverlabel": {
           "align": "left"
          },
          "hovermode": "closest",
          "mapbox": {
           "style": "light"
          },
          "paper_bgcolor": "white",
          "plot_bgcolor": "#E5ECF6",
          "polar": {
           "angularaxis": {
            "gridcolor": "white",
            "linecolor": "white",
            "ticks": ""
           },
           "bgcolor": "#E5ECF6",
           "radialaxis": {
            "gridcolor": "white",
            "linecolor": "white",
            "ticks": ""
           }
          },
          "scene": {
           "xaxis": {
            "backgroundcolor": "#E5ECF6",
            "gridcolor": "white",
            "gridwidth": 2,
            "linecolor": "white",
            "showbackground": true,
            "ticks": "",
            "zerolinecolor": "white"
           },
           "yaxis": {
            "backgroundcolor": "#E5ECF6",
            "gridcolor": "white",
            "gridwidth": 2,
            "linecolor": "white",
            "showbackground": true,
            "ticks": "",
            "zerolinecolor": "white"
           },
           "zaxis": {
            "backgroundcolor": "#E5ECF6",
            "gridcolor": "white",
            "gridwidth": 2,
            "linecolor": "white",
            "showbackground": true,
            "ticks": "",
            "zerolinecolor": "white"
           }
          },
          "shapedefaults": {
           "line": {
            "color": "#2a3f5f"
           }
          },
          "ternary": {
           "aaxis": {
            "gridcolor": "white",
            "linecolor": "white",
            "ticks": ""
           },
           "baxis": {
            "gridcolor": "white",
            "linecolor": "white",
            "ticks": ""
           },
           "bgcolor": "#E5ECF6",
           "caxis": {
            "gridcolor": "white",
            "linecolor": "white",
            "ticks": ""
           }
          },
          "title": {
           "x": 0.05
          },
          "xaxis": {
           "automargin": true,
           "gridcolor": "white",
           "linecolor": "white",
           "ticks": "",
           "title": {
            "standoff": 15
           },
           "zerolinecolor": "white",
           "zerolinewidth": 2
          },
          "yaxis": {
           "automargin": true,
           "gridcolor": "white",
           "linecolor": "white",
           "ticks": "",
           "title": {
            "standoff": 15
           },
           "zerolinecolor": "white",
           "zerolinewidth": 2
          }
         }
        }
       }
      }
     },
     "metadata": {},
     "output_type": "display_data"
    }
   ],
   "source": [
    "# * Dimensionality assessment - https://plotly.com/python/parallel-coordinates-plot/\n",
    "\n",
    "fig = px.parallel_coordinates(df, color=\"number\",\n",
    "                              dimensions=['orbital_period', 'mass', 'distance', 'year', 'method'],\n",
    "                              color_continuous_scale=px.colors.diverging.Tealrose,\n",
    "                              color_continuous_midpoint=2)\n",
    "fig.show()"
   ]
  },
  {
   "cell_type": "markdown",
   "metadata": {},
   "source": [
    "**Hypothesis Generation**\n",
    "\n",
    "One of the highest correlations is between orbital period and the method used for observing the planet. I think that we can use this data to make profiles for the types of planets that are best analyzed by each of the techniques used in the dataset."
   ]
  },
  {
   "cell_type": "markdown",
   "metadata": {},
   "source": [
    "____\n",
    "\n",
    "## <font color=#00BBFF>  Problem #3 - Projects (10 points) </font>\n",
    "\n",
    "It is time to start working on your project!\n",
    "\n",
    "Read the instructions on projects given in D2L and Teams so that you are very familiar with the plan. As always, please contact us on Teams with any questions that arise!\n",
    "\n",
    "In a cell below, write your current ideas for your project. I would like this to come from you on a topic what is of interest to you. Answer these questions:\n",
    "* what topics are you interested in?\n",
    "* do you already have a dataset you want to work with?\n",
    "* if not, explore datasets online to see if you can find several that might work\n",
    "    - as we have seen, there are datasets in some of the standard Python libraries (e.g., Seaborn, sklearn, Pandas), but there are also repos like [this one](https://archive.ics.uci.edu)\n",
    "* identify a definite dataset you want to work with for the next few weeks - you will be able to change it; in fact, you might find it can't do what you hope and you will have to change it\n",
    "* discuss the dataset(s) you found and what you think they can do for you: it is important that there is a narrative, a purpose, a story\n",
    "* from what you know today, what visualizations and interactive elements might you use in your app?\n",
    "\n",
    "Give as many details as you can. And, if you have any concerns, discuss those as well. We need to think about risk mitigation because in data science we don't always have the data we wish we did. \n",
    "\n"
   ]
  },
  {
   "cell_type": "markdown",
   "metadata": {},
   "source": [
    " **Answer**\n",
    " \n",
    " I am interested in robotics and autonomous vehicles. I have a couple datasets that I have generated as part of my research work, but I am going to try to use them to publish a paper. It might be double dipping to also use them for coursework. I found a few promising alternatives on the UC Irvine repo:\n",
    "\n",
    " - https://archive.ics.uci.edu/dataset/963/ur3+cobotops\n",
    " - https://archive.ics.uci.edu/dataset/466/gnfuv+unmanned+surface+vehicles+sensor+data+set+2 \n",
    " - https://archive.ics.uci.edu/dataset/135/pioneer+1+mobile+robot+data\n",
    "\n",
    " The first one looks the most promising. It is the logs for a cobot operating at some task with a human. Position and other robot state information is included, as well as whether it stopped because the robot lost its grip or because the human got in the way. There is a clear narrative in that this data could be used to forcast what actions will lead to failures and avoid them proactively. I can potetially visualize the position of the robot during failures in a schematic type diagram, or the riskiest states in a heatmap. I could also have a gui that allows people to move the robot, then have a model that throws faults with a similar probabiliity as would be experienced in an actual manufacturing scenario."
   ]
  },
  {
   "cell_type": "markdown",
   "metadata": {},
   "source": [
    "____\n",
    "\n",
    "## <font color=#00BBFF>  Problem #4 - Chapter 3 (10 points) </font>\n",
    "\n",
    "Read Chapter 3 in your textbook. In a markdown cell, summarize your favorite story told in the chapter and discuss why it clearly illustrates the notion of causality to you. \n",
    "\n",
    "Next, go to [this webpage](https://www.tylervigen.com/spurious-correlations). Find the page **Discover a correlation** and scroll down to find a topic of interest to you; for example, **Google searches**. Click on one and then find something below it to correlate it with. Create the funniest pairing you can and write a short paragraph to make it seem real. There will be a channel on Teams, Spurious Correlation, where you can post your result, if you wish. Put the paragraph first, and then the plot that \"proves\" your hypothesis. \n",
    "\n",
    "Here is an example:"
   ]
  },
  {
   "cell_type": "markdown",
   "metadata": {},
   "source": [
    "\n",
    "#### Pychological Effects of Margarine\n",
    "\n",
    "Margarine consumption causes couples to move further apart. We suspect that the slick, oily texture of margarine has a psychological effect, subtly eroding the bonds of marriage over time because meals have drifted away from slow and healthy meals to quick meals alone.\n",
    "\n",
    "Some psychologists even theorize that margarine, being a processed substitute for butter, symbolizes a deeper discontent in the lives of those who consume it—perhaps a reflection of emotional substitutes in relationships. The message is clear: _If you love your spouse, stay away from margarine!_\n",
    "\n",
    "With this discovery, today we are launching a public health campaign: \"**Save Your Marriage, Skip the Margarine**.\" Margarine joins the ranks of other known relationship stressors like long commutes, financial woes, and reality TV shows.\n",
    "\n",
    "You’ve heard the facts:  here's the data: \n",
    "\n",
    "\n",
    "\n",
    "![marg](https://tylervigen.com/spurious/correlation/image/5920_per-capita-consumption-of-margarine_correlates-with_the-divorce-rate-in-maine.svg)"
   ]
  },
  {
   "cell_type": "markdown",
   "metadata": {},
   "source": [
    "**Answer**\n",
    "\n",
    "If the coauthors should both kill their swarn enemy at the same time, they can technically claim that neither of their actions caused the death of their enemy. Since it would have happended anyway if one of them had decided not to attack the enemy, they can argue that neither of them were to blame. This is a logical loophole in the counterfactual approach to deciding causality, because common sense says they are both guilty of murder, but from the perspective of the counterfactual world the outcome is the same and no one is responsible. Even in this simple case, causality is a slippery concept."
   ]
  },
  {
   "cell_type": "markdown",
   "metadata": {},
   "source": [
    "New data shows that the increase in UFO sightings in Connecticut has driven exponential growth in the number of successful Mount Everest climbs over a 35 year period. Roughly 8.55 climbs per sighting is a strong relationship between these two phenomenon. This data goes a long way towards determining why so many attempts to reach the summit fail. The primary reason is that beyond a certain threshold of 8.55 climbs per sighting on average per year, the UFO ratio has reached saturation and climbing Mount Everest is no longer possible. In order to give more people a chance to achieve this important milestone in their mountaineering careers, $5 billion in federal funding has been allocated in order to increase UFO surveillance capabilities in New England. "
   ]
  },
  {
   "cell_type": "markdown",
   "metadata": {},
   "source": [
    "![color](https://www.tylervigen.com/spurious/correlation/image/1891_ufo-sightings-in-connecticut_correlates-with_total-number-of-successful-mount-everest-climbs.png)"
   ]
  },
  {
   "cell_type": "markdown",
   "metadata": {},
   "source": [
    "____\n",
    "\n",
    "![color](https://miro.medium.com/v2/resize:fit:800/0*-t4uEHHRgeJ8w-wx.png))\n",
    "\n",
    "## <font color=#00BBFF> Problem #5 Understanding Color (0 pts) </font>\n",
    "\n",
    "This problem does not have any points. It is for your own personal curiosity. Watch this video. \n",
    "\n"
   ]
  },
  {
   "cell_type": "code",
   "execution_count": 12,
   "metadata": {},
   "outputs": [
    {
     "data": {
      "image/jpeg": "[encoded data removed]",
      "text/html": [
       "\n",
       "        <iframe\n",
       "            width=\"560\"\n",
       "            height=\"315\"\n",
       "            src=\"https://www.youtube.com/embed/xAoljeRJ3lU\"\n",
       "            frameborder=\"0\"\n",
       "            allowfullscreen\n",
       "            \n",
       "        ></iframe>\n",
       "        "
      ],
      "text/plain": [
       "<IPython.lib.display.YouTubeVideo at 0x2bf3164d400>"
      ]
     },
     "execution_count": 12,
     "metadata": {},
     "output_type": "execute_result"
    }
   ],
   "source": [
    "from IPython.display import YouTubeVideo\n",
    "video_id = \"xAoljeRJ3lU\"\n",
    "YouTubeVideo(video_id, width=560, height=315)"
   ]
  },
  {
   "cell_type": "markdown",
   "metadata": {},
   "source": [
    "---\n",
    "## Congratulations, you're done!\n",
    "\n",
    "### 🛑 IMPORTANT: Before Submission\n",
    "\n",
    "**STOP!** Before submitting your notebook, please follow these steps:\n",
    "\n",
    "### Step 1: Restart Your Kernel\n",
    "\n",
    "**Jupyter Notebook (Classic):**\n",
    "- Go to `Kernel` → `Restart & Clear Output`\n",
    "\n",
    "**JupyterLab:**\n",
    "- Go to `Kernel` → `Restart Kernel and Clear All Outputs...`\n",
    "\n",
    "**VS Code:**\n",
    "- Open Command Palette (`Ctrl+Shift+P` / `Cmd+Shift+P`)\n",
    "- Type \"Jupyter: Restart\" and select `Jupyter: Restart`\n",
    "- Then select `Clear All Output`\n",
    "\n",
    "**PyCharm:**\n",
    "- Go to `Run` → `Restart Kernel` (or click the restart button in the toolbar)\n",
    "- Go to `Cell` → `All Output` → `Clear`\n",
    "\n",
    "### Step 2: Run All Cells\n",
    "\n",
    "**Jupyter Notebook (Classic):**\n",
    "- Go to `Cell` → `Run All`\n",
    "\n",
    "**JupyterLab:**\n",
    "- Go to `Run` → `Run All Cells`\n",
    "\n",
    "**VS Code:**\n",
    "- Open Command Palette (`Ctrl+Shift+P` / `Cmd+Shift+P`)\n",
    "- Type \"Jupyter: Run All\" and select `Jupyter: Run All Cells`\n",
    "\n",
    "**PyCharm:**\n",
    "- Go to `Cell` → `Run All` (or use `Ctrl+Shift+F10` / `Cmd+Shift+R`)\n",
    "\n",
    "### Step 3: Verify Everything Works\n",
    "\n",
    "Check that all cells execute without errors and produce the expected output\n",
    "\n",
    "This ensures that your notebook will run correctly when graded and that you haven't missed any dependencies or variable definitions that might exist only in your current session.\n",
    "\n",
    "*Your submission will be tested in a fresh environment, so this step is crucial for full credit!*\n",
    "\n",
    "\n",
    "### Step 4: Submit \n",
    "Submit this assignment by uploading your notebook to the course Desire2Learn web page.  Go to the \"Homework\" folder, find the appropriate submission link, and upload everything there. Make sure your name is on it!\n"
   ]
  },
  {
   "cell_type": "markdown",
   "metadata": {},
   "source": [
    "&#169; Copyright 2025, Department of Computational Mathematics, Science and Engineering at Michigan State University."
   ]
  }
 ],
 "metadata": {
  "kernelspec": {
   "display_name": "cmse830",
   "language": "python",
   "name": "python3"
  },
  "language_info": {
   "codemirror_mode": {
    "name": "ipython",
    "version": 3
   },
   "file_extension": ".py",
   "mimetype": "text/x-python",
   "name": "python",
   "nbconvert_exporter": "python",
   "pygments_lexer": "ipython3",
   "version": "3.13.1"
  }
 },
 "nbformat": 4,
 "nbformat_minor": 2
}
