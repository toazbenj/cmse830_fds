{
 "cells": [
  {
   "cell_type": "markdown",
   "id": "6ad32aab",
   "metadata": {},
   "source": [
    "# Robot Performance Measurement and Failure Analysis\n",
    "\n",
    "### By Ben Toaz"
   ]
  },
  {
   "cell_type": "markdown",
   "id": "7c1ef6f0",
   "metadata": {},
   "source": [
    "## Data Collection and Preparation"
   ]
  },
  {
   "cell_type": "code",
   "execution_count": 4,
   "id": "03cedf71",
   "metadata": {},
   "outputs": [
    {
     "data": {
      "application/vnd.microsoft.datawrangler.viewer.v0+json": {
       "columns": [
        {
         "name": "index",
         "rawType": "int64",
         "type": "integer"
        },
        {
         "name": "Num",
         "rawType": "int64",
         "type": "integer"
        },
        {
         "name": "Timestamp",
         "rawType": "object",
         "type": "string"
        },
        {
         "name": "Current_J0",
         "rawType": "float64",
         "type": "float"
        },
        {
         "name": "Temperature_T0",
         "rawType": "float64",
         "type": "float"
        },
        {
         "name": "Current_J1",
         "rawType": "float64",
         "type": "float"
        },
        {
         "name": "Temperature_J1",
         "rawType": "float64",
         "type": "float"
        },
        {
         "name": "Current_J2",
         "rawType": "float64",
         "type": "float"
        },
        {
         "name": "Temperature_J2",
         "rawType": "float64",
         "type": "float"
        },
        {
         "name": "Current_J3",
         "rawType": "float64",
         "type": "float"
        },
        {
         "name": "Temperature_J3",
         "rawType": "float64",
         "type": "float"
        },
        {
         "name": "Current_J4",
         "rawType": "float64",
         "type": "float"
        },
        {
         "name": "Temperature_J4",
         "rawType": "float64",
         "type": "float"
        },
        {
         "name": "Current_J5",
         "rawType": "float64",
         "type": "float"
        },
        {
         "name": "Temperature_J5",
         "rawType": "float64",
         "type": "float"
        },
        {
         "name": "Speed_J0",
         "rawType": "float64",
         "type": "float"
        },
        {
         "name": "Speed_J1",
         "rawType": "float64",
         "type": "float"
        },
        {
         "name": "Speed_J2",
         "rawType": "float64",
         "type": "float"
        },
        {
         "name": "Speed_J3",
         "rawType": "float64",
         "type": "float"
        },
        {
         "name": "Speed_J4",
         "rawType": "float64",
         "type": "float"
        },
        {
         "name": "Speed_J5",
         "rawType": "float64",
         "type": "float"
        },
        {
         "name": "Tool_current",
         "rawType": "float64",
         "type": "float"
        },
        {
         "name": "cycle ",
         "rawType": "int64",
         "type": "integer"
        },
        {
         "name": "Robot_ProtectiveStop",
         "rawType": "float64",
         "type": "float"
        },
        {
         "name": "grip_lost",
         "rawType": "bool",
         "type": "boolean"
        }
       ],
       "ref": "33b03fb8-9bc3-4dfe-bab7-e1675cc81b66",
       "rows": [
        [
         "0",
         "1",
         "2022-10-26T08:17:21.847Z",
         "0.109627604484558",
         "27.875",
         "-2.02466869354248",
         "29.375",
         "-1.5314415693283",
         "29.375",
         "-0.998570203781127",
         "32.125",
         "-0.0625398382544517",
         "32.25",
         "-0.152622118592262",
         "32.0",
         "0.295565098524093",
         "-0.000489755475427955",
         "0.00131019437685608",
         "-0.132835566997528",
         "-0.00747852865606546",
         "-0.152962237596511",
         "0.0827318429946899",
         "1",
         "0.0",
         "False"
        ],
        [
         "1",
         "2",
         "2022-10-26T08:17:22.852Z",
         "0.595605194568634",
         "27.875",
         "-2.27845644950866",
         "29.3125",
         "-0.866556406021118",
         "29.4375",
         "-0.206096932291984",
         "32.1875",
         "-1.0627623796463",
         "32.25",
         "-0.260763853788375",
         "32.0",
         "-7.39148515616262e-30",
         "-0.000303650216665118",
         "0.00218513747677207",
         "0.00166822713799774",
         "-0.000766827317420393",
         "0.000416901602875441",
         "0.50589495897293",
         "1",
         "0.0",
         "False"
        ],
        [
         "2",
         "3",
         "2022-10-26T08:17:23.857Z",
         "-0.229473799467086",
         "27.875",
         "-2.80040836334228",
         "29.3125",
         "-2.3043360710144",
         "29.4375",
         "-0.351499497890472",
         "32.125",
         "-0.668869018554687",
         "32.3125",
         "0.0390712767839431",
         "32.0625",
         "0.136938601732254",
         "0.00779462233185768",
         "-2.53587412834167",
         "0.379866957664489",
         "0.000454562221420928",
         "-0.496855854988098",
         "0.0794200301170349",
         "1",
         "0.0",
         "False"
        ],
        [
         "3",
         "4",
         "2022-10-26T08:17:24.863Z",
         "0.065053179860115",
         "27.875",
         "-3.68776774406433",
         "29.3125",
         "-1.2176524400711",
         "29.4375",
         "-1.20911467075347",
         "32.125",
         "-0.81975507736206",
         "32.25",
         "0.153902933001518",
         "32.0",
         "-0.0903003215789794",
         "-0.00491136731579899",
         "-0.00909601431339979",
         "-0.384196132421493",
         "0.0184108391404151",
         "0.425559103488922",
         "0.0833253860473632",
         "1",
         "0.0",
         "False"
        ],
        [
         "4",
         "5",
         "2022-10-26T08:17:25.877Z",
         "0.884140253067016",
         "27.875",
         "-2.93883037567138",
         "29.375",
         "-1.79407620429992",
         "29.4375",
         "-2.35647106170654",
         "32.1875",
         "-0.966426730155944",
         "32.3125",
         "0.178997665643692",
         "32.0",
         "0.126808792352676",
         "0.00556694203987717",
         "0.00113834510557353",
         "-0.353284031152725",
         "0.014993798919022",
         "0.180988609790802",
         "0.0863787531852722",
         "1",
         "0.0",
         "False"
        ]
       ],
       "shape": {
        "columns": 24,
        "rows": 5
       }
      },
      "text/html": [
       "<div>\n",
       "<style scoped>\n",
       "    .dataframe tbody tr th:only-of-type {\n",
       "        vertical-align: middle;\n",
       "    }\n",
       "\n",
       "    .dataframe tbody tr th {\n",
       "        vertical-align: top;\n",
       "    }\n",
       "\n",
       "    .dataframe thead th {\n",
       "        text-align: right;\n",
       "    }\n",
       "</style>\n",
       "<table border=\"1\" class=\"dataframe\">\n",
       "  <thead>\n",
       "    <tr style=\"text-align: right;\">\n",
       "      <th></th>\n",
       "      <th>Num</th>\n",
       "      <th>Timestamp</th>\n",
       "      <th>Current_J0</th>\n",
       "      <th>Temperature_T0</th>\n",
       "      <th>Current_J1</th>\n",
       "      <th>Temperature_J1</th>\n",
       "      <th>Current_J2</th>\n",
       "      <th>Temperature_J2</th>\n",
       "      <th>Current_J3</th>\n",
       "      <th>Temperature_J3</th>\n",
       "      <th>...</th>\n",
       "      <th>Speed_J0</th>\n",
       "      <th>Speed_J1</th>\n",
       "      <th>Speed_J2</th>\n",
       "      <th>Speed_J3</th>\n",
       "      <th>Speed_J4</th>\n",
       "      <th>Speed_J5</th>\n",
       "      <th>Tool_current</th>\n",
       "      <th>cycle</th>\n",
       "      <th>Robot_ProtectiveStop</th>\n",
       "      <th>grip_lost</th>\n",
       "    </tr>\n",
       "  </thead>\n",
       "  <tbody>\n",
       "    <tr>\n",
       "      <th>0</th>\n",
       "      <td>1</td>\n",
       "      <td>2022-10-26T08:17:21.847Z</td>\n",
       "      <td>0.109628</td>\n",
       "      <td>27.875</td>\n",
       "      <td>-2.024669</td>\n",
       "      <td>29.3750</td>\n",
       "      <td>-1.531442</td>\n",
       "      <td>29.3750</td>\n",
       "      <td>-0.998570</td>\n",
       "      <td>32.1250</td>\n",
       "      <td>...</td>\n",
       "      <td>2.955651e-01</td>\n",
       "      <td>-0.000490</td>\n",
       "      <td>0.001310</td>\n",
       "      <td>-0.132836</td>\n",
       "      <td>-0.007479</td>\n",
       "      <td>-0.152962</td>\n",
       "      <td>0.082732</td>\n",
       "      <td>1</td>\n",
       "      <td>0.0</td>\n",
       "      <td>False</td>\n",
       "    </tr>\n",
       "    <tr>\n",
       "      <th>1</th>\n",
       "      <td>2</td>\n",
       "      <td>2022-10-26T08:17:22.852Z</td>\n",
       "      <td>0.595605</td>\n",
       "      <td>27.875</td>\n",
       "      <td>-2.278456</td>\n",
       "      <td>29.3125</td>\n",
       "      <td>-0.866556</td>\n",
       "      <td>29.4375</td>\n",
       "      <td>-0.206097</td>\n",
       "      <td>32.1875</td>\n",
       "      <td>...</td>\n",
       "      <td>-7.391485e-30</td>\n",
       "      <td>-0.000304</td>\n",
       "      <td>0.002185</td>\n",
       "      <td>0.001668</td>\n",
       "      <td>-0.000767</td>\n",
       "      <td>0.000417</td>\n",
       "      <td>0.505895</td>\n",
       "      <td>1</td>\n",
       "      <td>0.0</td>\n",
       "      <td>False</td>\n",
       "    </tr>\n",
       "    <tr>\n",
       "      <th>2</th>\n",
       "      <td>3</td>\n",
       "      <td>2022-10-26T08:17:23.857Z</td>\n",
       "      <td>-0.229474</td>\n",
       "      <td>27.875</td>\n",
       "      <td>-2.800408</td>\n",
       "      <td>29.3125</td>\n",
       "      <td>-2.304336</td>\n",
       "      <td>29.4375</td>\n",
       "      <td>-0.351499</td>\n",
       "      <td>32.1250</td>\n",
       "      <td>...</td>\n",
       "      <td>1.369386e-01</td>\n",
       "      <td>0.007795</td>\n",
       "      <td>-2.535874</td>\n",
       "      <td>0.379867</td>\n",
       "      <td>0.000455</td>\n",
       "      <td>-0.496856</td>\n",
       "      <td>0.079420</td>\n",
       "      <td>1</td>\n",
       "      <td>0.0</td>\n",
       "      <td>False</td>\n",
       "    </tr>\n",
       "    <tr>\n",
       "      <th>3</th>\n",
       "      <td>4</td>\n",
       "      <td>2022-10-26T08:17:24.863Z</td>\n",
       "      <td>0.065053</td>\n",
       "      <td>27.875</td>\n",
       "      <td>-3.687768</td>\n",
       "      <td>29.3125</td>\n",
       "      <td>-1.217652</td>\n",
       "      <td>29.4375</td>\n",
       "      <td>-1.209115</td>\n",
       "      <td>32.1250</td>\n",
       "      <td>...</td>\n",
       "      <td>-9.030032e-02</td>\n",
       "      <td>-0.004911</td>\n",
       "      <td>-0.009096</td>\n",
       "      <td>-0.384196</td>\n",
       "      <td>0.018411</td>\n",
       "      <td>0.425559</td>\n",
       "      <td>0.083325</td>\n",
       "      <td>1</td>\n",
       "      <td>0.0</td>\n",
       "      <td>False</td>\n",
       "    </tr>\n",
       "    <tr>\n",
       "      <th>4</th>\n",
       "      <td>5</td>\n",
       "      <td>2022-10-26T08:17:25.877Z</td>\n",
       "      <td>0.884140</td>\n",
       "      <td>27.875</td>\n",
       "      <td>-2.938830</td>\n",
       "      <td>29.3750</td>\n",
       "      <td>-1.794076</td>\n",
       "      <td>29.4375</td>\n",
       "      <td>-2.356471</td>\n",
       "      <td>32.1875</td>\n",
       "      <td>...</td>\n",
       "      <td>1.268088e-01</td>\n",
       "      <td>0.005567</td>\n",
       "      <td>0.001138</td>\n",
       "      <td>-0.353284</td>\n",
       "      <td>0.014994</td>\n",
       "      <td>0.180989</td>\n",
       "      <td>0.086379</td>\n",
       "      <td>1</td>\n",
       "      <td>0.0</td>\n",
       "      <td>False</td>\n",
       "    </tr>\n",
       "  </tbody>\n",
       "</table>\n",
       "<p>5 rows × 24 columns</p>\n",
       "</div>"
      ],
      "text/plain": [
       "   Num                 Timestamp  Current_J0  Temperature_T0  Current_J1  \\\n",
       "0    1  2022-10-26T08:17:21.847Z    0.109628          27.875   -2.024669   \n",
       "1    2  2022-10-26T08:17:22.852Z    0.595605          27.875   -2.278456   \n",
       "2    3  2022-10-26T08:17:23.857Z   -0.229474          27.875   -2.800408   \n",
       "3    4  2022-10-26T08:17:24.863Z    0.065053          27.875   -3.687768   \n",
       "4    5  2022-10-26T08:17:25.877Z    0.884140          27.875   -2.938830   \n",
       "\n",
       "   Temperature_J1  Current_J2  Temperature_J2  Current_J3  Temperature_J3  \\\n",
       "0         29.3750   -1.531442         29.3750   -0.998570         32.1250   \n",
       "1         29.3125   -0.866556         29.4375   -0.206097         32.1875   \n",
       "2         29.3125   -2.304336         29.4375   -0.351499         32.1250   \n",
       "3         29.3125   -1.217652         29.4375   -1.209115         32.1250   \n",
       "4         29.3750   -1.794076         29.4375   -2.356471         32.1875   \n",
       "\n",
       "   ...      Speed_J0  Speed_J1  Speed_J2  Speed_J3  Speed_J4  Speed_J5  \\\n",
       "0  ...  2.955651e-01 -0.000490  0.001310 -0.132836 -0.007479 -0.152962   \n",
       "1  ... -7.391485e-30 -0.000304  0.002185  0.001668 -0.000767  0.000417   \n",
       "2  ...  1.369386e-01  0.007795 -2.535874  0.379867  0.000455 -0.496856   \n",
       "3  ... -9.030032e-02 -0.004911 -0.009096 -0.384196  0.018411  0.425559   \n",
       "4  ...  1.268088e-01  0.005567  0.001138 -0.353284  0.014994  0.180989   \n",
       "\n",
       "   Tool_current  cycle   Robot_ProtectiveStop  grip_lost  \n",
       "0      0.082732       1                   0.0      False  \n",
       "1      0.505895       1                   0.0      False  \n",
       "2      0.079420       1                   0.0      False  \n",
       "3      0.083325       1                   0.0      False  \n",
       "4      0.086379       1                   0.0      False  \n",
       "\n",
       "[5 rows x 24 columns]"
      ]
     },
     "execution_count": 4,
     "metadata": {},
     "output_type": "execute_result"
    }
   ],
   "source": [
    "import pandas as pd \n",
    "\n",
    "df = pd.read_excel(\"cobot_dataset.xlsx\")\n",
    "df.head()"
   ]
  },
  {
   "cell_type": "code",
   "execution_count": 5,
   "id": "d7894cdf",
   "metadata": {},
   "outputs": [
    {
     "name": "stdout",
     "output_type": "stream",
     "text": [
      "<class 'pandas.core.frame.DataFrame'>\n",
      "RangeIndex: 7409 entries, 0 to 7408\n",
      "Data columns (total 24 columns):\n",
      " #   Column                Non-Null Count  Dtype  \n",
      "---  ------                --------------  -----  \n",
      " 0   Num                   7409 non-null   int64  \n",
      " 1   Timestamp             7409 non-null   object \n",
      " 2   Current_J0            7363 non-null   float64\n",
      " 3   Temperature_T0        7355 non-null   float64\n",
      " 4   Current_J1            7355 non-null   float64\n",
      " 5   Temperature_J1        7355 non-null   float64\n",
      " 6   Current_J2            7355 non-null   float64\n",
      " 7   Temperature_J2        7355 non-null   float64\n",
      " 8   Current_J3            7355 non-null   float64\n",
      " 9   Temperature_J3        7355 non-null   float64\n",
      " 10  Current_J4            7355 non-null   float64\n",
      " 11  Temperature_J4        7355 non-null   float64\n",
      " 12  Current_J5            7355 non-null   float64\n",
      " 13  Temperature_J5        7355 non-null   float64\n",
      " 14  Speed_J0              7355 non-null   float64\n",
      " 15  Speed_J1              7355 non-null   float64\n",
      " 16  Speed_J2              7355 non-null   float64\n",
      " 17  Speed_J3              7355 non-null   float64\n",
      " 18  Speed_J4              7355 non-null   float64\n",
      " 19  Speed_J5              7355 non-null   float64\n",
      " 20  Tool_current          7355 non-null   float64\n",
      " 21  cycle                 7409 non-null   int64  \n",
      " 22  Robot_ProtectiveStop  7355 non-null   float64\n",
      " 23  grip_lost             7409 non-null   bool   \n",
      "dtypes: bool(1), float64(20), int64(2), object(1)\n",
      "memory usage: 1.3+ MB\n"
     ]
    }
   ],
   "source": [
    "df.info()"
   ]
  },
  {
   "cell_type": "markdown",
   "id": "156e0bfa",
   "metadata": {},
   "source": [
    "### Advanced Data Techniques"
   ]
  },
  {
   "cell_type": "code",
   "execution_count": null,
   "id": "15f14f67",
   "metadata": {},
   "outputs": [],
   "source": []
  },
  {
   "cell_type": "markdown",
   "id": "520364e3",
   "metadata": {},
   "source": [
    "### Advanced Data Processing"
   ]
  },
  {
   "cell_type": "code",
   "execution_count": null,
   "id": "e04a43cd",
   "metadata": {},
   "outputs": [],
   "source": []
  },
  {
   "cell_type": "markdown",
   "id": "68359693",
   "metadata": {},
   "source": [
    "## Exploratory Data Analysis and Visualization \n"
   ]
  },
  {
   "cell_type": "code",
   "execution_count": null,
   "id": "7fb6bac8",
   "metadata": {},
   "outputs": [],
   "source": []
  },
  {
   "cell_type": "markdown",
   "id": "56da8c78",
   "metadata": {},
   "source": [
    "### Sophisticated Analysis and Visualization"
   ]
  },
  {
   "cell_type": "code",
   "execution_count": null,
   "id": "14fb733b",
   "metadata": {},
   "outputs": [],
   "source": []
  },
  {
   "cell_type": "markdown",
   "id": "3ee18836",
   "metadata": {},
   "source": [
    "## Data Processing"
   ]
  },
  {
   "cell_type": "code",
   "execution_count": null,
   "id": "f48194a1",
   "metadata": {},
   "outputs": [],
   "source": []
  },
  {
   "cell_type": "markdown",
   "id": "6ca582c2",
   "metadata": {},
   "source": [
    "## Streamlit App"
   ]
  },
  {
   "cell_type": "code",
   "execution_count": null,
   "id": "a05065b5",
   "metadata": {},
   "outputs": [],
   "source": []
  },
  {
   "cell_type": "markdown",
   "id": "08136a3e",
   "metadata": {},
   "source": [
    "### Enhanced App Features"
   ]
  },
  {
   "cell_type": "code",
   "execution_count": null,
   "id": "2fa988bb",
   "metadata": {},
   "outputs": [],
   "source": []
  },
  {
   "cell_type": "markdown",
   "id": "05a45c03",
   "metadata": {},
   "source": [
    "## GitHub"
   ]
  },
  {
   "cell_type": "code",
   "execution_count": null,
   "id": "e3293ef0",
   "metadata": {},
   "outputs": [],
   "source": []
  }
 ],
 "metadata": {
  "kernelspec": {
   "display_name": "cmse830",
   "language": "python",
   "name": "python3"
  },
  "language_info": {
   "codemirror_mode": {
    "name": "ipython",
    "version": 3
   },
   "file_extension": ".py",
   "mimetype": "text/x-python",
   "name": "python",
   "nbconvert_exporter": "python",
   "pygments_lexer": "ipython3",
   "version": "3.13.1"
  }
 },
 "nbformat": 4,
 "nbformat_minor": 5
}
