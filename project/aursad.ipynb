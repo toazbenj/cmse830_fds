{
 "cells": [
  {
   "cell_type": "markdown",
   "id": "58b9b5b5",
   "metadata": {},
   "source": [
    "# Robot Performance Measurement and Failure Analysis\n",
    "\n",
    "### By Ben Toaz"
   ]
  },
  {
   "cell_type": "markdown",
   "id": "4b9c8e38",
   "metadata": {},
   "source": [
    "## Data Collection and Preparation"
   ]
  },
  {
   "cell_type": "code",
   "execution_count": 3,
   "id": "04d59942",
   "metadata": {},
   "outputs": [
    {
     "name": "stdout",
     "output_type": "stream",
     "text": [
      "Loaded 75 files.\n",
      "Combined DataFrame shape: (6249074, 134)\n"
     ]
    }
   ],
   "source": [
    "import pandas as pd\n",
    "import glob\n",
    "import os\n",
    "\n",
    "# Path where the feather files are saved\n",
    "data_path = \"data/aursad\"\n",
    "\n",
    "# Get all feather files, sorted in order (important for time series)\n",
    "feather_files = sorted(glob.glob(os.path.join(data_path, \"part_*.feather\")))\n",
    "\n",
    "# Load and concatenate\n",
    "df_aursad = pd.concat([pd.read_feather(f) for f in feather_files], ignore_index=True)\n",
    "\n",
    "print(f\"Loaded {len(feather_files)} files.\")\n",
    "print(f\"Combined DataFrame shape: {df_aursad.shape}\")\n"
   ]
  },
  {
   "cell_type": "code",
   "execution_count": 4,
   "id": "8ad69b48",
   "metadata": {},
   "outputs": [
    {
     "data": {
      "application/vnd.microsoft.datawrangler.viewer.v0+json": {
       "columns": [
        {
         "name": "index",
         "rawType": "int64",
         "type": "integer"
        },
        {
         "name": "sample_nr",
         "rawType": "int32",
         "type": "integer"
        },
        {
         "name": "timestamp",
         "rawType": "float64",
         "type": "float"
        },
        {
         "name": "target_q_0",
         "rawType": "float64",
         "type": "float"
        },
        {
         "name": "target_q_1",
         "rawType": "float64",
         "type": "float"
        },
        {
         "name": "target_q_2",
         "rawType": "float64",
         "type": "float"
        },
        {
         "name": "target_q_3",
         "rawType": "float64",
         "type": "float"
        },
        {
         "name": "target_q_4",
         "rawType": "float64",
         "type": "float"
        },
        {
         "name": "target_q_5",
         "rawType": "float64",
         "type": "float"
        },
        {
         "name": "target_qd_0",
         "rawType": "float64",
         "type": "float"
        },
        {
         "name": "target_qd_1",
         "rawType": "float64",
         "type": "float"
        },
        {
         "name": "target_qd_2",
         "rawType": "float64",
         "type": "float"
        },
        {
         "name": "target_qd_3",
         "rawType": "float64",
         "type": "float"
        },
        {
         "name": "target_qd_4",
         "rawType": "float64",
         "type": "float"
        },
        {
         "name": "target_qd_5",
         "rawType": "float64",
         "type": "float"
        },
        {
         "name": "target_qdd_0",
         "rawType": "float64",
         "type": "float"
        },
        {
         "name": "target_qdd_1",
         "rawType": "float64",
         "type": "float"
        },
        {
         "name": "target_qdd_2",
         "rawType": "float64",
         "type": "float"
        },
        {
         "name": "target_qdd_3",
         "rawType": "float64",
         "type": "float"
        },
        {
         "name": "target_qdd_4",
         "rawType": "float64",
         "type": "float"
        },
        {
         "name": "target_qdd_5",
         "rawType": "float64",
         "type": "float"
        },
        {
         "name": "target_current_0",
         "rawType": "float64",
         "type": "float"
        },
        {
         "name": "target_current_1",
         "rawType": "float64",
         "type": "float"
        },
        {
         "name": "target_current_2",
         "rawType": "float64",
         "type": "float"
        },
        {
         "name": "target_current_3",
         "rawType": "float64",
         "type": "float"
        },
        {
         "name": "target_current_4",
         "rawType": "float64",
         "type": "float"
        },
        {
         "name": "target_current_5",
         "rawType": "float64",
         "type": "float"
        },
        {
         "name": "target_moment_0",
         "rawType": "float64",
         "type": "float"
        },
        {
         "name": "target_moment_1",
         "rawType": "float64",
         "type": "float"
        },
        {
         "name": "target_moment_2",
         "rawType": "float64",
         "type": "float"
        },
        {
         "name": "target_moment_3",
         "rawType": "float64",
         "type": "float"
        },
        {
         "name": "target_moment_4",
         "rawType": "float64",
         "type": "float"
        },
        {
         "name": "target_moment_5",
         "rawType": "float64",
         "type": "float"
        },
        {
         "name": "actual_q_0",
         "rawType": "float64",
         "type": "float"
        },
        {
         "name": "actual_q_1",
         "rawType": "float64",
         "type": "float"
        },
        {
         "name": "actual_q_2",
         "rawType": "float64",
         "type": "float"
        },
        {
         "name": "actual_q_3",
         "rawType": "float64",
         "type": "float"
        },
        {
         "name": "actual_q_4",
         "rawType": "float64",
         "type": "float"
        },
        {
         "name": "actual_q_5",
         "rawType": "float64",
         "type": "float"
        },
        {
         "name": "actual_qd_0",
         "rawType": "float64",
         "type": "float"
        },
        {
         "name": "actual_qd_1",
         "rawType": "float64",
         "type": "float"
        },
        {
         "name": "actual_qd_2",
         "rawType": "float64",
         "type": "float"
        },
        {
         "name": "actual_qd_3",
         "rawType": "float64",
         "type": "float"
        },
        {
         "name": "actual_qd_4",
         "rawType": "float64",
         "type": "float"
        },
        {
         "name": "actual_qd_5",
         "rawType": "float64",
         "type": "float"
        },
        {
         "name": "actual_current_0",
         "rawType": "float64",
         "type": "float"
        },
        {
         "name": "actual_current_1",
         "rawType": "float64",
         "type": "float"
        },
        {
         "name": "actual_current_2",
         "rawType": "float64",
         "type": "float"
        },
        {
         "name": "actual_current_3",
         "rawType": "float64",
         "type": "float"
        },
        {
         "name": "actual_current_4",
         "rawType": "float64",
         "type": "float"
        },
        {
         "name": "actual_current_5",
         "rawType": "float64",
         "type": "float"
        },
        {
         "name": "joint_control_output_0",
         "rawType": "float64",
         "type": "float"
        },
        {
         "name": "joint_control_output_1",
         "rawType": "float64",
         "type": "float"
        },
        {
         "name": "joint_control_output_2",
         "rawType": "float64",
         "type": "float"
        },
        {
         "name": "joint_control_output_3",
         "rawType": "float64",
         "type": "float"
        },
        {
         "name": "joint_control_output_4",
         "rawType": "float64",
         "type": "float"
        },
        {
         "name": "joint_control_output_5",
         "rawType": "float64",
         "type": "float"
        },
        {
         "name": "actual_TCP_pose_0",
         "rawType": "float64",
         "type": "float"
        },
        {
         "name": "actual_TCP_pose_1",
         "rawType": "float64",
         "type": "float"
        },
        {
         "name": "actual_TCP_pose_2",
         "rawType": "float64",
         "type": "float"
        },
        {
         "name": "actual_TCP_pose_3",
         "rawType": "float64",
         "type": "float"
        },
        {
         "name": "actual_TCP_pose_4",
         "rawType": "float64",
         "type": "float"
        },
        {
         "name": "actual_TCP_pose_5",
         "rawType": "float64",
         "type": "float"
        },
        {
         "name": "actual_TCP_speed_0",
         "rawType": "float64",
         "type": "float"
        },
        {
         "name": "actual_TCP_speed_1",
         "rawType": "float64",
         "type": "float"
        },
        {
         "name": "actual_TCP_speed_2",
         "rawType": "float64",
         "type": "float"
        },
        {
         "name": "actual_TCP_speed_3",
         "rawType": "float64",
         "type": "float"
        },
        {
         "name": "actual_TCP_speed_4",
         "rawType": "float64",
         "type": "float"
        },
        {
         "name": "actual_TCP_speed_5",
         "rawType": "float64",
         "type": "float"
        },
        {
         "name": "actual_TCP_force_0",
         "rawType": "float64",
         "type": "float"
        },
        {
         "name": "actual_TCP_force_1",
         "rawType": "float64",
         "type": "float"
        },
        {
         "name": "actual_TCP_force_2",
         "rawType": "float64",
         "type": "float"
        },
        {
         "name": "actual_TCP_force_3",
         "rawType": "float64",
         "type": "float"
        },
        {
         "name": "actual_TCP_force_4",
         "rawType": "float64",
         "type": "float"
        },
        {
         "name": "actual_TCP_force_5",
         "rawType": "float64",
         "type": "float"
        },
        {
         "name": "target_TCP_pose_0",
         "rawType": "float64",
         "type": "float"
        },
        {
         "name": "target_TCP_pose_1",
         "rawType": "float64",
         "type": "float"
        },
        {
         "name": "target_TCP_pose_2",
         "rawType": "float64",
         "type": "float"
        },
        {
         "name": "target_TCP_pose_3",
         "rawType": "float64",
         "type": "float"
        },
        {
         "name": "target_TCP_pose_4",
         "rawType": "float64",
         "type": "float"
        },
        {
         "name": "target_TCP_pose_5",
         "rawType": "float64",
         "type": "float"
        },
        {
         "name": "target_TCP_speed_0",
         "rawType": "float64",
         "type": "float"
        },
        {
         "name": "target_TCP_speed_1",
         "rawType": "float64",
         "type": "float"
        },
        {
         "name": "target_TCP_speed_2",
         "rawType": "float64",
         "type": "float"
        },
        {
         "name": "target_TCP_speed_3",
         "rawType": "float64",
         "type": "float"
        },
        {
         "name": "target_TCP_speed_4",
         "rawType": "float64",
         "type": "float"
        },
        {
         "name": "target_TCP_speed_5",
         "rawType": "float64",
         "type": "float"
        },
        {
         "name": "actual_digital_input_bits",
         "rawType": "int64",
         "type": "integer"
        },
        {
         "name": "joint_temperatures_0",
         "rawType": "float64",
         "type": "float"
        },
        {
         "name": "joint_temperatures_1",
         "rawType": "float64",
         "type": "float"
        },
        {
         "name": "joint_temperatures_2",
         "rawType": "float64",
         "type": "float"
        },
        {
         "name": "joint_temperatures_3",
         "rawType": "float64",
         "type": "float"
        },
        {
         "name": "joint_temperatures_4",
         "rawType": "float64",
         "type": "float"
        },
        {
         "name": "joint_temperatures_5",
         "rawType": "float64",
         "type": "float"
        },
        {
         "name": "actual_execution_time",
         "rawType": "float64",
         "type": "float"
        },
        {
         "name": "robot_mode",
         "rawType": "int64",
         "type": "integer"
        },
        {
         "name": "joint_mode_0",
         "rawType": "int64",
         "type": "integer"
        },
        {
         "name": "joint_mode_1",
         "rawType": "int64",
         "type": "integer"
        },
        {
         "name": "joint_mode_2",
         "rawType": "int64",
         "type": "integer"
        },
        {
         "name": "joint_mode_3",
         "rawType": "int64",
         "type": "integer"
        },
        {
         "name": "joint_mode_4",
         "rawType": "int64",
         "type": "integer"
        },
        {
         "name": "joint_mode_5",
         "rawType": "int64",
         "type": "integer"
        },
        {
         "name": "safety_mode",
         "rawType": "int64",
         "type": "integer"
        },
        {
         "name": "actual_tool_accelerometer_0",
         "rawType": "float64",
         "type": "float"
        },
        {
         "name": "actual_tool_accelerometer_1",
         "rawType": "float64",
         "type": "float"
        },
        {
         "name": "actual_tool_accelerometer_2",
         "rawType": "float64",
         "type": "float"
        },
        {
         "name": "speed_scaling",
         "rawType": "float64",
         "type": "float"
        },
        {
         "name": "target_speed_fraction",
         "rawType": "float64",
         "type": "float"
        },
        {
         "name": "actual_momentum",
         "rawType": "float64",
         "type": "float"
        },
        {
         "name": "actual_main_voltage",
         "rawType": "float64",
         "type": "float"
        },
        {
         "name": "actual_robot_voltage",
         "rawType": "float64",
         "type": "float"
        },
        {
         "name": "actual_robot_current",
         "rawType": "float64",
         "type": "float"
        },
        {
         "name": "actual_joint_voltage_0",
         "rawType": "float64",
         "type": "float"
        },
        {
         "name": "actual_joint_voltage_1",
         "rawType": "float64",
         "type": "float"
        },
        {
         "name": "actual_joint_voltage_2",
         "rawType": "float64",
         "type": "float"
        },
        {
         "name": "actual_joint_voltage_3",
         "rawType": "float64",
         "type": "float"
        },
        {
         "name": "actual_joint_voltage_4",
         "rawType": "float64",
         "type": "float"
        },
        {
         "name": "actual_joint_voltage_5",
         "rawType": "float64",
         "type": "float"
        },
        {
         "name": "actual_digital_output_bits",
         "rawType": "int64",
         "type": "integer"
        },
        {
         "name": "runtime_state",
         "rawType": "int64",
         "type": "integer"
        },
        {
         "name": "output_int_register_24",
         "rawType": "int64",
         "type": "integer"
        },
        {
         "name": "output_int_register_25",
         "rawType": "int64",
         "type": "integer"
        },
        {
         "name": "output_int_register_26",
         "rawType": "int64",
         "type": "integer"
        },
        {
         "name": "output_double_register_24",
         "rawType": "float64",
         "type": "float"
        },
        {
         "name": "output_double_register_25",
         "rawType": "float64",
         "type": "float"
        },
        {
         "name": "output_double_register_26",
         "rawType": "float64",
         "type": "float"
        },
        {
         "name": "output_double_register_27",
         "rawType": "float64",
         "type": "float"
        },
        {
         "name": "output_bit_register_64",
         "rawType": "bool",
         "type": "boolean"
        },
        {
         "name": "output_bit_register_65",
         "rawType": "bool",
         "type": "boolean"
        },
        {
         "name": "output_bit_register_66",
         "rawType": "bool",
         "type": "boolean"
        },
        {
         "name": "output_bit_register_67",
         "rawType": "bool",
         "type": "boolean"
        },
        {
         "name": "output_bit_register_70",
         "rawType": "bool",
         "type": "boolean"
        },
        {
         "name": "output_bit_register_71",
         "rawType": "bool",
         "type": "boolean"
        },
        {
         "name": "output_bit_register_72",
         "rawType": "bool",
         "type": "boolean"
        },
        {
         "name": "label",
         "rawType": "int64",
         "type": "integer"
        }
       ],
       "conversionMethod": "pd.DataFrame",
       "ref": "cb0049cf-5ea4-41d3-a107-7d4fdb1a82b5",
       "rows": [
        [
         "0",
         "1",
         "21182.84",
         "0.1282922605501789",
         "-0.4303947262133985",
         "0.3420495933916128",
         "0.08879945861848171",
         "2.172628496889713",
         "-1.5721944259178997",
         "0.0",
         "0.0",
         "0.0",
         "0.0",
         "0.0",
         "0.0",
         "0.0",
         "0.0",
         "0.0",
         "0.0",
         "0.0",
         "0.0",
         "-8.360321417768191e-18",
         "-1.7006182852861556",
         "-0.8361742358575529",
         "-0.07608500137015774",
         "2.522301639903745e-05",
         "0.0",
         "-8.68996155888941e-17",
         "-17.875239836594087",
         "-6.833621095821399",
         "-0.29153082510441697",
         "9.624704240166043e-05",
         "0.0",
         "0.12828779220581055",
         "-0.4304312032512208",
         "0.3420503775226038",
         "0.08877675115551753",
         "2.172592639923096",
         "-1.5722301642047327",
         "0.0",
         "0.0",
         "-0.0",
         "-0.0",
         "0.0",
         "0.0",
         "0.06153025850653648",
         "-3.347223281860352",
         "-1.7774875164031982",
         "-1.0078161954879759",
         "-0.009091024287045002",
         "0.013676426373422146",
         "-8.360321417768191e-18",
         "-1.7006182852861556",
         "-0.8361742358575529",
         "-0.07608500137015774",
         "2.522301639903745e-05",
         "0.0",
         "-0.5805109899725013",
         "-0.09857503186413323",
         "0.03408889663710102",
         "-3.047141865962961",
         "0.7342139671453775",
         "0.0036373676085177256",
         "0.0",
         "0.0",
         "0.0",
         "0.0",
         "0.0",
         "0.0",
         "0.7247351571147542",
         "0.06242645762222515",
         "-0.6544326505623199",
         "-0.01682225203523513",
         "0.008586265947139779",
         "-0.003977738553051465",
         "-0.5805005194299138",
         "-0.09857523790238794",
         "0.03406422131584168",
         "-3.0471440020155103",
         "0.7342648979211912",
         "0.0035651463603874117",
         "0.0",
         "0.0",
         "0.0",
         "0.0",
         "0.0",
         "0.0",
         "0",
         "34.5625",
         "37.8125",
         "39.375",
         "42.5",
         "44.25",
         "43.25",
         "0.592799",
         "7",
         "253",
         "253",
         "253",
         "253",
         "253",
         "253",
         "1",
         "-9.59596061706543",
         "0.019153613597154617",
         "0.1915361285209656",
         "0.0",
         "1.0",
         "0.0",
         "47.94660949707031",
         "48.00571823120117",
         "0.8851262927055359",
         "47.71392822265625",
         "47.78559112548828",
         "47.81425476074219",
         "47.5992660522461",
         "47.65659713745117",
         "47.71392822265625",
         "0",
         "1",
         "0",
         "0",
         "0",
         "0.0",
         "0.13500000536441806",
         "0.5",
         "0.0",
         "False",
         "False",
         "False",
         "False",
         "True",
         "False",
         "False",
         "5"
        ],
        [
         "1",
         "1",
         "21182.85",
         "0.1282922605501789",
         "-0.4303947262133985",
         "0.3420495933916128",
         "0.08879945861848171",
         "2.172628496889713",
         "-1.5721944259178997",
         "0.0",
         "0.0",
         "0.0",
         "0.0",
         "0.0",
         "0.0",
         "0.0",
         "0.0",
         "0.0",
         "0.0",
         "0.0",
         "0.0",
         "-2.5159446087278887e-17",
         "-1.7005926611696054",
         "-0.8361708553111922",
         "-0.07608500137015778",
         "2.5223016399035635e-05",
         "0.0",
         "-2.6151460980524024e-16",
         "-17.874970500886658",
         "-6.8335934683582025",
         "-0.29153082510441714",
         "9.624704240165348e-05",
         "0.0",
         "0.12828779220581055",
         "-0.4304073613933106",
         "0.3420503775226038",
         "0.08881299077954098",
         "2.172592639923096",
         "-1.5722182432757776",
         "0.0",
         "0.0",
         "-0.0",
         "-0.0",
         "0.0",
         "0.0",
         "0.07222571969032288",
         "-3.3483827114105225",
         "-1.7778513431549072",
         "-1.0133883953094482",
         "-0.006479968316853046",
         "0.02151408977806568",
         "-2.5159446087278887e-17",
         "-1.7005926611696054",
         "-0.8361708553111922",
         "-0.07608500137015778",
         "2.5223016399035635e-05",
         "0.0",
         "-0.5805004842820229",
         "-0.09857513686006167",
         "0.03406926475762395",
         "-3.0471323773693166",
         "0.7342116508216155",
         "0.003553780608505483",
         "0.0",
         "0.0",
         "0.0",
         "0.0",
         "0.0",
         "0.0",
         "0.6819984161192737",
         "0.1262203731343549",
         "-0.6117871290877359",
         "-0.015006264609520668",
         "0.006064606659391741",
         "-0.0017975047797918297",
         "-0.5805005194299138",
         "-0.09857523790238794",
         "0.03406422131584168",
         "-3.0471440020155103",
         "0.7342648979211912",
         "0.0035651463603874117",
         "0.0",
         "0.0",
         "0.0",
         "0.0",
         "0.0",
         "0.0",
         "0",
         "34.5625",
         "37.8125",
         "39.375",
         "42.5",
         "44.25",
         "43.25",
         "0.592463",
         "7",
         "253",
         "253",
         "253",
         "253",
         "253",
         "253",
         "1",
         "-9.53849983215332",
         "0.038307227194309235",
         "0.1915361285209656",
         "0.0",
         "1.0",
         "0.0",
         "47.89286804199219",
         "47.94839859008789",
         "0.8672236800193787",
         "47.65659713745117",
         "47.71392822265625",
         "47.7282600402832",
         "47.51326370239258",
         "47.5992660522461",
         "47.68526077270508",
         "0",
         "1",
         "0",
         "0",
         "0",
         "0.0",
         "0.13500000536441806",
         "0.5",
         "0.0",
         "False",
         "False",
         "False",
         "False",
         "True",
         "False",
         "False",
         "5"
        ],
        [
         "2",
         "1",
         "21182.86",
         "0.1282922605501789",
         "-0.4303947262133985",
         "0.3420495933916128",
         "0.08879945861848171",
         "2.172628496889713",
         "-1.5721944259178997",
         "0.0",
         "0.0",
         "0.0",
         "0.0",
         "0.0",
         "0.0",
         "0.0",
         "0.0",
         "0.0",
         "0.0",
         "0.0",
         "0.0",
         "-1.4007739013904004e-17",
         "-1.7005976587666949",
         "-0.8361772829603034",
         "-0.07610231747023123",
         "2.206446843615556e-05",
         "0.0",
         "-1.4560051877799267e-16",
         "-17.87502303075027",
         "-6.8336459982218125",
         "-0.2915971742777245",
         "8.419452279410179e-05",
         "0.0",
         "0.12832403182983398",
         "-0.4304192823222657",
         "0.3420503775226038",
         "0.08883683263745112",
         "2.1726527214050293",
         "-1.5721820036517542",
         "0.0",
         "0.0",
         "-0.0",
         "-0.0",
         "0.0",
         "0.0",
         "0.04695973545312882",
         "-3.346940755844116",
         "-1.779716968536377",
         "-1.0207706689834597",
         "-0.004481555428355932",
         "0.025733022019267082",
         "-1.4007739013904004e-17",
         "-1.7005976587666949",
         "-0.8361772829603034",
         "-0.07610231747023123",
         "2.206446843615556e-05",
         "0.0",
         "-0.5804900506534882",
         "-0.09859052344614397",
         "0.03407261556595986",
         "-3.047153803344861",
         "0.7342552454764625",
         "0.0035500714106764717",
         "0.0",
         "0.0",
         "0.0",
         "0.0",
         "0.0",
         "0.0",
         "0.8161249765206687",
         "0.015648205112573862",
         "-0.6069792187894499",
         "-0.013771149810142588",
         "0.007101071367876168",
         "-0.00408296086993988",
         "-0.5805005194299138",
         "-0.09857523790238794",
         "0.03406422131584168",
         "-3.0471440020155103",
         "0.7342648979211912",
         "0.0035651463603874117",
         "0.0",
         "0.0",
         "0.0",
         "0.0",
         "0.0",
         "0.0",
         "0",
         "34.5625",
         "37.8125",
         "39.375",
         "42.5",
         "44.25",
         "43.25",
         "0.626951",
         "7",
         "253",
         "253",
         "253",
         "253",
         "253",
         "253",
         "1",
         "-9.653421401977539",
         "0.1149216815829277",
         "0.2298433631658554",
         "0.0",
         "1.0",
         "0.0",
         "47.9269027709961",
         "47.97616577148438",
         "0.8851262927055359",
         "47.71392822265625",
         "47.75692367553711",
         "47.75692367553711",
         "47.5992660522461",
         "47.64226531982422",
         "47.71392822265625",
         "0",
         "1",
         "0",
         "0",
         "0",
         "0.0",
         "0.13500000536441806",
         "0.5",
         "0.0",
         "False",
         "False",
         "False",
         "False",
         "True",
         "False",
         "False",
         "5"
        ],
        [
         "3",
         "1",
         "21182.87",
         "0.1282922605501789",
         "-0.4303947262133985",
         "0.3420495933916128",
         "0.08879945861848171",
         "2.172628496889713",
         "-1.5721944259178997",
         "0.0",
         "0.0",
         "0.0",
         "0.0",
         "0.0",
         "0.0",
         "0.0",
         "0.0",
         "0.0",
         "0.0",
         "0.0",
         "0.0",
         "9.286275580104588e-17",
         "-1.7006117695684695",
         "-0.8361732493572681",
         "-0.07608109529473618",
         "2.585006410513192e-05",
         "0.0",
         "9.652425281742897e-16",
         "-17.875171349728245",
         "-6.833613033662977",
         "-0.29151585840440963",
         "9.863975730147872e-05",
         "0.0",
         "0.12827587127685547",
         "-0.4303954404643555",
         "0.3420627752887171",
         "0.08881299077954098",
         "2.172640323638916",
         "-1.5722420851336878",
         "0.0",
         "0.0",
         "-0.0",
         "-0.0",
         "0.0",
         "0.0",
         "0.03082937002182007",
         "-3.359189510345459",
         "-1.769967555999756",
         "-1.0267075300216677",
         "-0.01072179339826107",
         "0.013379748910665512",
         "9.286275580104588e-17",
         "-1.7006117695684695",
         "-0.8361732493572681",
         "-0.07608109529473618",
         "2.585006410513192e-05",
         "0.0",
         "-0.5804918187465411",
         "-0.09855648039085448",
         "0.034057773705375216",
         "-3.047079592140612",
         "0.7342949285198703",
         "0.0035094803730003955",
         "0.0",
         "0.0",
         "0.0",
         "0.0",
         "0.0",
         "0.0",
         "0.8236334620558972",
         "-0.03790663256105031",
         "-0.7007182956219611",
         "-0.0162708048563454",
         "0.009696114708286649",
         "-0.004544918894137946",
         "-0.5805005194299138",
         "-0.09857523790238794",
         "0.03406422131584168",
         "-3.0471440020155103",
         "0.7342648979211912",
         "0.0035651463603874117",
         "0.0",
         "0.0",
         "0.0",
         "0.0",
         "0.0",
         "0.0",
         "0",
         "34.5625",
         "37.8125",
         "39.375",
         "42.5",
         "44.25",
         "43.25",
         "0.5946600000000001",
         "7",
         "253",
         "253",
         "253",
         "253",
         "253",
         "253",
         "1",
         "-9.519346237182617",
         "0.038307227194309235",
         "0.13407529890537262",
         "0.0",
         "1.0",
         "0.0",
         "47.934959411621094",
         "47.98332595825195",
         "0.8515569567680359",
         "47.68526077270508",
         "47.77125930786133",
         "47.7282600402832",
         "47.54193115234375",
         "47.5992660522461",
         "47.71392822265625",
         "0",
         "1",
         "0",
         "0",
         "0",
         "0.0",
         "0.13500000536441806",
         "0.5",
         "0.0",
         "False",
         "False",
         "False",
         "False",
         "True",
         "False",
         "False",
         "5"
        ],
        [
         "4",
         "1",
         "21182.88",
         "0.1282922605501789",
         "-0.4303947262133985",
         "0.3420495933916128",
         "0.08879945861848171",
         "2.172628496889713",
         "-1.5721944259178997",
         "0.0",
         "0.0",
         "0.0",
         "0.0",
         "0.0",
         "0.0",
         "0.0",
         "0.0",
         "0.0",
         "0.0",
         "0.0",
         "0.0",
         "-1.989219351862381e-17",
         "-1.7005910386220957",
         "-0.8361761629195463",
         "-0.07609624979823508",
         "2.274278146070737e-05",
         "0.0",
         "-2.0676525262706463e-16",
         "-17.874953446250622",
         "-6.833636844705932",
         "-0.2915739251038841",
         "8.678285804325653e-05",
         "0.0",
         "0.12827587127685547",
         "-0.4303954404643555",
         "0.3420503775226038",
         "0.08881299077954098",
         "2.1726527214050293",
         "-1.5722301642047327",
         "0.0",
         "0.0",
         "-0.0",
         "-0.0",
         "0.0",
         "0.0",
         "0.06596508622169495",
         "-3.3335049152374268",
         "-1.7826588153839111",
         "-1.0081648826599119",
         "-0.017837446182966232",
         "0.03221182152628898",
         "-1.989219351862381e-17",
         "-1.7005910386220957",
         "-0.8361761629195463",
         "-0.07609624979823508",
         "2.274278146070737e-05",
         "0.0",
         "-0.5804942859040007",
         "-0.09855637815432401",
         "0.03406232268484238",
         "-3.0470905859886783",
         "0.7343176420137293",
         "0.003532055275711075",
         "0.0",
         "0.0",
         "0.0",
         "0.0",
         "0.0",
         "0.0",
         "0.9395591342844852",
         "-0.05000876656599757",
         "-0.6247946171537596",
         "-0.013552171051979476",
         "0.008451116075225246",
         "-0.0037353305903000187",
         "-0.5805005194299138",
         "-0.09857523790238794",
         "0.03406422131584168",
         "-3.0471440020155103",
         "0.7342648979211912",
         "0.0035651463603874117",
         "0.0",
         "0.0",
         "0.0",
         "0.0",
         "0.0",
         "0.0",
         "0",
         "34.5625",
         "37.8125",
         "39.375",
         "42.5",
         "44.25",
         "43.25",
         "0.589176",
         "7",
         "253",
         "253",
         "253",
         "253",
         "253",
         "253",
         "1",
         "-9.53849983215332",
         "0.07661445438861847",
         "0.1915361285209656",
         "0.0",
         "1.0",
         "0.0",
         "47.929588317871094",
         "47.98691177368164",
         "0.9343623518943788",
         "47.71392822265625",
         "47.79992294311523",
         "47.75692367553711",
         "47.58493041992188",
         "47.6279296875",
         "47.71392822265625",
         "0",
         "1",
         "0",
         "0",
         "0",
         "0.0",
         "0.13500000536441806",
         "0.5",
         "0.0",
         "False",
         "False",
         "False",
         "False",
         "True",
         "False",
         "False",
         "5"
        ]
       ],
       "shape": {
        "columns": 134,
        "rows": 5
       }
      },
      "text/html": [
       "<div>\n",
       "<style scoped>\n",
       "    .dataframe tbody tr th:only-of-type {\n",
       "        vertical-align: middle;\n",
       "    }\n",
       "\n",
       "    .dataframe tbody tr th {\n",
       "        vertical-align: top;\n",
       "    }\n",
       "\n",
       "    .dataframe thead th {\n",
       "        text-align: right;\n",
       "    }\n",
       "</style>\n",
       "<table border=\"1\" class=\"dataframe\">\n",
       "  <thead>\n",
       "    <tr style=\"text-align: right;\">\n",
       "      <th></th>\n",
       "      <th>sample_nr</th>\n",
       "      <th>timestamp</th>\n",
       "      <th>target_q_0</th>\n",
       "      <th>target_q_1</th>\n",
       "      <th>target_q_2</th>\n",
       "      <th>target_q_3</th>\n",
       "      <th>target_q_4</th>\n",
       "      <th>target_q_5</th>\n",
       "      <th>target_qd_0</th>\n",
       "      <th>target_qd_1</th>\n",
       "      <th>...</th>\n",
       "      <th>output_double_register_26</th>\n",
       "      <th>output_double_register_27</th>\n",
       "      <th>output_bit_register_64</th>\n",
       "      <th>output_bit_register_65</th>\n",
       "      <th>output_bit_register_66</th>\n",
       "      <th>output_bit_register_67</th>\n",
       "      <th>output_bit_register_70</th>\n",
       "      <th>output_bit_register_71</th>\n",
       "      <th>output_bit_register_72</th>\n",
       "      <th>label</th>\n",
       "    </tr>\n",
       "  </thead>\n",
       "  <tbody>\n",
       "    <tr>\n",
       "      <th>0</th>\n",
       "      <td>1</td>\n",
       "      <td>21182.84</td>\n",
       "      <td>0.128292</td>\n",
       "      <td>-0.430395</td>\n",
       "      <td>0.34205</td>\n",
       "      <td>0.088799</td>\n",
       "      <td>2.172628</td>\n",
       "      <td>-1.572194</td>\n",
       "      <td>0.0</td>\n",
       "      <td>0.0</td>\n",
       "      <td>...</td>\n",
       "      <td>0.5</td>\n",
       "      <td>0.0</td>\n",
       "      <td>False</td>\n",
       "      <td>False</td>\n",
       "      <td>False</td>\n",
       "      <td>False</td>\n",
       "      <td>True</td>\n",
       "      <td>False</td>\n",
       "      <td>False</td>\n",
       "      <td>5</td>\n",
       "    </tr>\n",
       "    <tr>\n",
       "      <th>1</th>\n",
       "      <td>1</td>\n",
       "      <td>21182.85</td>\n",
       "      <td>0.128292</td>\n",
       "      <td>-0.430395</td>\n",
       "      <td>0.34205</td>\n",
       "      <td>0.088799</td>\n",
       "      <td>2.172628</td>\n",
       "      <td>-1.572194</td>\n",
       "      <td>0.0</td>\n",
       "      <td>0.0</td>\n",
       "      <td>...</td>\n",
       "      <td>0.5</td>\n",
       "      <td>0.0</td>\n",
       "      <td>False</td>\n",
       "      <td>False</td>\n",
       "      <td>False</td>\n",
       "      <td>False</td>\n",
       "      <td>True</td>\n",
       "      <td>False</td>\n",
       "      <td>False</td>\n",
       "      <td>5</td>\n",
       "    </tr>\n",
       "    <tr>\n",
       "      <th>2</th>\n",
       "      <td>1</td>\n",
       "      <td>21182.86</td>\n",
       "      <td>0.128292</td>\n",
       "      <td>-0.430395</td>\n",
       "      <td>0.34205</td>\n",
       "      <td>0.088799</td>\n",
       "      <td>2.172628</td>\n",
       "      <td>-1.572194</td>\n",
       "      <td>0.0</td>\n",
       "      <td>0.0</td>\n",
       "      <td>...</td>\n",
       "      <td>0.5</td>\n",
       "      <td>0.0</td>\n",
       "      <td>False</td>\n",
       "      <td>False</td>\n",
       "      <td>False</td>\n",
       "      <td>False</td>\n",
       "      <td>True</td>\n",
       "      <td>False</td>\n",
       "      <td>False</td>\n",
       "      <td>5</td>\n",
       "    </tr>\n",
       "    <tr>\n",
       "      <th>3</th>\n",
       "      <td>1</td>\n",
       "      <td>21182.87</td>\n",
       "      <td>0.128292</td>\n",
       "      <td>-0.430395</td>\n",
       "      <td>0.34205</td>\n",
       "      <td>0.088799</td>\n",
       "      <td>2.172628</td>\n",
       "      <td>-1.572194</td>\n",
       "      <td>0.0</td>\n",
       "      <td>0.0</td>\n",
       "      <td>...</td>\n",
       "      <td>0.5</td>\n",
       "      <td>0.0</td>\n",
       "      <td>False</td>\n",
       "      <td>False</td>\n",
       "      <td>False</td>\n",
       "      <td>False</td>\n",
       "      <td>True</td>\n",
       "      <td>False</td>\n",
       "      <td>False</td>\n",
       "      <td>5</td>\n",
       "    </tr>\n",
       "    <tr>\n",
       "      <th>4</th>\n",
       "      <td>1</td>\n",
       "      <td>21182.88</td>\n",
       "      <td>0.128292</td>\n",
       "      <td>-0.430395</td>\n",
       "      <td>0.34205</td>\n",
       "      <td>0.088799</td>\n",
       "      <td>2.172628</td>\n",
       "      <td>-1.572194</td>\n",
       "      <td>0.0</td>\n",
       "      <td>0.0</td>\n",
       "      <td>...</td>\n",
       "      <td>0.5</td>\n",
       "      <td>0.0</td>\n",
       "      <td>False</td>\n",
       "      <td>False</td>\n",
       "      <td>False</td>\n",
       "      <td>False</td>\n",
       "      <td>True</td>\n",
       "      <td>False</td>\n",
       "      <td>False</td>\n",
       "      <td>5</td>\n",
       "    </tr>\n",
       "  </tbody>\n",
       "</table>\n",
       "<p>5 rows × 134 columns</p>\n",
       "</div>"
      ],
      "text/plain": [
       "   sample_nr  timestamp  target_q_0  target_q_1  target_q_2  target_q_3  \\\n",
       "0          1   21182.84    0.128292   -0.430395     0.34205    0.088799   \n",
       "1          1   21182.85    0.128292   -0.430395     0.34205    0.088799   \n",
       "2          1   21182.86    0.128292   -0.430395     0.34205    0.088799   \n",
       "3          1   21182.87    0.128292   -0.430395     0.34205    0.088799   \n",
       "4          1   21182.88    0.128292   -0.430395     0.34205    0.088799   \n",
       "\n",
       "   target_q_4  target_q_5  target_qd_0  target_qd_1  ...  \\\n",
       "0    2.172628   -1.572194          0.0          0.0  ...   \n",
       "1    2.172628   -1.572194          0.0          0.0  ...   \n",
       "2    2.172628   -1.572194          0.0          0.0  ...   \n",
       "3    2.172628   -1.572194          0.0          0.0  ...   \n",
       "4    2.172628   -1.572194          0.0          0.0  ...   \n",
       "\n",
       "   output_double_register_26  output_double_register_27  \\\n",
       "0                        0.5                        0.0   \n",
       "1                        0.5                        0.0   \n",
       "2                        0.5                        0.0   \n",
       "3                        0.5                        0.0   \n",
       "4                        0.5                        0.0   \n",
       "\n",
       "   output_bit_register_64  output_bit_register_65  output_bit_register_66  \\\n",
       "0                   False                   False                   False   \n",
       "1                   False                   False                   False   \n",
       "2                   False                   False                   False   \n",
       "3                   False                   False                   False   \n",
       "4                   False                   False                   False   \n",
       "\n",
       "   output_bit_register_67  output_bit_register_70  output_bit_register_71  \\\n",
       "0                   False                    True                   False   \n",
       "1                   False                    True                   False   \n",
       "2                   False                    True                   False   \n",
       "3                   False                    True                   False   \n",
       "4                   False                    True                   False   \n",
       "\n",
       "   output_bit_register_72  label  \n",
       "0                   False      5  \n",
       "1                   False      5  \n",
       "2                   False      5  \n",
       "3                   False      5  \n",
       "4                   False      5  \n",
       "\n",
       "[5 rows x 134 columns]"
      ]
     },
     "execution_count": 4,
     "metadata": {},
     "output_type": "execute_result"
    }
   ],
   "source": [
    "df_aursad.head()\n"
   ]
  },
  {
   "cell_type": "code",
   "execution_count": 5,
   "id": "4c72d9c6",
   "metadata": {},
   "outputs": [
    {
     "name": "stdout",
     "output_type": "stream",
     "text": [
      "<class 'pandas.core.frame.DataFrame'>\n",
      "RangeIndex: 6249074 entries, 0 to 6249073\n",
      "Columns: 134 entries, sample_nr to label\n",
      "dtypes: bool(7), float64(111), int32(1), int64(15)\n",
      "memory usage: 5.9 GB\n"
     ]
    }
   ],
   "source": [
    "df_aursad.info()"
   ]
  }
 ],
 "metadata": {
  "kernelspec": {
   "display_name": ".venv",
   "language": "python",
   "name": "python3"
  },
  "language_info": {
   "codemirror_mode": {
    "name": "ipython",
    "version": 3
   },
   "file_extension": ".py",
   "mimetype": "text/x-python",
   "name": "python",
   "nbconvert_exporter": "python",
   "pygments_lexer": "ipython3",
   "version": "3.13.1"
  }
 },
 "nbformat": 4,
 "nbformat_minor": 5
}
